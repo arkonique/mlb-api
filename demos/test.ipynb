{
 "cells": [
  {
   "cell_type": "code",
   "execution_count": 1,
   "id": "b1fd3178",
   "metadata": {},
   "outputs": [],
   "source": [
    "import sys\n",
    "sys.path.append('../')\n",
    "from mlb_analytics import *\n",
    "import json\n",
    "import pandas as pd\n",
    "import numpy as np\n",
    "import plotly.express as px \n",
    "import plotly.graph_objects as go"
   ]
  },
  {
   "cell_type": "code",
   "execution_count": 3,
   "id": "635df346",
   "metadata": {},
   "outputs": [],
   "source": [
    "power = pd.read_csv(\"../data/power_rankings_2025.csv\")\n",
    "standings = pd.read_csv(\"../data/standings_2025.csv\")\n",
    "odds = pd.read_csv(\"../data/odds_2025.csv\")\n",
    "pitching = pd.read_csv(\"../data/pitching_stats_2025.csv\")\n",
    "batting = pd.read_csv(\"../data/batting_stats_2025.csv\")\n",
    "fielding = pd.read_csv(\"../data/fielding_stats_2025.csv\")\n",
    "\n",
    "teams = json.load(open(\"../data/teams_2025.json\"))\n",
    "tms = json.load(open(\"../data/tms_2025.json\"))"
   ]
  },
  {
   "cell_type": "code",
   "execution_count": 6,
   "id": "47257879",
   "metadata": {},
   "outputs": [
    {
     "data": {
      "application/vnd.plotly.v1+json": {
       "config": {
        "plotlyServerURL": "https://plot.ly"
       },
       "data": [
        {
         "hovertemplate": "Team=Toronto Blue Jays — Power Rank<br>date=%{x}<br>Rank=%{y}<extra></extra>",
         "legendgroup": "Toronto Blue Jays — Power Rank",
         "line": {
          "color": "rgb(228,26,28)",
          "dash": "solid"
         },
         "marker": {
          "symbol": "circle"
         },
         "mode": "lines",
         "name": "Toronto Blue Jays — Power Rank",
         "orientation": "v",
         "showlegend": true,
         "type": "scatter",
         "x": [
          "2025-04-06T00:00:00.000000000",
          "2025-04-13T00:00:00.000000000",
          "2025-04-20T00:00:00.000000000",
          "2025-04-27T00:00:00.000000000",
          "2025-05-04T00:00:00.000000000",
          "2025-05-11T00:00:00.000000000",
          "2025-05-18T00:00:00.000000000",
          "2025-05-25T00:00:00.000000000",
          "2025-06-08T00:00:00.000000000",
          "2025-06-15T00:00:00.000000000",
          "2025-06-22T00:00:00.000000000",
          "2025-06-29T00:00:00.000000000",
          "2025-07-06T00:00:00.000000000",
          "2025-07-27T00:00:00.000000000",
          "2025-08-03T00:00:00.000000000",
          "2025-08-10T00:00:00.000000000",
          "2025-08-17T00:00:00.000000000",
          "2025-08-24T00:00:00.000000000",
          "2025-09-07T00:00:00.000000000",
          "2025-09-14T00:00:00.000000000",
          "2025-09-21T00:00:00.000000000",
          "2025-09-28T00:00:00.000000000"
         ],
         "xaxis": "x",
         "y": {
          "bdata": "DA8MEhQWFhQNDA0NBgIDBQMEAwMEBg==",
          "dtype": "i1"
         },
         "yaxis": "y"
        },
        {
         "hovertemplate": "Team=New York Yankees — Power Rank<br>date=%{x}<br>Rank=%{y}<extra></extra>",
         "legendgroup": "New York Yankees — Power Rank",
         "line": {
          "color": "rgb(55,126,184)",
          "dash": "solid"
         },
         "marker": {
          "symbol": "circle"
         },
         "mode": "lines",
         "name": "New York Yankees — Power Rank",
         "orientation": "v",
         "showlegend": true,
         "type": "scatter",
         "x": [
          "2025-04-06T00:00:00.000000000",
          "2025-04-13T00:00:00.000000000",
          "2025-04-20T00:00:00.000000000",
          "2025-04-27T00:00:00.000000000",
          "2025-05-04T00:00:00.000000000",
          "2025-05-11T00:00:00.000000000",
          "2025-05-18T00:00:00.000000000",
          "2025-05-25T00:00:00.000000000",
          "2025-06-08T00:00:00.000000000",
          "2025-06-15T00:00:00.000000000",
          "2025-06-22T00:00:00.000000000",
          "2025-06-29T00:00:00.000000000",
          "2025-07-06T00:00:00.000000000",
          "2025-07-27T00:00:00.000000000",
          "2025-08-03T00:00:00.000000000",
          "2025-08-10T00:00:00.000000000",
          "2025-08-17T00:00:00.000000000",
          "2025-08-24T00:00:00.000000000",
          "2025-09-07T00:00:00.000000000",
          "2025-09-14T00:00:00.000000000",
          "2025-09-21T00:00:00.000000000",
          "2025-09-28T00:00:00.000000000"
         ],
         "xaxis": "x",
         "y": {
          "bdata": "AwcGBwYHBQQEBAcGCgoMDAsKBgcHBQ==",
          "dtype": "i1"
         },
         "yaxis": "y"
        }
       ],
       "layout": {
        "legend": {
         "title": {
          "text": "Team"
         },
         "tracegroupgap": 0
        },
        "template": {
         "data": {
          "bar": [
           {
            "error_x": {
             "color": "#2a3f5f"
            },
            "error_y": {
             "color": "#2a3f5f"
            },
            "marker": {
             "line": {
              "color": "#E5ECF6",
              "width": 0.5
             },
             "pattern": {
              "fillmode": "overlay",
              "size": 10,
              "solidity": 0.2
             }
            },
            "type": "bar"
           }
          ],
          "barpolar": [
           {
            "marker": {
             "line": {
              "color": "#E5ECF6",
              "width": 0.5
             },
             "pattern": {
              "fillmode": "overlay",
              "size": 10,
              "solidity": 0.2
             }
            },
            "type": "barpolar"
           }
          ],
          "carpet": [
           {
            "aaxis": {
             "endlinecolor": "#2a3f5f",
             "gridcolor": "white",
             "linecolor": "white",
             "minorgridcolor": "white",
             "startlinecolor": "#2a3f5f"
            },
            "baxis": {
             "endlinecolor": "#2a3f5f",
             "gridcolor": "white",
             "linecolor": "white",
             "minorgridcolor": "white",
             "startlinecolor": "#2a3f5f"
            },
            "type": "carpet"
           }
          ],
          "choropleth": [
           {
            "colorbar": {
             "outlinewidth": 0,
             "ticks": ""
            },
            "type": "choropleth"
           }
          ],
          "contour": [
           {
            "colorbar": {
             "outlinewidth": 0,
             "ticks": ""
            },
            "colorscale": [
             [
              0,
              "#0d0887"
             ],
             [
              0.1111111111111111,
              "#46039f"
             ],
             [
              0.2222222222222222,
              "#7201a8"
             ],
             [
              0.3333333333333333,
              "#9c179e"
             ],
             [
              0.4444444444444444,
              "#bd3786"
             ],
             [
              0.5555555555555556,
              "#d8576b"
             ],
             [
              0.6666666666666666,
              "#ed7953"
             ],
             [
              0.7777777777777778,
              "#fb9f3a"
             ],
             [
              0.8888888888888888,
              "#fdca26"
             ],
             [
              1,
              "#f0f921"
             ]
            ],
            "type": "contour"
           }
          ],
          "contourcarpet": [
           {
            "colorbar": {
             "outlinewidth": 0,
             "ticks": ""
            },
            "type": "contourcarpet"
           }
          ],
          "heatmap": [
           {
            "colorbar": {
             "outlinewidth": 0,
             "ticks": ""
            },
            "colorscale": [
             [
              0,
              "#0d0887"
             ],
             [
              0.1111111111111111,
              "#46039f"
             ],
             [
              0.2222222222222222,
              "#7201a8"
             ],
             [
              0.3333333333333333,
              "#9c179e"
             ],
             [
              0.4444444444444444,
              "#bd3786"
             ],
             [
              0.5555555555555556,
              "#d8576b"
             ],
             [
              0.6666666666666666,
              "#ed7953"
             ],
             [
              0.7777777777777778,
              "#fb9f3a"
             ],
             [
              0.8888888888888888,
              "#fdca26"
             ],
             [
              1,
              "#f0f921"
             ]
            ],
            "type": "heatmap"
           }
          ],
          "histogram": [
           {
            "marker": {
             "pattern": {
              "fillmode": "overlay",
              "size": 10,
              "solidity": 0.2
             }
            },
            "type": "histogram"
           }
          ],
          "histogram2d": [
           {
            "colorbar": {
             "outlinewidth": 0,
             "ticks": ""
            },
            "colorscale": [
             [
              0,
              "#0d0887"
             ],
             [
              0.1111111111111111,
              "#46039f"
             ],
             [
              0.2222222222222222,
              "#7201a8"
             ],
             [
              0.3333333333333333,
              "#9c179e"
             ],
             [
              0.4444444444444444,
              "#bd3786"
             ],
             [
              0.5555555555555556,
              "#d8576b"
             ],
             [
              0.6666666666666666,
              "#ed7953"
             ],
             [
              0.7777777777777778,
              "#fb9f3a"
             ],
             [
              0.8888888888888888,
              "#fdca26"
             ],
             [
              1,
              "#f0f921"
             ]
            ],
            "type": "histogram2d"
           }
          ],
          "histogram2dcontour": [
           {
            "colorbar": {
             "outlinewidth": 0,
             "ticks": ""
            },
            "colorscale": [
             [
              0,
              "#0d0887"
             ],
             [
              0.1111111111111111,
              "#46039f"
             ],
             [
              0.2222222222222222,
              "#7201a8"
             ],
             [
              0.3333333333333333,
              "#9c179e"
             ],
             [
              0.4444444444444444,
              "#bd3786"
             ],
             [
              0.5555555555555556,
              "#d8576b"
             ],
             [
              0.6666666666666666,
              "#ed7953"
             ],
             [
              0.7777777777777778,
              "#fb9f3a"
             ],
             [
              0.8888888888888888,
              "#fdca26"
             ],
             [
              1,
              "#f0f921"
             ]
            ],
            "type": "histogram2dcontour"
           }
          ],
          "mesh3d": [
           {
            "colorbar": {
             "outlinewidth": 0,
             "ticks": ""
            },
            "type": "mesh3d"
           }
          ],
          "parcoords": [
           {
            "line": {
             "colorbar": {
              "outlinewidth": 0,
              "ticks": ""
             }
            },
            "type": "parcoords"
           }
          ],
          "pie": [
           {
            "automargin": true,
            "type": "pie"
           }
          ],
          "scatter": [
           {
            "fillpattern": {
             "fillmode": "overlay",
             "size": 10,
             "solidity": 0.2
            },
            "type": "scatter"
           }
          ],
          "scatter3d": [
           {
            "line": {
             "colorbar": {
              "outlinewidth": 0,
              "ticks": ""
             }
            },
            "marker": {
             "colorbar": {
              "outlinewidth": 0,
              "ticks": ""
             }
            },
            "type": "scatter3d"
           }
          ],
          "scattercarpet": [
           {
            "marker": {
             "colorbar": {
              "outlinewidth": 0,
              "ticks": ""
             }
            },
            "type": "scattercarpet"
           }
          ],
          "scattergeo": [
           {
            "marker": {
             "colorbar": {
              "outlinewidth": 0,
              "ticks": ""
             }
            },
            "type": "scattergeo"
           }
          ],
          "scattergl": [
           {
            "marker": {
             "colorbar": {
              "outlinewidth": 0,
              "ticks": ""
             }
            },
            "type": "scattergl"
           }
          ],
          "scattermap": [
           {
            "marker": {
             "colorbar": {
              "outlinewidth": 0,
              "ticks": ""
             }
            },
            "type": "scattermap"
           }
          ],
          "scattermapbox": [
           {
            "marker": {
             "colorbar": {
              "outlinewidth": 0,
              "ticks": ""
             }
            },
            "type": "scattermapbox"
           }
          ],
          "scatterpolar": [
           {
            "marker": {
             "colorbar": {
              "outlinewidth": 0,
              "ticks": ""
             }
            },
            "type": "scatterpolar"
           }
          ],
          "scatterpolargl": [
           {
            "marker": {
             "colorbar": {
              "outlinewidth": 0,
              "ticks": ""
             }
            },
            "type": "scatterpolargl"
           }
          ],
          "scatterternary": [
           {
            "marker": {
             "colorbar": {
              "outlinewidth": 0,
              "ticks": ""
             }
            },
            "type": "scatterternary"
           }
          ],
          "surface": [
           {
            "colorbar": {
             "outlinewidth": 0,
             "ticks": ""
            },
            "colorscale": [
             [
              0,
              "#0d0887"
             ],
             [
              0.1111111111111111,
              "#46039f"
             ],
             [
              0.2222222222222222,
              "#7201a8"
             ],
             [
              0.3333333333333333,
              "#9c179e"
             ],
             [
              0.4444444444444444,
              "#bd3786"
             ],
             [
              0.5555555555555556,
              "#d8576b"
             ],
             [
              0.6666666666666666,
              "#ed7953"
             ],
             [
              0.7777777777777778,
              "#fb9f3a"
             ],
             [
              0.8888888888888888,
              "#fdca26"
             ],
             [
              1,
              "#f0f921"
             ]
            ],
            "type": "surface"
           }
          ],
          "table": [
           {
            "cells": {
             "fill": {
              "color": "#EBF0F8"
             },
             "line": {
              "color": "white"
             }
            },
            "header": {
             "fill": {
              "color": "#C8D4E3"
             },
             "line": {
              "color": "white"
             }
            },
            "type": "table"
           }
          ]
         },
         "layout": {
          "annotationdefaults": {
           "arrowcolor": "#2a3f5f",
           "arrowhead": 0,
           "arrowwidth": 1
          },
          "autotypenumbers": "strict",
          "coloraxis": {
           "colorbar": {
            "outlinewidth": 0,
            "ticks": ""
           }
          },
          "colorscale": {
           "diverging": [
            [
             0,
             "#8e0152"
            ],
            [
             0.1,
             "#c51b7d"
            ],
            [
             0.2,
             "#de77ae"
            ],
            [
             0.3,
             "#f1b6da"
            ],
            [
             0.4,
             "#fde0ef"
            ],
            [
             0.5,
             "#f7f7f7"
            ],
            [
             0.6,
             "#e6f5d0"
            ],
            [
             0.7,
             "#b8e186"
            ],
            [
             0.8,
             "#7fbc41"
            ],
            [
             0.9,
             "#4d9221"
            ],
            [
             1,
             "#276419"
            ]
           ],
           "sequential": [
            [
             0,
             "#0d0887"
            ],
            [
             0.1111111111111111,
             "#46039f"
            ],
            [
             0.2222222222222222,
             "#7201a8"
            ],
            [
             0.3333333333333333,
             "#9c179e"
            ],
            [
             0.4444444444444444,
             "#bd3786"
            ],
            [
             0.5555555555555556,
             "#d8576b"
            ],
            [
             0.6666666666666666,
             "#ed7953"
            ],
            [
             0.7777777777777778,
             "#fb9f3a"
            ],
            [
             0.8888888888888888,
             "#fdca26"
            ],
            [
             1,
             "#f0f921"
            ]
           ],
           "sequentialminus": [
            [
             0,
             "#0d0887"
            ],
            [
             0.1111111111111111,
             "#46039f"
            ],
            [
             0.2222222222222222,
             "#7201a8"
            ],
            [
             0.3333333333333333,
             "#9c179e"
            ],
            [
             0.4444444444444444,
             "#bd3786"
            ],
            [
             0.5555555555555556,
             "#d8576b"
            ],
            [
             0.6666666666666666,
             "#ed7953"
            ],
            [
             0.7777777777777778,
             "#fb9f3a"
            ],
            [
             0.8888888888888888,
             "#fdca26"
            ],
            [
             1,
             "#f0f921"
            ]
           ]
          },
          "colorway": [
           "#636efa",
           "#EF553B",
           "#00cc96",
           "#ab63fa",
           "#FFA15A",
           "#19d3f3",
           "#FF6692",
           "#B6E880",
           "#FF97FF",
           "#FECB52"
          ],
          "font": {
           "color": "#2a3f5f"
          },
          "geo": {
           "bgcolor": "white",
           "lakecolor": "white",
           "landcolor": "#E5ECF6",
           "showlakes": true,
           "showland": true,
           "subunitcolor": "white"
          },
          "hoverlabel": {
           "align": "left"
          },
          "hovermode": "closest",
          "mapbox": {
           "style": "light"
          },
          "paper_bgcolor": "white",
          "plot_bgcolor": "#E5ECF6",
          "polar": {
           "angularaxis": {
            "gridcolor": "white",
            "linecolor": "white",
            "ticks": ""
           },
           "bgcolor": "#E5ECF6",
           "radialaxis": {
            "gridcolor": "white",
            "linecolor": "white",
            "ticks": ""
           }
          },
          "scene": {
           "xaxis": {
            "backgroundcolor": "#E5ECF6",
            "gridcolor": "white",
            "gridwidth": 2,
            "linecolor": "white",
            "showbackground": true,
            "ticks": "",
            "zerolinecolor": "white"
           },
           "yaxis": {
            "backgroundcolor": "#E5ECF6",
            "gridcolor": "white",
            "gridwidth": 2,
            "linecolor": "white",
            "showbackground": true,
            "ticks": "",
            "zerolinecolor": "white"
           },
           "zaxis": {
            "backgroundcolor": "#E5ECF6",
            "gridcolor": "white",
            "gridwidth": 2,
            "linecolor": "white",
            "showbackground": true,
            "ticks": "",
            "zerolinecolor": "white"
           }
          },
          "shapedefaults": {
           "line": {
            "color": "#2a3f5f"
           }
          },
          "ternary": {
           "aaxis": {
            "gridcolor": "white",
            "linecolor": "white",
            "ticks": ""
           },
           "baxis": {
            "gridcolor": "white",
            "linecolor": "white",
            "ticks": ""
           },
           "bgcolor": "#E5ECF6",
           "caxis": {
            "gridcolor": "white",
            "linecolor": "white",
            "ticks": ""
           }
          },
          "title": {
           "x": 0.05
          },
          "xaxis": {
           "automargin": true,
           "gridcolor": "white",
           "linecolor": "white",
           "ticks": "",
           "title": {
            "standoff": 15
           },
           "zerolinecolor": "white",
           "zerolinewidth": 2
          },
          "yaxis": {
           "automargin": true,
           "gridcolor": "white",
           "linecolor": "white",
           "ticks": "",
           "title": {
            "standoff": 15
           },
           "zerolinecolor": "white",
           "zerolinewidth": 2
          }
         }
        },
        "title": {
         "text": "Power Rankings for TOR and NYY"
        },
        "xaxis": {
         "anchor": "y",
         "domain": [
          0,
          1
         ],
         "title": {
          "text": "date"
         }
        },
        "yaxis": {
         "anchor": "x",
         "autorange": "reversed",
         "domain": [
          0,
          1
         ],
         "title": {
          "text": "Rank"
         }
        }
       }
      }
     },
     "metadata": {},
     "output_type": "display_data"
    }
   ],
   "source": [
    "# Get the power ranking, mlb ranking, ranking diff for TOR and NYY\n",
    "df1 = build_plot_table(\n",
    "    power=power, \n",
    "    standings=standings, \n",
    "    selected_codes=[\"TOR\", \"NYY\"], \n",
    "    team_names=teams,\n",
    "    team_codes=tms, \n",
    "    mode=\"power\"\n",
    "    )\n",
    "\n",
    "# Plot the power ranking and mlb ranking for TOR and NYY\n",
    "fig = px.line(\n",
    "    df1,\n",
    "    x=\"date\",\n",
    "    y=df1.columns[1:],\n",
    "    title=\"Power Rankings for TOR and NYY\",\n",
    "    labels={\"value\": \"Rank\", \"variable\": \"Team\"},\n",
    "    color_discrete_sequence=px.colors.qualitative.Set1\n",
    ")\n",
    "fig.update_yaxes(autorange=\"reversed\")  # Reverse y-axis for rankings\n",
    "fig.show()"
   ]
  },
  {
   "cell_type": "code",
   "execution_count": 10,
   "id": "9668528e",
   "metadata": {},
   "outputs": [
    {
     "data": {
      "application/vnd.plotly.v1+json": {
       "config": {
        "plotlyServerURL": "https://plot.ly"
       },
       "data": [
        {
         "hovertemplate": "team_code=BOS<br>ΔRank=%{x}<br>Density=%{y}<extra></extra>",
         "legendgroup": "BOS",
         "line": {
          "color": "rgb(77,175,74)",
          "dash": "solid"
         },
         "marker": {
          "symbol": "circle"
         },
         "mode": "lines",
         "name": "BOS",
         "orientation": "v",
         "showlegend": true,
         "type": "scatter",
         "x": {
          "bdata": "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",
          "dtype": "f8"
         },
         "xaxis": "x",
         "y": {
          "bdata": "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",
          "dtype": "f8"
         },
         "yaxis": "y"
        },
        {
         "hovertemplate": "team_code=NYY<br>ΔRank=%{x}<br>Density=%{y}<extra></extra>",
         "legendgroup": "NYY",
         "line": {
          "color": "rgb(55,126,184)",
          "dash": "solid"
         },
         "marker": {
          "symbol": "circle"
         },
         "mode": "lines",
         "name": "NYY",
         "orientation": "v",
         "showlegend": true,
         "type": "scatter",
         "x": {
          "bdata": "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",
          "dtype": "f8"
         },
         "xaxis": "x",
         "y": {
          "bdata": "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",
          "dtype": "f8"
         },
         "yaxis": "y"
        },
        {
         "hovertemplate": "team_code=TOR<br>ΔRank=%{x}<br>Density=%{y}<extra></extra>",
         "legendgroup": "TOR",
         "line": {
          "color": "rgb(228,26,28)",
          "dash": "solid"
         },
         "marker": {
          "symbol": "circle"
         },
         "mode": "lines",
         "name": "TOR",
         "orientation": "v",
         "showlegend": true,
         "type": "scatter",
         "x": {
          "bdata": "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",
          "dtype": "f8"
         },
         "xaxis": "x",
         "y": {
          "bdata": "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",
          "dtype": "f8"
         },
         "yaxis": "y"
        },
        {
         "marker": {
          "color": "rgb(77,175,74)"
         },
         "name": "BOS Histogram",
         "opacity": 0.6,
         "showlegend": false,
         "type": "bar",
         "x": {
          "bdata": "AAAAAAAALcAAAAAAAAArwAAAAAAAACnAAAAAAAAAJ8AAAAAAAAAlwAAAAAAAACPAAAAAAAAAIcAAAAAAAAAewAAAAAAAABrAAAAAAAAAFsAAAAAAAAASwAAAAAAAAAzAAAAAAAAABMAAAAAAAAD4vwAAAAAAAOC/AAAAAAAA4D8AAAAAAAD4PwAAAAAAAARAAAAAAAAADEAAAAAAAAASQAAAAAAAABZAAAAAAAAAGkAAAAAAAAAeQAAAAAAAACFAAAAAAAAAI0AAAAAAAAAlQAAAAAAAACdAAAAAAAAAKUAAAAAAAAArQAAAAAAAAC1A",
          "dtype": "f8"
         },
         "y": {
          "bdata": "AAAAAAAAAAAAAAAAAAAAAAAAAAAAAAAAAAAAAAAAAAAAAAAAAAAAAAAAAAAAAAAAAAAAAAAAAAAAAAAAAAAAAAAAAAAAAAAAmpmZmZmZyT8AAAAAAAAAAJqZmZmZmdk/mpmZmZmZ2T+amZmZmZnZP5qZmZmZmdk/mpmZmZmZyT8AAAAAAADwPzMzMzMzM+M/mpmZmZmZyT8AAAAAAAAAAJqZmZmZmck/mpmZmZmZyT8AAAAAAAAAAAAAAAAAAAAAAAAAAAAAAAAAAAAAAAAAAAAAAAAAAAAAAAAAAAAAAAAAAAAAAAAAAAAAAAAAAAAA",
          "dtype": "f8"
         }
        },
        {
         "marker": {
          "color": "rgb(55,126,184)"
         },
         "name": "NYY Histogram",
         "opacity": 0.6,
         "showlegend": false,
         "type": "bar",
         "x": {
          "bdata": "AAAAAAAALcAAAAAAAAArwAAAAAAAACnAAAAAAAAAJ8AAAAAAAAAlwAAAAAAAACPAAAAAAAAAIcAAAAAAAAAewAAAAAAAABrAAAAAAAAAFsAAAAAAAAASwAAAAAAAAAzAAAAAAAAABMAAAAAAAAD4vwAAAAAAAOC/AAAAAAAA4D8AAAAAAAD4PwAAAAAAAARAAAAAAAAADEAAAAAAAAASQAAAAAAAABZAAAAAAAAAGkAAAAAAAAAeQAAAAAAAACFAAAAAAAAAI0AAAAAAAAAlQAAAAAAAACdAAAAAAAAAKUAAAAAAAAArQAAAAAAAAC1A",
          "dtype": "f8"
         },
         "y": {
          "bdata": "AAAAAAAAAAAAAAAAAAAAAAAAAAAAAAAAAAAAAAAAAAAAAAAAAAAAAAAAAAAAAAAAAAAAAAAAAAAAAAAAAAAAAAAAAAAAAAAAAAAAAAAAAAAAAAAAAAAAAFVVVVVVVcU/AAAAAAAAAABVVVVVVVXVPwAAAAAAAPA/q6qqqqqq6j8AAAAAAADgP1VVVVVVVcU/VVVVVVVVxT9VVVVVVVXVPwAAAAAAAAAAAAAAAAAAAAAAAAAAAAAAAAAAAAAAAAAAAAAAAAAAAAAAAAAAAAAAAAAAAAAAAAAAAAAAAAAAAAAAAAAAAAAAAAAAAAAAAAAA",
          "dtype": "f8"
         }
        },
        {
         "marker": {
          "color": "rgb(228,26,28)"
         },
         "name": "TOR Histogram",
         "opacity": 0.6,
         "showlegend": false,
         "type": "bar",
         "x": {
          "bdata": "AAAAAAAALcAAAAAAAAArwAAAAAAAACnAAAAAAAAAJ8AAAAAAAAAlwAAAAAAAACPAAAAAAAAAIcAAAAAAAAAewAAAAAAAABrAAAAAAAAAFsAAAAAAAAASwAAAAAAAAAzAAAAAAAAABMAAAAAAAAD4vwAAAAAAAOC/AAAAAAAA4D8AAAAAAAD4PwAAAAAAAARAAAAAAAAADEAAAAAAAAASQAAAAAAAABZAAAAAAAAAGkAAAAAAAAAeQAAAAAAAACFAAAAAAAAAI0AAAAAAAAAlQAAAAAAAACdAAAAAAAAAKUAAAAAAAAArQAAAAAAAAC1A",
          "dtype": "f8"
         },
         "y": {
          "bdata": "AAAAAAAAAAAAAAAAAAAAAAAAAAAAAAAAAAAAAAAAAAAAAAAAAAAAAAAAAAAAAAAAAAAAAAAAAAAAAAAAAAAAAAAAAAAAAOA/AAAAAAAAAAAAAAAAAAAAAAAAAAAAANA/AAAAAAAA0D8AAAAAAADgPwAAAAAAAOA/AAAAAAAA6D8AAAAAAADwPwAAAAAAAPA/AAAAAAAA0D8AAAAAAAAAAAAAAAAAAAAAAAAAAAAA0D8AAAAAAAAAAAAAAAAAAAAAAAAAAAAAAAAAAAAAAAAAAAAAAAAAAAAAAAAAAAAAAAAAAAAAAAAAAAAAAAAAAAAA",
          "dtype": "f8"
         }
        }
       ],
       "layout": {
        "annotations": [
         {
          "font": {
           "color": "grey"
          },
          "showarrow": false,
          "text": "Peak: 0.65",
          "x": 0.6521739130434785,
          "xanchor": "left",
          "xref": "x",
          "y": 1,
          "yanchor": "top",
          "yref": "y domain"
         },
         {
          "font": {
           "color": "grey"
          },
          "showarrow": false,
          "text": "Peak: -0.45",
          "x": -0.4515050167224075,
          "xanchor": "left",
          "xref": "x",
          "y": 1,
          "yanchor": "top",
          "yref": "y domain"
         },
         {
          "font": {
           "color": "grey"
          },
          "showarrow": false,
          "text": "Peak: 0.75",
          "x": 0.7525083612040131,
          "xanchor": "left",
          "xref": "x",
          "y": 1,
          "yanchor": "top",
          "yref": "y domain"
         }
        ],
        "legend": {
         "title": {
          "text": "team_code"
         },
         "tracegroupgap": 0
        },
        "shapes": [
         {
          "line": {
           "color": "rgb(228,26,28)",
           "dash": "dash"
          },
          "type": "line",
          "x0": 0.6521739130434785,
          "x1": 0.6521739130434785,
          "xref": "x",
          "y0": 0,
          "y1": 1,
          "yref": "y domain"
         },
         {
          "line": {
           "color": "rgb(55,126,184)",
           "dash": "dash"
          },
          "type": "line",
          "x0": -0.4515050167224075,
          "x1": -0.4515050167224075,
          "xref": "x",
          "y0": 0,
          "y1": 1,
          "yref": "y domain"
         },
         {
          "line": {
           "color": "rgb(77,175,74)",
           "dash": "dash"
          },
          "type": "line",
          "x0": 0.7525083612040131,
          "x1": 0.7525083612040131,
          "xref": "x",
          "y0": 0,
          "y1": 1,
          "yref": "y domain"
         }
        ],
        "template": {
         "data": {
          "bar": [
           {
            "error_x": {
             "color": "#2a3f5f"
            },
            "error_y": {
             "color": "#2a3f5f"
            },
            "marker": {
             "line": {
              "color": "#E5ECF6",
              "width": 0.5
             },
             "pattern": {
              "fillmode": "overlay",
              "size": 10,
              "solidity": 0.2
             }
            },
            "type": "bar"
           }
          ],
          "barpolar": [
           {
            "marker": {
             "line": {
              "color": "#E5ECF6",
              "width": 0.5
             },
             "pattern": {
              "fillmode": "overlay",
              "size": 10,
              "solidity": 0.2
             }
            },
            "type": "barpolar"
           }
          ],
          "carpet": [
           {
            "aaxis": {
             "endlinecolor": "#2a3f5f",
             "gridcolor": "white",
             "linecolor": "white",
             "minorgridcolor": "white",
             "startlinecolor": "#2a3f5f"
            },
            "baxis": {
             "endlinecolor": "#2a3f5f",
             "gridcolor": "white",
             "linecolor": "white",
             "minorgridcolor": "white",
             "startlinecolor": "#2a3f5f"
            },
            "type": "carpet"
           }
          ],
          "choropleth": [
           {
            "colorbar": {
             "outlinewidth": 0,
             "ticks": ""
            },
            "type": "choropleth"
           }
          ],
          "contour": [
           {
            "colorbar": {
             "outlinewidth": 0,
             "ticks": ""
            },
            "colorscale": [
             [
              0,
              "#0d0887"
             ],
             [
              0.1111111111111111,
              "#46039f"
             ],
             [
              0.2222222222222222,
              "#7201a8"
             ],
             [
              0.3333333333333333,
              "#9c179e"
             ],
             [
              0.4444444444444444,
              "#bd3786"
             ],
             [
              0.5555555555555556,
              "#d8576b"
             ],
             [
              0.6666666666666666,
              "#ed7953"
             ],
             [
              0.7777777777777778,
              "#fb9f3a"
             ],
             [
              0.8888888888888888,
              "#fdca26"
             ],
             [
              1,
              "#f0f921"
             ]
            ],
            "type": "contour"
           }
          ],
          "contourcarpet": [
           {
            "colorbar": {
             "outlinewidth": 0,
             "ticks": ""
            },
            "type": "contourcarpet"
           }
          ],
          "heatmap": [
           {
            "colorbar": {
             "outlinewidth": 0,
             "ticks": ""
            },
            "colorscale": [
             [
              0,
              "#0d0887"
             ],
             [
              0.1111111111111111,
              "#46039f"
             ],
             [
              0.2222222222222222,
              "#7201a8"
             ],
             [
              0.3333333333333333,
              "#9c179e"
             ],
             [
              0.4444444444444444,
              "#bd3786"
             ],
             [
              0.5555555555555556,
              "#d8576b"
             ],
             [
              0.6666666666666666,
              "#ed7953"
             ],
             [
              0.7777777777777778,
              "#fb9f3a"
             ],
             [
              0.8888888888888888,
              "#fdca26"
             ],
             [
              1,
              "#f0f921"
             ]
            ],
            "type": "heatmap"
           }
          ],
          "histogram": [
           {
            "marker": {
             "pattern": {
              "fillmode": "overlay",
              "size": 10,
              "solidity": 0.2
             }
            },
            "type": "histogram"
           }
          ],
          "histogram2d": [
           {
            "colorbar": {
             "outlinewidth": 0,
             "ticks": ""
            },
            "colorscale": [
             [
              0,
              "#0d0887"
             ],
             [
              0.1111111111111111,
              "#46039f"
             ],
             [
              0.2222222222222222,
              "#7201a8"
             ],
             [
              0.3333333333333333,
              "#9c179e"
             ],
             [
              0.4444444444444444,
              "#bd3786"
             ],
             [
              0.5555555555555556,
              "#d8576b"
             ],
             [
              0.6666666666666666,
              "#ed7953"
             ],
             [
              0.7777777777777778,
              "#fb9f3a"
             ],
             [
              0.8888888888888888,
              "#fdca26"
             ],
             [
              1,
              "#f0f921"
             ]
            ],
            "type": "histogram2d"
           }
          ],
          "histogram2dcontour": [
           {
            "colorbar": {
             "outlinewidth": 0,
             "ticks": ""
            },
            "colorscale": [
             [
              0,
              "#0d0887"
             ],
             [
              0.1111111111111111,
              "#46039f"
             ],
             [
              0.2222222222222222,
              "#7201a8"
             ],
             [
              0.3333333333333333,
              "#9c179e"
             ],
             [
              0.4444444444444444,
              "#bd3786"
             ],
             [
              0.5555555555555556,
              "#d8576b"
             ],
             [
              0.6666666666666666,
              "#ed7953"
             ],
             [
              0.7777777777777778,
              "#fb9f3a"
             ],
             [
              0.8888888888888888,
              "#fdca26"
             ],
             [
              1,
              "#f0f921"
             ]
            ],
            "type": "histogram2dcontour"
           }
          ],
          "mesh3d": [
           {
            "colorbar": {
             "outlinewidth": 0,
             "ticks": ""
            },
            "type": "mesh3d"
           }
          ],
          "parcoords": [
           {
            "line": {
             "colorbar": {
              "outlinewidth": 0,
              "ticks": ""
             }
            },
            "type": "parcoords"
           }
          ],
          "pie": [
           {
            "automargin": true,
            "type": "pie"
           }
          ],
          "scatter": [
           {
            "fillpattern": {
             "fillmode": "overlay",
             "size": 10,
             "solidity": 0.2
            },
            "type": "scatter"
           }
          ],
          "scatter3d": [
           {
            "line": {
             "colorbar": {
              "outlinewidth": 0,
              "ticks": ""
             }
            },
            "marker": {
             "colorbar": {
              "outlinewidth": 0,
              "ticks": ""
             }
            },
            "type": "scatter3d"
           }
          ],
          "scattercarpet": [
           {
            "marker": {
             "colorbar": {
              "outlinewidth": 0,
              "ticks": ""
             }
            },
            "type": "scattercarpet"
           }
          ],
          "scattergeo": [
           {
            "marker": {
             "colorbar": {
              "outlinewidth": 0,
              "ticks": ""
             }
            },
            "type": "scattergeo"
           }
          ],
          "scattergl": [
           {
            "marker": {
             "colorbar": {
              "outlinewidth": 0,
              "ticks": ""
             }
            },
            "type": "scattergl"
           }
          ],
          "scattermap": [
           {
            "marker": {
             "colorbar": {
              "outlinewidth": 0,
              "ticks": ""
             }
            },
            "type": "scattermap"
           }
          ],
          "scattermapbox": [
           {
            "marker": {
             "colorbar": {
              "outlinewidth": 0,
              "ticks": ""
             }
            },
            "type": "scattermapbox"
           }
          ],
          "scatterpolar": [
           {
            "marker": {
             "colorbar": {
              "outlinewidth": 0,
              "ticks": ""
             }
            },
            "type": "scatterpolar"
           }
          ],
          "scatterpolargl": [
           {
            "marker": {
             "colorbar": {
              "outlinewidth": 0,
              "ticks": ""
             }
            },
            "type": "scatterpolargl"
           }
          ],
          "scatterternary": [
           {
            "marker": {
             "colorbar": {
              "outlinewidth": 0,
              "ticks": ""
             }
            },
            "type": "scatterternary"
           }
          ],
          "surface": [
           {
            "colorbar": {
             "outlinewidth": 0,
             "ticks": ""
            },
            "colorscale": [
             [
              0,
              "#0d0887"
             ],
             [
              0.1111111111111111,
              "#46039f"
             ],
             [
              0.2222222222222222,
              "#7201a8"
             ],
             [
              0.3333333333333333,
              "#9c179e"
             ],
             [
              0.4444444444444444,
              "#bd3786"
             ],
             [
              0.5555555555555556,
              "#d8576b"
             ],
             [
              0.6666666666666666,
              "#ed7953"
             ],
             [
              0.7777777777777778,
              "#fb9f3a"
             ],
             [
              0.8888888888888888,
              "#fdca26"
             ],
             [
              1,
              "#f0f921"
             ]
            ],
            "type": "surface"
           }
          ],
          "table": [
           {
            "cells": {
             "fill": {
              "color": "#EBF0F8"
             },
             "line": {
              "color": "white"
             }
            },
            "header": {
             "fill": {
              "color": "#C8D4E3"
             },
             "line": {
              "color": "white"
             }
            },
            "type": "table"
           }
          ]
         },
         "layout": {
          "annotationdefaults": {
           "arrowcolor": "#2a3f5f",
           "arrowhead": 0,
           "arrowwidth": 1
          },
          "autotypenumbers": "strict",
          "coloraxis": {
           "colorbar": {
            "outlinewidth": 0,
            "ticks": ""
           }
          },
          "colorscale": {
           "diverging": [
            [
             0,
             "#8e0152"
            ],
            [
             0.1,
             "#c51b7d"
            ],
            [
             0.2,
             "#de77ae"
            ],
            [
             0.3,
             "#f1b6da"
            ],
            [
             0.4,
             "#fde0ef"
            ],
            [
             0.5,
             "#f7f7f7"
            ],
            [
             0.6,
             "#e6f5d0"
            ],
            [
             0.7,
             "#b8e186"
            ],
            [
             0.8,
             "#7fbc41"
            ],
            [
             0.9,
             "#4d9221"
            ],
            [
             1,
             "#276419"
            ]
           ],
           "sequential": [
            [
             0,
             "#0d0887"
            ],
            [
             0.1111111111111111,
             "#46039f"
            ],
            [
             0.2222222222222222,
             "#7201a8"
            ],
            [
             0.3333333333333333,
             "#9c179e"
            ],
            [
             0.4444444444444444,
             "#bd3786"
            ],
            [
             0.5555555555555556,
             "#d8576b"
            ],
            [
             0.6666666666666666,
             "#ed7953"
            ],
            [
             0.7777777777777778,
             "#fb9f3a"
            ],
            [
             0.8888888888888888,
             "#fdca26"
            ],
            [
             1,
             "#f0f921"
            ]
           ],
           "sequentialminus": [
            [
             0,
             "#0d0887"
            ],
            [
             0.1111111111111111,
             "#46039f"
            ],
            [
             0.2222222222222222,
             "#7201a8"
            ],
            [
             0.3333333333333333,
             "#9c179e"
            ],
            [
             0.4444444444444444,
             "#bd3786"
            ],
            [
             0.5555555555555556,
             "#d8576b"
            ],
            [
             0.6666666666666666,
             "#ed7953"
            ],
            [
             0.7777777777777778,
             "#fb9f3a"
            ],
            [
             0.8888888888888888,
             "#fdca26"
            ],
            [
             1,
             "#f0f921"
            ]
           ]
          },
          "colorway": [
           "#636efa",
           "#EF553B",
           "#00cc96",
           "#ab63fa",
           "#FFA15A",
           "#19d3f3",
           "#FF6692",
           "#B6E880",
           "#FF97FF",
           "#FECB52"
          ],
          "font": {
           "color": "#2a3f5f"
          },
          "geo": {
           "bgcolor": "white",
           "lakecolor": "white",
           "landcolor": "#E5ECF6",
           "showlakes": true,
           "showland": true,
           "subunitcolor": "white"
          },
          "hoverlabel": {
           "align": "left"
          },
          "hovermode": "closest",
          "mapbox": {
           "style": "light"
          },
          "paper_bgcolor": "white",
          "plot_bgcolor": "#E5ECF6",
          "polar": {
           "angularaxis": {
            "gridcolor": "white",
            "linecolor": "white",
            "ticks": ""
           },
           "bgcolor": "#E5ECF6",
           "radialaxis": {
            "gridcolor": "white",
            "linecolor": "white",
            "ticks": ""
           }
          },
          "scene": {
           "xaxis": {
            "backgroundcolor": "#E5ECF6",
            "gridcolor": "white",
            "gridwidth": 2,
            "linecolor": "white",
            "showbackground": true,
            "ticks": "",
            "zerolinecolor": "white"
           },
           "yaxis": {
            "backgroundcolor": "#E5ECF6",
            "gridcolor": "white",
            "gridwidth": 2,
            "linecolor": "white",
            "showbackground": true,
            "ticks": "",
            "zerolinecolor": "white"
           },
           "zaxis": {
            "backgroundcolor": "#E5ECF6",
            "gridcolor": "white",
            "gridwidth": 2,
            "linecolor": "white",
            "showbackground": true,
            "ticks": "",
            "zerolinecolor": "white"
           }
          },
          "shapedefaults": {
           "line": {
            "color": "#2a3f5f"
           }
          },
          "ternary": {
           "aaxis": {
            "gridcolor": "white",
            "linecolor": "white",
            "ticks": ""
           },
           "baxis": {
            "gridcolor": "white",
            "linecolor": "white",
            "ticks": ""
           },
           "bgcolor": "#E5ECF6",
           "caxis": {
            "gridcolor": "white",
            "linecolor": "white",
            "ticks": ""
           }
          },
          "title": {
           "x": 0.05
          },
          "xaxis": {
           "automargin": true,
           "gridcolor": "white",
           "linecolor": "white",
           "ticks": "",
           "title": {
            "standoff": 15
           },
           "zerolinecolor": "white",
           "zerolinewidth": 2
          },
          "yaxis": {
           "automargin": true,
           "gridcolor": "white",
           "linecolor": "white",
           "ticks": "",
           "title": {
            "standoff": 15
           },
           "zerolinecolor": "white",
           "zerolinewidth": 2
          }
         }
        },
        "title": {
         "text": "KDE of ΔRank (Power Rankings)"
        },
        "xaxis": {
         "anchor": "y",
         "domain": [
          0,
          1
         ],
         "title": {
          "text": "ΔRank"
         }
        },
        "yaxis": {
         "anchor": "x",
         "domain": [
          0,
          1
         ],
         "title": {
          "text": "Density"
         }
        }
       }
      }
     },
     "metadata": {},
     "output_type": "display_data"
    }
   ],
   "source": [
    "# Get rank change KDE and histogram data for TOR and NYY\n",
    "kde_data, hist_data, peaks, _ = build_delta_kde_and_hist(\n",
    "    power=power,\n",
    "    standings=standings,\n",
    "    team_names=teams,\n",
    "    team_codes=tms,\n",
    "    selected_codes=[\"TOR\", \"NYY\", \"BOS\"],\n",
    "    source=\"power\",\n",
    "    grid=np.linspace(-15, 15, 300),\n",
    "    bin_edges=np.linspace(-15, 15, 31)\n",
    ")\n",
    "colors = px.colors.qualitative.Set1  # or whichever palette you like\n",
    "color_map = dict(zip([\"TOR\", \"NYY\", \"BOS\"], colors))\n",
    "\n",
    "fig = px.line(\n",
    "    kde_data,\n",
    "    x=\"x\",\n",
    "    y=\"density\",\n",
    "    color=\"team_code\",\n",
    "    color_discrete_map=color_map,\n",
    "    title=\"KDE of ΔRank (Power Rankings)\",\n",
    "    labels={\"x\": \"ΔRank\", \"density\": \"Density\"}\n",
    ")\n",
    "\n",
    "for team_code in hist_data[\"team_code\"].unique():\n",
    "    team_hist = hist_data[hist_data[\"team_code\"] == team_code]\n",
    "    fig.add_trace(go.Bar(\n",
    "        x=team_hist[\"x\"],\n",
    "        y=team_hist[\"pdf\"],\n",
    "        name=f\"{team_code} Histogram\",\n",
    "        opacity=0.6,\n",
    "        showlegend=False,\n",
    "        marker_color=color_map[team_code]\n",
    "    ))\n",
    "\n",
    "# Add peak lines to the plot\n",
    "for team_code, peak in peaks.items():\n",
    "    fig.add_vline(\n",
    "        x=peak,\n",
    "        line=dict(color=color_map.get(team_code, \"grey\"), dash=\"dash\"),\n",
    "        annotation_text=f\"Peak: {peak:.2f}\",\n",
    "        annotation_position=\"top right\",\n",
    "        annotation_font_color=\"grey\"\n",
    "\n",
    "    )\n",
    "fig.show()"
   ]
  },
  {
   "cell_type": "code",
   "execution_count": 5,
   "id": "ae6d39b9",
   "metadata": {},
   "outputs": [
    {
     "data": {
      "application/vnd.plotly.v1+json": {
       "config": {
        "plotlyServerURL": "https://plot.ly"
       },
       "data": [
        {
         "hovertemplate": "Team=NYY<br>Date=%{x}<br>Volatility=%{y}<extra></extra>",
         "legendgroup": "NYY",
         "line": {
          "color": "#636efa",
          "dash": "solid"
         },
         "marker": {
          "symbol": "circle"
         },
         "mode": "lines",
         "name": "NYY",
         "orientation": "v",
         "showlegend": true,
         "type": "scatter",
         "x": [
          "2025-04-06T00:00:00.000000000",
          "2025-04-13T00:00:00.000000000",
          "2025-04-20T00:00:00.000000000",
          "2025-04-27T00:00:00.000000000",
          "2025-05-04T00:00:00.000000000",
          "2025-05-11T00:00:00.000000000",
          "2025-05-18T00:00:00.000000000",
          "2025-05-25T00:00:00.000000000",
          "2025-06-08T00:00:00.000000000",
          "2025-06-15T00:00:00.000000000",
          "2025-06-22T00:00:00.000000000",
          "2025-06-29T00:00:00.000000000",
          "2025-07-06T00:00:00.000000000",
          "2025-07-27T00:00:00.000000000",
          "2025-08-03T00:00:00.000000000",
          "2025-08-10T00:00:00.000000000",
          "2025-08-17T00:00:00.000000000",
          "2025-08-24T00:00:00.000000000",
          "2025-09-07T00:00:00.000000000",
          "2025-09-14T00:00:00.000000000",
          "2025-09-21T00:00:00.000000000",
          "2025-09-28T00:00:00.000000000"
         ],
         "xaxis": "x",
         "y": {
          "bdata": "AAAAAAAAAAAAAAAAAAAIQJ7qwn7cMQtAuLB3PVnmCECnvxNy7mcHQOrVqVb9XwVAHFngOyjtA0DFrdu2QtEFQD5Yi85WswVAHskdExNoBUA1patoX2oEQK5fMtvtjANAiQBOPBG7A0CAVjZuCMMDQKRmN223CQVA9+9egoKqBkCngXQweCEHQK2DlOpU+QZA+Ew63n+IBkBTh/VpafoFQE9gN6hAPQZAtCAPYh3fBkA=",
          "dtype": "f8"
         },
         "yaxis": "y"
        },
        {
         "hovertemplate": "Team=TOR<br>Date=%{x}<br>Volatility=%{y}<extra></extra>",
         "legendgroup": "TOR",
         "line": {
          "color": "#EF553B",
          "dash": "solid"
         },
         "marker": {
          "symbol": "circle"
         },
         "mode": "lines",
         "name": "TOR",
         "orientation": "v",
         "showlegend": true,
         "type": "scatter",
         "x": [
          "2025-04-06T00:00:00.000000000",
          "2025-04-13T00:00:00.000000000",
          "2025-04-20T00:00:00.000000000",
          "2025-04-27T00:00:00.000000000",
          "2025-05-04T00:00:00.000000000",
          "2025-05-11T00:00:00.000000000",
          "2025-05-18T00:00:00.000000000",
          "2025-05-25T00:00:00.000000000",
          "2025-06-08T00:00:00.000000000",
          "2025-06-15T00:00:00.000000000",
          "2025-06-22T00:00:00.000000000",
          "2025-06-29T00:00:00.000000000",
          "2025-07-06T00:00:00.000000000",
          "2025-07-27T00:00:00.000000000",
          "2025-08-03T00:00:00.000000000",
          "2025-08-10T00:00:00.000000000",
          "2025-08-17T00:00:00.000000000",
          "2025-08-24T00:00:00.000000000",
          "2025-09-07T00:00:00.000000000",
          "2025-09-14T00:00:00.000000000",
          "2025-09-21T00:00:00.000000000",
          "2025-09-28T00:00:00.000000000"
         ],
         "xaxis": "x",
         "y": {
          "bdata": "AAAAAAAAAAAAAAAAAAAAQJ7qwn7cMfs/0LphP+AfEEDAd2S7HOUQQDNwY0IBPBBAHqE3cIZ7EEAG+5VNMNoQQJBo8djfUxFAniQWXzV0EUC7cyR/dN4QQKGL0x+qzBBAAobMtpGvEkAAgcAKBYkWQAAAV577oRdAnWVLzLuyGEAAlYlRMb4ZQGQSJkpH7BlANKtDiU05GkBnZmZmZmYaQDxEeHvVexpAXCxNz4J/GkA=",
          "dtype": "f8"
         },
         "yaxis": "y"
        }
       ],
       "layout": {
        "legend": {
         "title": {
          "text": "Team"
         },
         "tracegroupgap": 0
        },
        "template": {
         "data": {
          "bar": [
           {
            "error_x": {
             "color": "#2a3f5f"
            },
            "error_y": {
             "color": "#2a3f5f"
            },
            "marker": {
             "line": {
              "color": "#E5ECF6",
              "width": 0.5
             },
             "pattern": {
              "fillmode": "overlay",
              "size": 10,
              "solidity": 0.2
             }
            },
            "type": "bar"
           }
          ],
          "barpolar": [
           {
            "marker": {
             "line": {
              "color": "#E5ECF6",
              "width": 0.5
             },
             "pattern": {
              "fillmode": "overlay",
              "size": 10,
              "solidity": 0.2
             }
            },
            "type": "barpolar"
           }
          ],
          "carpet": [
           {
            "aaxis": {
             "endlinecolor": "#2a3f5f",
             "gridcolor": "white",
             "linecolor": "white",
             "minorgridcolor": "white",
             "startlinecolor": "#2a3f5f"
            },
            "baxis": {
             "endlinecolor": "#2a3f5f",
             "gridcolor": "white",
             "linecolor": "white",
             "minorgridcolor": "white",
             "startlinecolor": "#2a3f5f"
            },
            "type": "carpet"
           }
          ],
          "choropleth": [
           {
            "colorbar": {
             "outlinewidth": 0,
             "ticks": ""
            },
            "type": "choropleth"
           }
          ],
          "contour": [
           {
            "colorbar": {
             "outlinewidth": 0,
             "ticks": ""
            },
            "colorscale": [
             [
              0,
              "#0d0887"
             ],
             [
              0.1111111111111111,
              "#46039f"
             ],
             [
              0.2222222222222222,
              "#7201a8"
             ],
             [
              0.3333333333333333,
              "#9c179e"
             ],
             [
              0.4444444444444444,
              "#bd3786"
             ],
             [
              0.5555555555555556,
              "#d8576b"
             ],
             [
              0.6666666666666666,
              "#ed7953"
             ],
             [
              0.7777777777777778,
              "#fb9f3a"
             ],
             [
              0.8888888888888888,
              "#fdca26"
             ],
             [
              1,
              "#f0f921"
             ]
            ],
            "type": "contour"
           }
          ],
          "contourcarpet": [
           {
            "colorbar": {
             "outlinewidth": 0,
             "ticks": ""
            },
            "type": "contourcarpet"
           }
          ],
          "heatmap": [
           {
            "colorbar": {
             "outlinewidth": 0,
             "ticks": ""
            },
            "colorscale": [
             [
              0,
              "#0d0887"
             ],
             [
              0.1111111111111111,
              "#46039f"
             ],
             [
              0.2222222222222222,
              "#7201a8"
             ],
             [
              0.3333333333333333,
              "#9c179e"
             ],
             [
              0.4444444444444444,
              "#bd3786"
             ],
             [
              0.5555555555555556,
              "#d8576b"
             ],
             [
              0.6666666666666666,
              "#ed7953"
             ],
             [
              0.7777777777777778,
              "#fb9f3a"
             ],
             [
              0.8888888888888888,
              "#fdca26"
             ],
             [
              1,
              "#f0f921"
             ]
            ],
            "type": "heatmap"
           }
          ],
          "histogram": [
           {
            "marker": {
             "pattern": {
              "fillmode": "overlay",
              "size": 10,
              "solidity": 0.2
             }
            },
            "type": "histogram"
           }
          ],
          "histogram2d": [
           {
            "colorbar": {
             "outlinewidth": 0,
             "ticks": ""
            },
            "colorscale": [
             [
              0,
              "#0d0887"
             ],
             [
              0.1111111111111111,
              "#46039f"
             ],
             [
              0.2222222222222222,
              "#7201a8"
             ],
             [
              0.3333333333333333,
              "#9c179e"
             ],
             [
              0.4444444444444444,
              "#bd3786"
             ],
             [
              0.5555555555555556,
              "#d8576b"
             ],
             [
              0.6666666666666666,
              "#ed7953"
             ],
             [
              0.7777777777777778,
              "#fb9f3a"
             ],
             [
              0.8888888888888888,
              "#fdca26"
             ],
             [
              1,
              "#f0f921"
             ]
            ],
            "type": "histogram2d"
           }
          ],
          "histogram2dcontour": [
           {
            "colorbar": {
             "outlinewidth": 0,
             "ticks": ""
            },
            "colorscale": [
             [
              0,
              "#0d0887"
             ],
             [
              0.1111111111111111,
              "#46039f"
             ],
             [
              0.2222222222222222,
              "#7201a8"
             ],
             [
              0.3333333333333333,
              "#9c179e"
             ],
             [
              0.4444444444444444,
              "#bd3786"
             ],
             [
              0.5555555555555556,
              "#d8576b"
             ],
             [
              0.6666666666666666,
              "#ed7953"
             ],
             [
              0.7777777777777778,
              "#fb9f3a"
             ],
             [
              0.8888888888888888,
              "#fdca26"
             ],
             [
              1,
              "#f0f921"
             ]
            ],
            "type": "histogram2dcontour"
           }
          ],
          "mesh3d": [
           {
            "colorbar": {
             "outlinewidth": 0,
             "ticks": ""
            },
            "type": "mesh3d"
           }
          ],
          "parcoords": [
           {
            "line": {
             "colorbar": {
              "outlinewidth": 0,
              "ticks": ""
             }
            },
            "type": "parcoords"
           }
          ],
          "pie": [
           {
            "automargin": true,
            "type": "pie"
           }
          ],
          "scatter": [
           {
            "fillpattern": {
             "fillmode": "overlay",
             "size": 10,
             "solidity": 0.2
            },
            "type": "scatter"
           }
          ],
          "scatter3d": [
           {
            "line": {
             "colorbar": {
              "outlinewidth": 0,
              "ticks": ""
             }
            },
            "marker": {
             "colorbar": {
              "outlinewidth": 0,
              "ticks": ""
             }
            },
            "type": "scatter3d"
           }
          ],
          "scattercarpet": [
           {
            "marker": {
             "colorbar": {
              "outlinewidth": 0,
              "ticks": ""
             }
            },
            "type": "scattercarpet"
           }
          ],
          "scattergeo": [
           {
            "marker": {
             "colorbar": {
              "outlinewidth": 0,
              "ticks": ""
             }
            },
            "type": "scattergeo"
           }
          ],
          "scattergl": [
           {
            "marker": {
             "colorbar": {
              "outlinewidth": 0,
              "ticks": ""
             }
            },
            "type": "scattergl"
           }
          ],
          "scattermap": [
           {
            "marker": {
             "colorbar": {
              "outlinewidth": 0,
              "ticks": ""
             }
            },
            "type": "scattermap"
           }
          ],
          "scattermapbox": [
           {
            "marker": {
             "colorbar": {
              "outlinewidth": 0,
              "ticks": ""
             }
            },
            "type": "scattermapbox"
           }
          ],
          "scatterpolar": [
           {
            "marker": {
             "colorbar": {
              "outlinewidth": 0,
              "ticks": ""
             }
            },
            "type": "scatterpolar"
           }
          ],
          "scatterpolargl": [
           {
            "marker": {
             "colorbar": {
              "outlinewidth": 0,
              "ticks": ""
             }
            },
            "type": "scatterpolargl"
           }
          ],
          "scatterternary": [
           {
            "marker": {
             "colorbar": {
              "outlinewidth": 0,
              "ticks": ""
             }
            },
            "type": "scatterternary"
           }
          ],
          "surface": [
           {
            "colorbar": {
             "outlinewidth": 0,
             "ticks": ""
            },
            "colorscale": [
             [
              0,
              "#0d0887"
             ],
             [
              0.1111111111111111,
              "#46039f"
             ],
             [
              0.2222222222222222,
              "#7201a8"
             ],
             [
              0.3333333333333333,
              "#9c179e"
             ],
             [
              0.4444444444444444,
              "#bd3786"
             ],
             [
              0.5555555555555556,
              "#d8576b"
             ],
             [
              0.6666666666666666,
              "#ed7953"
             ],
             [
              0.7777777777777778,
              "#fb9f3a"
             ],
             [
              0.8888888888888888,
              "#fdca26"
             ],
             [
              1,
              "#f0f921"
             ]
            ],
            "type": "surface"
           }
          ],
          "table": [
           {
            "cells": {
             "fill": {
              "color": "#EBF0F8"
             },
             "line": {
              "color": "white"
             }
            },
            "header": {
             "fill": {
              "color": "#C8D4E3"
             },
             "line": {
              "color": "white"
             }
            },
            "type": "table"
           }
          ]
         },
         "layout": {
          "annotationdefaults": {
           "arrowcolor": "#2a3f5f",
           "arrowhead": 0,
           "arrowwidth": 1
          },
          "autotypenumbers": "strict",
          "coloraxis": {
           "colorbar": {
            "outlinewidth": 0,
            "ticks": ""
           }
          },
          "colorscale": {
           "diverging": [
            [
             0,
             "#8e0152"
            ],
            [
             0.1,
             "#c51b7d"
            ],
            [
             0.2,
             "#de77ae"
            ],
            [
             0.3,
             "#f1b6da"
            ],
            [
             0.4,
             "#fde0ef"
            ],
            [
             0.5,
             "#f7f7f7"
            ],
            [
             0.6,
             "#e6f5d0"
            ],
            [
             0.7,
             "#b8e186"
            ],
            [
             0.8,
             "#7fbc41"
            ],
            [
             0.9,
             "#4d9221"
            ],
            [
             1,
             "#276419"
            ]
           ],
           "sequential": [
            [
             0,
             "#0d0887"
            ],
            [
             0.1111111111111111,
             "#46039f"
            ],
            [
             0.2222222222222222,
             "#7201a8"
            ],
            [
             0.3333333333333333,
             "#9c179e"
            ],
            [
             0.4444444444444444,
             "#bd3786"
            ],
            [
             0.5555555555555556,
             "#d8576b"
            ],
            [
             0.6666666666666666,
             "#ed7953"
            ],
            [
             0.7777777777777778,
             "#fb9f3a"
            ],
            [
             0.8888888888888888,
             "#fdca26"
            ],
            [
             1,
             "#f0f921"
            ]
           ],
           "sequentialminus": [
            [
             0,
             "#0d0887"
            ],
            [
             0.1111111111111111,
             "#46039f"
            ],
            [
             0.2222222222222222,
             "#7201a8"
            ],
            [
             0.3333333333333333,
             "#9c179e"
            ],
            [
             0.4444444444444444,
             "#bd3786"
            ],
            [
             0.5555555555555556,
             "#d8576b"
            ],
            [
             0.6666666666666666,
             "#ed7953"
            ],
            [
             0.7777777777777778,
             "#fb9f3a"
            ],
            [
             0.8888888888888888,
             "#fdca26"
            ],
            [
             1,
             "#f0f921"
            ]
           ]
          },
          "colorway": [
           "#636efa",
           "#EF553B",
           "#00cc96",
           "#ab63fa",
           "#FFA15A",
           "#19d3f3",
           "#FF6692",
           "#B6E880",
           "#FF97FF",
           "#FECB52"
          ],
          "font": {
           "color": "#2a3f5f"
          },
          "geo": {
           "bgcolor": "white",
           "lakecolor": "white",
           "landcolor": "#E5ECF6",
           "showlakes": true,
           "showland": true,
           "subunitcolor": "white"
          },
          "hoverlabel": {
           "align": "left"
          },
          "hovermode": "closest",
          "mapbox": {
           "style": "light"
          },
          "paper_bgcolor": "white",
          "plot_bgcolor": "#E5ECF6",
          "polar": {
           "angularaxis": {
            "gridcolor": "white",
            "linecolor": "white",
            "ticks": ""
           },
           "bgcolor": "#E5ECF6",
           "radialaxis": {
            "gridcolor": "white",
            "linecolor": "white",
            "ticks": ""
           }
          },
          "scene": {
           "xaxis": {
            "backgroundcolor": "#E5ECF6",
            "gridcolor": "white",
            "gridwidth": 2,
            "linecolor": "white",
            "showbackground": true,
            "ticks": "",
            "zerolinecolor": "white"
           },
           "yaxis": {
            "backgroundcolor": "#E5ECF6",
            "gridcolor": "white",
            "gridwidth": 2,
            "linecolor": "white",
            "showbackground": true,
            "ticks": "",
            "zerolinecolor": "white"
           },
           "zaxis": {
            "backgroundcolor": "#E5ECF6",
            "gridcolor": "white",
            "gridwidth": 2,
            "linecolor": "white",
            "showbackground": true,
            "ticks": "",
            "zerolinecolor": "white"
           }
          },
          "shapedefaults": {
           "line": {
            "color": "#2a3f5f"
           }
          },
          "ternary": {
           "aaxis": {
            "gridcolor": "white",
            "linecolor": "white",
            "ticks": ""
           },
           "baxis": {
            "gridcolor": "white",
            "linecolor": "white",
            "ticks": ""
           },
           "bgcolor": "#E5ECF6",
           "caxis": {
            "gridcolor": "white",
            "linecolor": "white",
            "ticks": ""
           }
          },
          "title": {
           "x": 0.05
          },
          "xaxis": {
           "automargin": true,
           "gridcolor": "white",
           "linecolor": "white",
           "ticks": "",
           "title": {
            "standoff": 15
           },
           "zerolinecolor": "white",
           "zerolinewidth": 2
          },
          "yaxis": {
           "automargin": true,
           "gridcolor": "white",
           "linecolor": "white",
           "ticks": "",
           "title": {
            "standoff": 15
           },
           "zerolinecolor": "white",
           "zerolinewidth": 2
          }
         }
        },
        "title": {
         "text": "Rank Volatility (MLB Rankings)"
        },
        "xaxis": {
         "anchor": "y",
         "domain": [
          0,
          1
         ],
         "title": {
          "text": "Date"
         }
        },
        "yaxis": {
         "anchor": "x",
         "domain": [
          0,
          1
         ],
         "title": {
          "text": "Volatility"
         }
        }
       }
      }
     },
     "metadata": {},
     "output_type": "display_data"
    }
   ],
   "source": [
    "volatiliy_data = build_rank_volatility(\n",
    "    power=power,\n",
    "    standings=standings,\n",
    "    team_names=teams,\n",
    "    team_codes=tms,\n",
    "    selected_codes=[\"TOR\", \"NYY\"],\n",
    "    source=\"mlb\"\n",
    ")\n",
    "\n",
    "fig = px.line(\n",
    "    volatiliy_data,\n",
    "    x=\"date\",\n",
    "    y=\"sigma\",\n",
    "    color=\"team_code\",\n",
    "    title=\"Rank Volatility (MLB Rankings)\",\n",
    "    labels={\"sigma\": \"Volatility\", \"team_code\": \"Team\", \"date\": \"Date\"}\n",
    ")\n",
    "\n",
    "fig.show()"
   ]
  },
  {
   "cell_type": "code",
   "execution_count": 6,
   "id": "844dac5f",
   "metadata": {},
   "outputs": [
    {
     "name": "stderr",
     "output_type": "stream",
     "text": [
      "c:\\ProgramData\\anaconda3\\Lib\\site-packages\\numpy\\lib\\_function_base_impl.py:3037: RuntimeWarning:\n",
      "\n",
      "Degrees of freedom <= 0 for slice\n",
      "\n",
      "c:\\ProgramData\\anaconda3\\Lib\\site-packages\\numpy\\lib\\_function_base_impl.py:2894: RuntimeWarning:\n",
      "\n",
      "divide by zero encountered in divide\n",
      "\n",
      "c:\\ProgramData\\anaconda3\\Lib\\site-packages\\numpy\\lib\\_function_base_impl.py:2894: RuntimeWarning:\n",
      "\n",
      "invalid value encountered in multiply\n",
      "\n"
     ]
    },
    {
     "data": {
      "application/vnd.plotly.v1+json": {
       "config": {
        "plotlyServerURL": "https://plot.ly"
       },
       "data": [
        {
         "hovertemplate": "Lookback (weeks)=1<br>Date=%{x}<br>Stability=%{y}<extra></extra>",
         "legendgroup": "1",
         "line": {
          "color": "#636efa",
          "dash": "solid"
         },
         "marker": {
          "symbol": "circle"
         },
         "mode": "lines",
         "name": "1",
         "orientation": "v",
         "showlegend": true,
         "type": "scatter",
         "x": [
          "2025-05-11T00:00:00.000000000",
          "2025-05-18T00:00:00.000000000",
          "2025-05-25T00:00:00.000000000",
          "2025-06-08T00:00:00.000000000",
          "2025-06-15T00:00:00.000000000",
          "2025-06-22T00:00:00.000000000",
          "2025-06-29T00:00:00.000000000",
          "2025-07-06T00:00:00.000000000",
          "2025-07-27T00:00:00.000000000",
          "2025-08-03T00:00:00.000000000",
          "2025-08-10T00:00:00.000000000",
          "2025-08-17T00:00:00.000000000",
          "2025-08-24T00:00:00.000000000",
          "2025-09-07T00:00:00.000000000",
          "2025-09-14T00:00:00.000000000",
          "2025-09-21T00:00:00.000000000",
          "2025-09-28T00:00:00.000000000"
         ],
         "xaxis": "x",
         "y": {
          "bdata": "IIRiyhqhtD/sGpqmHpK0P5+v6XwNJbY//DNpYMador/Aucl1+rBIP70F3npKtIM/rnDB90zNjD+p0SG44gmeP6olHlxjeLM/Ur3a2hGHtT8kz2bfiN+1P+sKVUydpLU/XCMbKZC7sj/VPk/WlpuwP+jN/+yMoK0/JrExMSgvqj9ER98F7gWnPw==",
          "dtype": "f8"
         },
         "yaxis": "y"
        },
        {
         "hovertemplate": "Lookback (weeks)=2<br>Date=%{x}<br>Stability=%{y}<extra></extra>",
         "legendgroup": "2",
         "line": {
          "color": "#EF553B",
          "dash": "solid"
         },
         "marker": {
          "symbol": "circle"
         },
         "mode": "lines",
         "name": "2",
         "orientation": "v",
         "showlegend": true,
         "type": "scatter",
         "x": [
          "2025-05-11T00:00:00.000000000",
          "2025-05-18T00:00:00.000000000",
          "2025-05-25T00:00:00.000000000",
          "2025-06-08T00:00:00.000000000",
          "2025-06-15T00:00:00.000000000",
          "2025-06-22T00:00:00.000000000",
          "2025-06-29T00:00:00.000000000",
          "2025-07-06T00:00:00.000000000",
          "2025-07-27T00:00:00.000000000",
          "2025-08-03T00:00:00.000000000",
          "2025-08-10T00:00:00.000000000",
          "2025-08-17T00:00:00.000000000",
          "2025-08-24T00:00:00.000000000",
          "2025-09-07T00:00:00.000000000",
          "2025-09-14T00:00:00.000000000",
          "2025-09-21T00:00:00.000000000",
          "2025-09-28T00:00:00.000000000"
         ],
         "xaxis": "x",
         "y": {
          "bdata": "p04BM2ry6z/jLGddd7/mPwhfQfB5AOI/EgW4+JN51T9gJ3sLL1bKP0uQ1w4k0sg/Zvcm5MNqxz9AvNVIecXEP7OGMqDxvMQ/Q8wSA4whxT/EfJbpHSfFP6dLRR4fFMM/00OURBsuwD+uqWmD2Ae8Pzz1sHf8mrc/jfZ+wJYQtD+ST5kC5QexPw==",
          "dtype": "f8"
         },
         "yaxis": "y"
        },
        {
         "hovertemplate": "Lookback (weeks)=3<br>Date=%{x}<br>Stability=%{y}<extra></extra>",
         "legendgroup": "3",
         "line": {
          "color": "#00cc96",
          "dash": "solid"
         },
         "marker": {
          "symbol": "circle"
         },
         "mode": "lines",
         "name": "3",
         "orientation": "v",
         "showlegend": true,
         "type": "scatter",
         "x": [
          "2025-05-11T00:00:00.000000000",
          "2025-05-18T00:00:00.000000000",
          "2025-05-25T00:00:00.000000000",
          "2025-06-08T00:00:00.000000000",
          "2025-06-15T00:00:00.000000000",
          "2025-06-22T00:00:00.000000000",
          "2025-06-29T00:00:00.000000000",
          "2025-07-06T00:00:00.000000000",
          "2025-07-27T00:00:00.000000000",
          "2025-08-03T00:00:00.000000000",
          "2025-08-10T00:00:00.000000000",
          "2025-08-17T00:00:00.000000000",
          "2025-08-24T00:00:00.000000000",
          "2025-09-07T00:00:00.000000000",
          "2025-09-14T00:00:00.000000000",
          "2025-09-21T00:00:00.000000000",
          "2025-09-28T00:00:00.000000000"
         ],
         "xaxis": "x",
         "y": {
          "bdata": "qDVFyhhxDMCOAmCfhI0EwLb3Ykz22f2/eqPo5D1b+r/vz4FTULn0v4aPjFJP8u+/7gmN1xvJ5b8C+/BNU6DcvydcI92hAtS/UoVvqH/dyr+fkTMAa+i9v5zRnU45Nqm/al4AlLaklb8ApGIxYtYxv6j7Eg0yWok/13jBCe7Tkj9ZtyM6OICWPw==",
          "dtype": "f8"
         },
         "yaxis": "y"
        },
        {
         "hovertemplate": "Lookback (weeks)=4<br>Date=%{x}<br>Stability=%{y}<extra></extra>",
         "legendgroup": "4",
         "line": {
          "color": "#ab63fa",
          "dash": "solid"
         },
         "marker": {
          "symbol": "circle"
         },
         "mode": "lines",
         "name": "4",
         "orientation": "v",
         "showlegend": true,
         "type": "scatter",
         "x": [
          "2025-05-18T00:00:00.000000000",
          "2025-05-25T00:00:00.000000000",
          "2025-06-08T00:00:00.000000000",
          "2025-06-15T00:00:00.000000000",
          "2025-06-22T00:00:00.000000000",
          "2025-06-29T00:00:00.000000000",
          "2025-07-06T00:00:00.000000000",
          "2025-07-27T00:00:00.000000000",
          "2025-08-03T00:00:00.000000000",
          "2025-08-10T00:00:00.000000000",
          "2025-08-17T00:00:00.000000000",
          "2025-08-24T00:00:00.000000000",
          "2025-09-07T00:00:00.000000000",
          "2025-09-14T00:00:00.000000000",
          "2025-09-21T00:00:00.000000000",
          "2025-09-28T00:00:00.000000000"
         ],
         "xaxis": "x",
         "y": {
          "bdata": "YSRIJYAhB8BLFc1beFgAwOU//0/aVf+/4Ju9JM0M+L/naTfUlWryv++ZSO88lOy/RH+TgQCm4b+CV7cLWSHWv4joPyHSWM+/GPzHrqGQxL+IEWxBoBa1v6z8wfdaZqW/PLrA7t41jb/M+E3rnc9oP2ZK7UzMZ4s/3st0rXu1kj8=",
          "dtype": "f8"
         },
         "yaxis": "y"
        }
       ],
       "layout": {
        "legend": {
         "title": {
          "text": "Lookback (weeks)"
         },
         "tracegroupgap": 0
        },
        "template": {
         "data": {
          "bar": [
           {
            "error_x": {
             "color": "#2a3f5f"
            },
            "error_y": {
             "color": "#2a3f5f"
            },
            "marker": {
             "line": {
              "color": "#E5ECF6",
              "width": 0.5
             },
             "pattern": {
              "fillmode": "overlay",
              "size": 10,
              "solidity": 0.2
             }
            },
            "type": "bar"
           }
          ],
          "barpolar": [
           {
            "marker": {
             "line": {
              "color": "#E5ECF6",
              "width": 0.5
             },
             "pattern": {
              "fillmode": "overlay",
              "size": 10,
              "solidity": 0.2
             }
            },
            "type": "barpolar"
           }
          ],
          "carpet": [
           {
            "aaxis": {
             "endlinecolor": "#2a3f5f",
             "gridcolor": "white",
             "linecolor": "white",
             "minorgridcolor": "white",
             "startlinecolor": "#2a3f5f"
            },
            "baxis": {
             "endlinecolor": "#2a3f5f",
             "gridcolor": "white",
             "linecolor": "white",
             "minorgridcolor": "white",
             "startlinecolor": "#2a3f5f"
            },
            "type": "carpet"
           }
          ],
          "choropleth": [
           {
            "colorbar": {
             "outlinewidth": 0,
             "ticks": ""
            },
            "type": "choropleth"
           }
          ],
          "contour": [
           {
            "colorbar": {
             "outlinewidth": 0,
             "ticks": ""
            },
            "colorscale": [
             [
              0,
              "#0d0887"
             ],
             [
              0.1111111111111111,
              "#46039f"
             ],
             [
              0.2222222222222222,
              "#7201a8"
             ],
             [
              0.3333333333333333,
              "#9c179e"
             ],
             [
              0.4444444444444444,
              "#bd3786"
             ],
             [
              0.5555555555555556,
              "#d8576b"
             ],
             [
              0.6666666666666666,
              "#ed7953"
             ],
             [
              0.7777777777777778,
              "#fb9f3a"
             ],
             [
              0.8888888888888888,
              "#fdca26"
             ],
             [
              1,
              "#f0f921"
             ]
            ],
            "type": "contour"
           }
          ],
          "contourcarpet": [
           {
            "colorbar": {
             "outlinewidth": 0,
             "ticks": ""
            },
            "type": "contourcarpet"
           }
          ],
          "heatmap": [
           {
            "colorbar": {
             "outlinewidth": 0,
             "ticks": ""
            },
            "colorscale": [
             [
              0,
              "#0d0887"
             ],
             [
              0.1111111111111111,
              "#46039f"
             ],
             [
              0.2222222222222222,
              "#7201a8"
             ],
             [
              0.3333333333333333,
              "#9c179e"
             ],
             [
              0.4444444444444444,
              "#bd3786"
             ],
             [
              0.5555555555555556,
              "#d8576b"
             ],
             [
              0.6666666666666666,
              "#ed7953"
             ],
             [
              0.7777777777777778,
              "#fb9f3a"
             ],
             [
              0.8888888888888888,
              "#fdca26"
             ],
             [
              1,
              "#f0f921"
             ]
            ],
            "type": "heatmap"
           }
          ],
          "histogram": [
           {
            "marker": {
             "pattern": {
              "fillmode": "overlay",
              "size": 10,
              "solidity": 0.2
             }
            },
            "type": "histogram"
           }
          ],
          "histogram2d": [
           {
            "colorbar": {
             "outlinewidth": 0,
             "ticks": ""
            },
            "colorscale": [
             [
              0,
              "#0d0887"
             ],
             [
              0.1111111111111111,
              "#46039f"
             ],
             [
              0.2222222222222222,
              "#7201a8"
             ],
             [
              0.3333333333333333,
              "#9c179e"
             ],
             [
              0.4444444444444444,
              "#bd3786"
             ],
             [
              0.5555555555555556,
              "#d8576b"
             ],
             [
              0.6666666666666666,
              "#ed7953"
             ],
             [
              0.7777777777777778,
              "#fb9f3a"
             ],
             [
              0.8888888888888888,
              "#fdca26"
             ],
             [
              1,
              "#f0f921"
             ]
            ],
            "type": "histogram2d"
           }
          ],
          "histogram2dcontour": [
           {
            "colorbar": {
             "outlinewidth": 0,
             "ticks": ""
            },
            "colorscale": [
             [
              0,
              "#0d0887"
             ],
             [
              0.1111111111111111,
              "#46039f"
             ],
             [
              0.2222222222222222,
              "#7201a8"
             ],
             [
              0.3333333333333333,
              "#9c179e"
             ],
             [
              0.4444444444444444,
              "#bd3786"
             ],
             [
              0.5555555555555556,
              "#d8576b"
             ],
             [
              0.6666666666666666,
              "#ed7953"
             ],
             [
              0.7777777777777778,
              "#fb9f3a"
             ],
             [
              0.8888888888888888,
              "#fdca26"
             ],
             [
              1,
              "#f0f921"
             ]
            ],
            "type": "histogram2dcontour"
           }
          ],
          "mesh3d": [
           {
            "colorbar": {
             "outlinewidth": 0,
             "ticks": ""
            },
            "type": "mesh3d"
           }
          ],
          "parcoords": [
           {
            "line": {
             "colorbar": {
              "outlinewidth": 0,
              "ticks": ""
             }
            },
            "type": "parcoords"
           }
          ],
          "pie": [
           {
            "automargin": true,
            "type": "pie"
           }
          ],
          "scatter": [
           {
            "fillpattern": {
             "fillmode": "overlay",
             "size": 10,
             "solidity": 0.2
            },
            "type": "scatter"
           }
          ],
          "scatter3d": [
           {
            "line": {
             "colorbar": {
              "outlinewidth": 0,
              "ticks": ""
             }
            },
            "marker": {
             "colorbar": {
              "outlinewidth": 0,
              "ticks": ""
             }
            },
            "type": "scatter3d"
           }
          ],
          "scattercarpet": [
           {
            "marker": {
             "colorbar": {
              "outlinewidth": 0,
              "ticks": ""
             }
            },
            "type": "scattercarpet"
           }
          ],
          "scattergeo": [
           {
            "marker": {
             "colorbar": {
              "outlinewidth": 0,
              "ticks": ""
             }
            },
            "type": "scattergeo"
           }
          ],
          "scattergl": [
           {
            "marker": {
             "colorbar": {
              "outlinewidth": 0,
              "ticks": ""
             }
            },
            "type": "scattergl"
           }
          ],
          "scattermap": [
           {
            "marker": {
             "colorbar": {
              "outlinewidth": 0,
              "ticks": ""
             }
            },
            "type": "scattermap"
           }
          ],
          "scattermapbox": [
           {
            "marker": {
             "colorbar": {
              "outlinewidth": 0,
              "ticks": ""
             }
            },
            "type": "scattermapbox"
           }
          ],
          "scatterpolar": [
           {
            "marker": {
             "colorbar": {
              "outlinewidth": 0,
              "ticks": ""
             }
            },
            "type": "scatterpolar"
           }
          ],
          "scatterpolargl": [
           {
            "marker": {
             "colorbar": {
              "outlinewidth": 0,
              "ticks": ""
             }
            },
            "type": "scatterpolargl"
           }
          ],
          "scatterternary": [
           {
            "marker": {
             "colorbar": {
              "outlinewidth": 0,
              "ticks": ""
             }
            },
            "type": "scatterternary"
           }
          ],
          "surface": [
           {
            "colorbar": {
             "outlinewidth": 0,
             "ticks": ""
            },
            "colorscale": [
             [
              0,
              "#0d0887"
             ],
             [
              0.1111111111111111,
              "#46039f"
             ],
             [
              0.2222222222222222,
              "#7201a8"
             ],
             [
              0.3333333333333333,
              "#9c179e"
             ],
             [
              0.4444444444444444,
              "#bd3786"
             ],
             [
              0.5555555555555556,
              "#d8576b"
             ],
             [
              0.6666666666666666,
              "#ed7953"
             ],
             [
              0.7777777777777778,
              "#fb9f3a"
             ],
             [
              0.8888888888888888,
              "#fdca26"
             ],
             [
              1,
              "#f0f921"
             ]
            ],
            "type": "surface"
           }
          ],
          "table": [
           {
            "cells": {
             "fill": {
              "color": "#EBF0F8"
             },
             "line": {
              "color": "white"
             }
            },
            "header": {
             "fill": {
              "color": "#C8D4E3"
             },
             "line": {
              "color": "white"
             }
            },
            "type": "table"
           }
          ]
         },
         "layout": {
          "annotationdefaults": {
           "arrowcolor": "#2a3f5f",
           "arrowhead": 0,
           "arrowwidth": 1
          },
          "autotypenumbers": "strict",
          "coloraxis": {
           "colorbar": {
            "outlinewidth": 0,
            "ticks": ""
           }
          },
          "colorscale": {
           "diverging": [
            [
             0,
             "#8e0152"
            ],
            [
             0.1,
             "#c51b7d"
            ],
            [
             0.2,
             "#de77ae"
            ],
            [
             0.3,
             "#f1b6da"
            ],
            [
             0.4,
             "#fde0ef"
            ],
            [
             0.5,
             "#f7f7f7"
            ],
            [
             0.6,
             "#e6f5d0"
            ],
            [
             0.7,
             "#b8e186"
            ],
            [
             0.8,
             "#7fbc41"
            ],
            [
             0.9,
             "#4d9221"
            ],
            [
             1,
             "#276419"
            ]
           ],
           "sequential": [
            [
             0,
             "#0d0887"
            ],
            [
             0.1111111111111111,
             "#46039f"
            ],
            [
             0.2222222222222222,
             "#7201a8"
            ],
            [
             0.3333333333333333,
             "#9c179e"
            ],
            [
             0.4444444444444444,
             "#bd3786"
            ],
            [
             0.5555555555555556,
             "#d8576b"
            ],
            [
             0.6666666666666666,
             "#ed7953"
            ],
            [
             0.7777777777777778,
             "#fb9f3a"
            ],
            [
             0.8888888888888888,
             "#fdca26"
            ],
            [
             1,
             "#f0f921"
            ]
           ],
           "sequentialminus": [
            [
             0,
             "#0d0887"
            ],
            [
             0.1111111111111111,
             "#46039f"
            ],
            [
             0.2222222222222222,
             "#7201a8"
            ],
            [
             0.3333333333333333,
             "#9c179e"
            ],
            [
             0.4444444444444444,
             "#bd3786"
            ],
            [
             0.5555555555555556,
             "#d8576b"
            ],
            [
             0.6666666666666666,
             "#ed7953"
            ],
            [
             0.7777777777777778,
             "#fb9f3a"
            ],
            [
             0.8888888888888888,
             "#fdca26"
            ],
            [
             1,
             "#f0f921"
            ]
           ]
          },
          "colorway": [
           "#636efa",
           "#EF553B",
           "#00cc96",
           "#ab63fa",
           "#FFA15A",
           "#19d3f3",
           "#FF6692",
           "#B6E880",
           "#FF97FF",
           "#FECB52"
          ],
          "font": {
           "color": "#2a3f5f"
          },
          "geo": {
           "bgcolor": "white",
           "lakecolor": "white",
           "landcolor": "#E5ECF6",
           "showlakes": true,
           "showland": true,
           "subunitcolor": "white"
          },
          "hoverlabel": {
           "align": "left"
          },
          "hovermode": "closest",
          "mapbox": {
           "style": "light"
          },
          "paper_bgcolor": "white",
          "plot_bgcolor": "#E5ECF6",
          "polar": {
           "angularaxis": {
            "gridcolor": "white",
            "linecolor": "white",
            "ticks": ""
           },
           "bgcolor": "#E5ECF6",
           "radialaxis": {
            "gridcolor": "white",
            "linecolor": "white",
            "ticks": ""
           }
          },
          "scene": {
           "xaxis": {
            "backgroundcolor": "#E5ECF6",
            "gridcolor": "white",
            "gridwidth": 2,
            "linecolor": "white",
            "showbackground": true,
            "ticks": "",
            "zerolinecolor": "white"
           },
           "yaxis": {
            "backgroundcolor": "#E5ECF6",
            "gridcolor": "white",
            "gridwidth": 2,
            "linecolor": "white",
            "showbackground": true,
            "ticks": "",
            "zerolinecolor": "white"
           },
           "zaxis": {
            "backgroundcolor": "#E5ECF6",
            "gridcolor": "white",
            "gridwidth": 2,
            "linecolor": "white",
            "showbackground": true,
            "ticks": "",
            "zerolinecolor": "white"
           }
          },
          "shapedefaults": {
           "line": {
            "color": "#2a3f5f"
           }
          },
          "ternary": {
           "aaxis": {
            "gridcolor": "white",
            "linecolor": "white",
            "ticks": ""
           },
           "baxis": {
            "gridcolor": "white",
            "linecolor": "white",
            "ticks": ""
           },
           "bgcolor": "#E5ECF6",
           "caxis": {
            "gridcolor": "white",
            "linecolor": "white",
            "ticks": ""
           }
          },
          "title": {
           "x": 0.05
          },
          "xaxis": {
           "automargin": true,
           "gridcolor": "white",
           "linecolor": "white",
           "ticks": "",
           "title": {
            "standoff": 15
           },
           "zerolinecolor": "white",
           "zerolinewidth": 2
          },
          "yaxis": {
           "automargin": true,
           "gridcolor": "white",
           "linecolor": "white",
           "ticks": "",
           "title": {
            "standoff": 15
           },
           "zerolinecolor": "white",
           "zerolinewidth": 2
          }
         }
        },
        "title": {
         "text": "Stability (Δz) Time Series for TOR (MLB Rankings)"
        },
        "xaxis": {
         "anchor": "y",
         "domain": [
          0,
          1
         ],
         "title": {
          "text": "Date"
         }
        },
        "yaxis": {
         "anchor": "x",
         "domain": [
          0,
          1
         ],
         "title": {
          "text": "Stability"
         }
        }
       }
      }
     },
     "metadata": {},
     "output_type": "display_data"
    },
    {
     "data": {
      "application/vnd.plotly.v1+json": {
       "config": {
        "plotlyServerURL": "https://plot.ly"
       },
       "data": [
        {
         "hovertemplate": "Lookback (weeks)=1<br>Date=%{x}<br>Consistency=%{y}<extra></extra>",
         "legendgroup": "1",
         "line": {
          "color": "#636efa",
          "dash": "solid"
         },
         "marker": {
          "symbol": "circle"
         },
         "mode": "lines",
         "name": "1",
         "orientation": "v",
         "showlegend": true,
         "type": "scatter",
         "x": [
          "2025-05-04T00:00:00.000000000",
          "2025-05-11T00:00:00.000000000",
          "2025-05-18T00:00:00.000000000",
          "2025-05-25T00:00:00.000000000",
          "2025-06-08T00:00:00.000000000",
          "2025-06-15T00:00:00.000000000",
          "2025-06-22T00:00:00.000000000",
          "2025-06-29T00:00:00.000000000",
          "2025-07-06T00:00:00.000000000",
          "2025-07-27T00:00:00.000000000",
          "2025-08-03T00:00:00.000000000",
          "2025-08-10T00:00:00.000000000",
          "2025-08-17T00:00:00.000000000",
          "2025-08-24T00:00:00.000000000",
          "2025-09-07T00:00:00.000000000",
          "2025-09-14T00:00:00.000000000",
          "2025-09-21T00:00:00.000000000",
          "2025-09-28T00:00:00.000000000"
         ],
         "xaxis": "x",
         "y": {
          "bdata": "Bm3I8MP13T9OR/fWlergP6HVpirtrOI/EsUSbUbB5D+QUU2g8InWP/wST2Jpj9w/O/ViPvVi3j9niphfArrfPzDAAG/Ym+E/Z3EFmFnc5T+HnmJq8JLnPw1Ers+qzOg//0nwKvXH6T9TvheCyTTqP+MMaT4oneo/VR3d9WT36j9JyHbkCD/rPyBLlGhLees/",
          "dtype": "f8"
         },
         "yaxis": "y"
        },
        {
         "hovertemplate": "Lookback (weeks)=2<br>Date=%{x}<br>Consistency=%{y}<extra></extra>",
         "legendgroup": "2",
         "line": {
          "color": "#EF553B",
          "dash": "solid"
         },
         "marker": {
          "symbol": "circle"
         },
         "mode": "lines",
         "name": "2",
         "orientation": "v",
         "showlegend": true,
         "type": "scatter",
         "x": [
          "2025-05-04T00:00:00.000000000",
          "2025-05-11T00:00:00.000000000",
          "2025-05-18T00:00:00.000000000",
          "2025-05-25T00:00:00.000000000",
          "2025-06-08T00:00:00.000000000",
          "2025-06-15T00:00:00.000000000",
          "2025-06-22T00:00:00.000000000",
          "2025-06-29T00:00:00.000000000",
          "2025-07-06T00:00:00.000000000",
          "2025-07-27T00:00:00.000000000",
          "2025-08-03T00:00:00.000000000",
          "2025-08-10T00:00:00.000000000",
          "2025-08-17T00:00:00.000000000",
          "2025-08-24T00:00:00.000000000",
          "2025-09-07T00:00:00.000000000",
          "2025-09-14T00:00:00.000000000",
          "2025-09-21T00:00:00.000000000",
          "2025-09-28T00:00:00.000000000"
         ],
         "xaxis": "x",
         "y": {
          "bdata": "Ba/g4MCv6L+s3zr83iDDv3XvAhjhoLI/UcXJHz4YyD9BP1m1Ia7Dv3d0Hbza4NS/uU3RNgXSxr/RTgotf+GevzOwSNW26rE/QWujdxIYzT8w4NBE5p/YP0GeyhM+huA/Lt9/bgzC4j/9zMtMtvHjP74p4EpdDeU/5WEf0efD5T/kCQsnPmLmP89QgTQJ4eY/",
          "dtype": "f8"
         },
         "yaxis": "y"
        },
        {
         "hovertemplate": "Lookback (weeks)=3<br>Date=%{x}<br>Consistency=%{y}<extra></extra>",
         "legendgroup": "3",
         "line": {
          "color": "#00cc96",
          "dash": "solid"
         },
         "marker": {
          "symbol": "circle"
         },
         "mode": "lines",
         "name": "3",
         "orientation": "v",
         "showlegend": true,
         "type": "scatter",
         "x": [
          "2025-05-04T00:00:00.000000000",
          "2025-05-11T00:00:00.000000000",
          "2025-05-18T00:00:00.000000000",
          "2025-05-25T00:00:00.000000000",
          "2025-06-08T00:00:00.000000000",
          "2025-06-15T00:00:00.000000000",
          "2025-06-22T00:00:00.000000000",
          "2025-06-29T00:00:00.000000000",
          "2025-07-06T00:00:00.000000000",
          "2025-07-27T00:00:00.000000000",
          "2025-08-03T00:00:00.000000000",
          "2025-08-10T00:00:00.000000000",
          "2025-08-17T00:00:00.000000000",
          "2025-08-24T00:00:00.000000000",
          "2025-09-07T00:00:00.000000000",
          "2025-09-14T00:00:00.000000000",
          "2025-09-21T00:00:00.000000000",
          "2025-09-28T00:00:00.000000000"
         ],
         "xaxis": "x",
         "y": {
          "bdata": "////////7z9vP9J3nr7OP6Ei65Fz8+E/10IRV56V5j98j1fGrd+8v3TN78o1qtW/js3zt4GG27+xrOJtg8/Hv8x+rprDoLA/U8iZrwHXwz9rDJIqKerPP8QVk9d5Ptk/AhHAWDKB4D+HJ1NaoPDhP9/b9OJzQuM/s3nfV3pB5D9uE2F3IfDkP24MgkU3huU/",
          "dtype": "f8"
         },
         "yaxis": "y"
        },
        {
         "hovertemplate": "Lookback (weeks)=4<br>Date=%{x}<br>Consistency=%{y}<extra></extra>",
         "legendgroup": "4",
         "line": {
          "color": "#ab63fa",
          "dash": "solid"
         },
         "marker": {
          "symbol": "circle"
         },
         "mode": "lines",
         "name": "4",
         "orientation": "v",
         "showlegend": true,
         "type": "scatter",
         "x": [
          "2025-05-11T00:00:00.000000000",
          "2025-05-18T00:00:00.000000000",
          "2025-05-25T00:00:00.000000000",
          "2025-06-08T00:00:00.000000000",
          "2025-06-15T00:00:00.000000000",
          "2025-06-22T00:00:00.000000000",
          "2025-06-29T00:00:00.000000000",
          "2025-07-06T00:00:00.000000000",
          "2025-07-27T00:00:00.000000000",
          "2025-08-03T00:00:00.000000000",
          "2025-08-10T00:00:00.000000000",
          "2025-08-17T00:00:00.000000000",
          "2025-08-24T00:00:00.000000000",
          "2025-09-07T00:00:00.000000000",
          "2025-09-14T00:00:00.000000000",
          "2025-09-21T00:00:00.000000000",
          "2025-09-28T00:00:00.000000000"
         ],
         "xaxis": "x",
         "y": {
          "bdata": "////////7z+Tr93Z9g7nP4jaXwCRZuw/V6D/spZM0r9uur5YzAHavyz3BqG33d6/s2mmO/gw4r+SzzSPcc7Fvyesx7RQWrk/FiTpmq3ywz8cZkBdtD/PP76ja0ctaNg/Akh9ICCk3D8bj2xj1APgPzKEVD+cS+E/NaIEgxxH4j/WOqSoe/niPw==",
          "dtype": "f8"
         },
         "yaxis": "y"
        }
       ],
       "layout": {
        "legend": {
         "title": {
          "text": "Lookback (weeks)"
         },
         "tracegroupgap": 0
        },
        "template": {
         "data": {
          "bar": [
           {
            "error_x": {
             "color": "#2a3f5f"
            },
            "error_y": {
             "color": "#2a3f5f"
            },
            "marker": {
             "line": {
              "color": "#E5ECF6",
              "width": 0.5
             },
             "pattern": {
              "fillmode": "overlay",
              "size": 10,
              "solidity": 0.2
             }
            },
            "type": "bar"
           }
          ],
          "barpolar": [
           {
            "marker": {
             "line": {
              "color": "#E5ECF6",
              "width": 0.5
             },
             "pattern": {
              "fillmode": "overlay",
              "size": 10,
              "solidity": 0.2
             }
            },
            "type": "barpolar"
           }
          ],
          "carpet": [
           {
            "aaxis": {
             "endlinecolor": "#2a3f5f",
             "gridcolor": "white",
             "linecolor": "white",
             "minorgridcolor": "white",
             "startlinecolor": "#2a3f5f"
            },
            "baxis": {
             "endlinecolor": "#2a3f5f",
             "gridcolor": "white",
             "linecolor": "white",
             "minorgridcolor": "white",
             "startlinecolor": "#2a3f5f"
            },
            "type": "carpet"
           }
          ],
          "choropleth": [
           {
            "colorbar": {
             "outlinewidth": 0,
             "ticks": ""
            },
            "type": "choropleth"
           }
          ],
          "contour": [
           {
            "colorbar": {
             "outlinewidth": 0,
             "ticks": ""
            },
            "colorscale": [
             [
              0,
              "#0d0887"
             ],
             [
              0.1111111111111111,
              "#46039f"
             ],
             [
              0.2222222222222222,
              "#7201a8"
             ],
             [
              0.3333333333333333,
              "#9c179e"
             ],
             [
              0.4444444444444444,
              "#bd3786"
             ],
             [
              0.5555555555555556,
              "#d8576b"
             ],
             [
              0.6666666666666666,
              "#ed7953"
             ],
             [
              0.7777777777777778,
              "#fb9f3a"
             ],
             [
              0.8888888888888888,
              "#fdca26"
             ],
             [
              1,
              "#f0f921"
             ]
            ],
            "type": "contour"
           }
          ],
          "contourcarpet": [
           {
            "colorbar": {
             "outlinewidth": 0,
             "ticks": ""
            },
            "type": "contourcarpet"
           }
          ],
          "heatmap": [
           {
            "colorbar": {
             "outlinewidth": 0,
             "ticks": ""
            },
            "colorscale": [
             [
              0,
              "#0d0887"
             ],
             [
              0.1111111111111111,
              "#46039f"
             ],
             [
              0.2222222222222222,
              "#7201a8"
             ],
             [
              0.3333333333333333,
              "#9c179e"
             ],
             [
              0.4444444444444444,
              "#bd3786"
             ],
             [
              0.5555555555555556,
              "#d8576b"
             ],
             [
              0.6666666666666666,
              "#ed7953"
             ],
             [
              0.7777777777777778,
              "#fb9f3a"
             ],
             [
              0.8888888888888888,
              "#fdca26"
             ],
             [
              1,
              "#f0f921"
             ]
            ],
            "type": "heatmap"
           }
          ],
          "histogram": [
           {
            "marker": {
             "pattern": {
              "fillmode": "overlay",
              "size": 10,
              "solidity": 0.2
             }
            },
            "type": "histogram"
           }
          ],
          "histogram2d": [
           {
            "colorbar": {
             "outlinewidth": 0,
             "ticks": ""
            },
            "colorscale": [
             [
              0,
              "#0d0887"
             ],
             [
              0.1111111111111111,
              "#46039f"
             ],
             [
              0.2222222222222222,
              "#7201a8"
             ],
             [
              0.3333333333333333,
              "#9c179e"
             ],
             [
              0.4444444444444444,
              "#bd3786"
             ],
             [
              0.5555555555555556,
              "#d8576b"
             ],
             [
              0.6666666666666666,
              "#ed7953"
             ],
             [
              0.7777777777777778,
              "#fb9f3a"
             ],
             [
              0.8888888888888888,
              "#fdca26"
             ],
             [
              1,
              "#f0f921"
             ]
            ],
            "type": "histogram2d"
           }
          ],
          "histogram2dcontour": [
           {
            "colorbar": {
             "outlinewidth": 0,
             "ticks": ""
            },
            "colorscale": [
             [
              0,
              "#0d0887"
             ],
             [
              0.1111111111111111,
              "#46039f"
             ],
             [
              0.2222222222222222,
              "#7201a8"
             ],
             [
              0.3333333333333333,
              "#9c179e"
             ],
             [
              0.4444444444444444,
              "#bd3786"
             ],
             [
              0.5555555555555556,
              "#d8576b"
             ],
             [
              0.6666666666666666,
              "#ed7953"
             ],
             [
              0.7777777777777778,
              "#fb9f3a"
             ],
             [
              0.8888888888888888,
              "#fdca26"
             ],
             [
              1,
              "#f0f921"
             ]
            ],
            "type": "histogram2dcontour"
           }
          ],
          "mesh3d": [
           {
            "colorbar": {
             "outlinewidth": 0,
             "ticks": ""
            },
            "type": "mesh3d"
           }
          ],
          "parcoords": [
           {
            "line": {
             "colorbar": {
              "outlinewidth": 0,
              "ticks": ""
             }
            },
            "type": "parcoords"
           }
          ],
          "pie": [
           {
            "automargin": true,
            "type": "pie"
           }
          ],
          "scatter": [
           {
            "fillpattern": {
             "fillmode": "overlay",
             "size": 10,
             "solidity": 0.2
            },
            "type": "scatter"
           }
          ],
          "scatter3d": [
           {
            "line": {
             "colorbar": {
              "outlinewidth": 0,
              "ticks": ""
             }
            },
            "marker": {
             "colorbar": {
              "outlinewidth": 0,
              "ticks": ""
             }
            },
            "type": "scatter3d"
           }
          ],
          "scattercarpet": [
           {
            "marker": {
             "colorbar": {
              "outlinewidth": 0,
              "ticks": ""
             }
            },
            "type": "scattercarpet"
           }
          ],
          "scattergeo": [
           {
            "marker": {
             "colorbar": {
              "outlinewidth": 0,
              "ticks": ""
             }
            },
            "type": "scattergeo"
           }
          ],
          "scattergl": [
           {
            "marker": {
             "colorbar": {
              "outlinewidth": 0,
              "ticks": ""
             }
            },
            "type": "scattergl"
           }
          ],
          "scattermap": [
           {
            "marker": {
             "colorbar": {
              "outlinewidth": 0,
              "ticks": ""
             }
            },
            "type": "scattermap"
           }
          ],
          "scattermapbox": [
           {
            "marker": {
             "colorbar": {
              "outlinewidth": 0,
              "ticks": ""
             }
            },
            "type": "scattermapbox"
           }
          ],
          "scatterpolar": [
           {
            "marker": {
             "colorbar": {
              "outlinewidth": 0,
              "ticks": ""
             }
            },
            "type": "scatterpolar"
           }
          ],
          "scatterpolargl": [
           {
            "marker": {
             "colorbar": {
              "outlinewidth": 0,
              "ticks": ""
             }
            },
            "type": "scatterpolargl"
           }
          ],
          "scatterternary": [
           {
            "marker": {
             "colorbar": {
              "outlinewidth": 0,
              "ticks": ""
             }
            },
            "type": "scatterternary"
           }
          ],
          "surface": [
           {
            "colorbar": {
             "outlinewidth": 0,
             "ticks": ""
            },
            "colorscale": [
             [
              0,
              "#0d0887"
             ],
             [
              0.1111111111111111,
              "#46039f"
             ],
             [
              0.2222222222222222,
              "#7201a8"
             ],
             [
              0.3333333333333333,
              "#9c179e"
             ],
             [
              0.4444444444444444,
              "#bd3786"
             ],
             [
              0.5555555555555556,
              "#d8576b"
             ],
             [
              0.6666666666666666,
              "#ed7953"
             ],
             [
              0.7777777777777778,
              "#fb9f3a"
             ],
             [
              0.8888888888888888,
              "#fdca26"
             ],
             [
              1,
              "#f0f921"
             ]
            ],
            "type": "surface"
           }
          ],
          "table": [
           {
            "cells": {
             "fill": {
              "color": "#EBF0F8"
             },
             "line": {
              "color": "white"
             }
            },
            "header": {
             "fill": {
              "color": "#C8D4E3"
             },
             "line": {
              "color": "white"
             }
            },
            "type": "table"
           }
          ]
         },
         "layout": {
          "annotationdefaults": {
           "arrowcolor": "#2a3f5f",
           "arrowhead": 0,
           "arrowwidth": 1
          },
          "autotypenumbers": "strict",
          "coloraxis": {
           "colorbar": {
            "outlinewidth": 0,
            "ticks": ""
           }
          },
          "colorscale": {
           "diverging": [
            [
             0,
             "#8e0152"
            ],
            [
             0.1,
             "#c51b7d"
            ],
            [
             0.2,
             "#de77ae"
            ],
            [
             0.3,
             "#f1b6da"
            ],
            [
             0.4,
             "#fde0ef"
            ],
            [
             0.5,
             "#f7f7f7"
            ],
            [
             0.6,
             "#e6f5d0"
            ],
            [
             0.7,
             "#b8e186"
            ],
            [
             0.8,
             "#7fbc41"
            ],
            [
             0.9,
             "#4d9221"
            ],
            [
             1,
             "#276419"
            ]
           ],
           "sequential": [
            [
             0,
             "#0d0887"
            ],
            [
             0.1111111111111111,
             "#46039f"
            ],
            [
             0.2222222222222222,
             "#7201a8"
            ],
            [
             0.3333333333333333,
             "#9c179e"
            ],
            [
             0.4444444444444444,
             "#bd3786"
            ],
            [
             0.5555555555555556,
             "#d8576b"
            ],
            [
             0.6666666666666666,
             "#ed7953"
            ],
            [
             0.7777777777777778,
             "#fb9f3a"
            ],
            [
             0.8888888888888888,
             "#fdca26"
            ],
            [
             1,
             "#f0f921"
            ]
           ],
           "sequentialminus": [
            [
             0,
             "#0d0887"
            ],
            [
             0.1111111111111111,
             "#46039f"
            ],
            [
             0.2222222222222222,
             "#7201a8"
            ],
            [
             0.3333333333333333,
             "#9c179e"
            ],
            [
             0.4444444444444444,
             "#bd3786"
            ],
            [
             0.5555555555555556,
             "#d8576b"
            ],
            [
             0.6666666666666666,
             "#ed7953"
            ],
            [
             0.7777777777777778,
             "#fb9f3a"
            ],
            [
             0.8888888888888888,
             "#fdca26"
            ],
            [
             1,
             "#f0f921"
            ]
           ]
          },
          "colorway": [
           "#636efa",
           "#EF553B",
           "#00cc96",
           "#ab63fa",
           "#FFA15A",
           "#19d3f3",
           "#FF6692",
           "#B6E880",
           "#FF97FF",
           "#FECB52"
          ],
          "font": {
           "color": "#2a3f5f"
          },
          "geo": {
           "bgcolor": "white",
           "lakecolor": "white",
           "landcolor": "#E5ECF6",
           "showlakes": true,
           "showland": true,
           "subunitcolor": "white"
          },
          "hoverlabel": {
           "align": "left"
          },
          "hovermode": "closest",
          "mapbox": {
           "style": "light"
          },
          "paper_bgcolor": "white",
          "plot_bgcolor": "#E5ECF6",
          "polar": {
           "angularaxis": {
            "gridcolor": "white",
            "linecolor": "white",
            "ticks": ""
           },
           "bgcolor": "#E5ECF6",
           "radialaxis": {
            "gridcolor": "white",
            "linecolor": "white",
            "ticks": ""
           }
          },
          "scene": {
           "xaxis": {
            "backgroundcolor": "#E5ECF6",
            "gridcolor": "white",
            "gridwidth": 2,
            "linecolor": "white",
            "showbackground": true,
            "ticks": "",
            "zerolinecolor": "white"
           },
           "yaxis": {
            "backgroundcolor": "#E5ECF6",
            "gridcolor": "white",
            "gridwidth": 2,
            "linecolor": "white",
            "showbackground": true,
            "ticks": "",
            "zerolinecolor": "white"
           },
           "zaxis": {
            "backgroundcolor": "#E5ECF6",
            "gridcolor": "white",
            "gridwidth": 2,
            "linecolor": "white",
            "showbackground": true,
            "ticks": "",
            "zerolinecolor": "white"
           }
          },
          "shapedefaults": {
           "line": {
            "color": "#2a3f5f"
           }
          },
          "ternary": {
           "aaxis": {
            "gridcolor": "white",
            "linecolor": "white",
            "ticks": ""
           },
           "baxis": {
            "gridcolor": "white",
            "linecolor": "white",
            "ticks": ""
           },
           "bgcolor": "#E5ECF6",
           "caxis": {
            "gridcolor": "white",
            "linecolor": "white",
            "ticks": ""
           }
          },
          "title": {
           "x": 0.05
          },
          "xaxis": {
           "automargin": true,
           "gridcolor": "white",
           "linecolor": "white",
           "ticks": "",
           "title": {
            "standoff": 15
           },
           "zerolinecolor": "white",
           "zerolinewidth": 2
          },
          "yaxis": {
           "automargin": true,
           "gridcolor": "white",
           "linecolor": "white",
           "ticks": "",
           "title": {
            "standoff": 15
           },
           "zerolinecolor": "white",
           "zerolinewidth": 2
          }
         }
        },
        "title": {
         "text": "ACF Time Series for TOR (MLB Rankings)"
        },
        "xaxis": {
         "anchor": "y",
         "domain": [
          0,
          1
         ],
         "title": {
          "text": "Date"
         }
        },
        "yaxis": {
         "anchor": "x",
         "domain": [
          0,
          1
         ],
         "title": {
          "text": "Consistency"
         }
        }
       }
      }
     },
     "metadata": {},
     "output_type": "display_data"
    }
   ],
   "source": [
    "stab_df, acf_df = build_acf_stability_timeseries(\n",
    "    power=power,\n",
    "    standings=standings,\n",
    "    team_names=teams,\n",
    "    team_codes=tms,\n",
    "    team_code=\"TOR\",\n",
    "    source=\"mlb\",\n",
    "    max_lag=4,\n",
    "    return_acf=True,\n",
    ")\n",
    "\n",
    "fig = px.line(\n",
    "    stab_df,\n",
    "    x=\"date\",\n",
    "    y=\"value\",\n",
    "    color=\"lag\",\n",
    "    title=\"Stability (Δz) Time Series for TOR (MLB Rankings)\",\n",
    "    labels={\"value\": \"Stability\", \"date\": \"Date\", \"lag\": \"Lookback (weeks)\"}\n",
    ")\n",
    "\n",
    "fig.show()\n",
    "\n",
    "fig = px.line(\n",
    "    acf_df,\n",
    "    x=\"date\",\n",
    "    y=\"value\",\n",
    "    color=\"lag\",\n",
    "    title=\"ACF Time Series for TOR (MLB Rankings)\",\n",
    "    labels={\"value\": \"Consistency\", \"date\": \"Date\", \"lag\": \"Lookback (weeks)\"}\n",
    ")\n",
    "\n",
    "fig.show()"
   ]
  },
  {
   "cell_type": "code",
   "execution_count": 12,
   "id": "c3128eed",
   "metadata": {},
   "outputs": [
    {
     "name": "stderr",
     "output_type": "stream",
     "text": [
      "c:\\ProgramData\\anaconda3\\Lib\\site-packages\\statsmodels\\tsa\\stattools.py:1556: FutureWarning:\n",
      "\n",
      "verbose is deprecated since functions should not print results\n",
      "\n"
     ]
    },
    {
     "data": {
      "application/vnd.plotly.v1+json": {
       "config": {
        "plotlyServerURL": "https://plot.ly"
       },
       "data": [
        {
         "hovertemplate": "Lag (weeks)=%{x}<br>p-value=%{y}<extra></extra>",
         "legendgroup": "",
         "marker": {
          "color": "#636efa",
          "pattern": {
           "shape": ""
          }
         },
         "name": "",
         "orientation": "v",
         "showlegend": false,
         "textposition": "auto",
         "type": "bar",
         "x": {
          "bdata": "AQIDBAUG",
          "dtype": "i1"
         },
         "xaxis": "x",
         "y": {
          "bdata": "On/RQke05T/nwSZwcvnIPx5Oyn8rtIw/1xb0Wp8mpj9ECSkql83CPzZfFvZzdcM/",
          "dtype": "f8"
         },
         "yaxis": "y"
        }
       ],
       "layout": {
        "annotations": [
         {
          "showarrow": false,
          "text": "Significance Threshold (0.05)",
          "x": 1,
          "xanchor": "right",
          "xref": "x domain",
          "y": 0.05,
          "yanchor": "bottom",
          "yref": "y"
         }
        ],
        "barmode": "relative",
        "legend": {
         "tracegroupgap": 0
        },
        "shapes": [
         {
          "line": {
           "color": "red",
           "dash": "dash"
          },
          "type": "line",
          "x0": 0,
          "x1": 1,
          "xref": "x domain",
          "y0": 0.05,
          "y1": 0.05,
          "yref": "y"
         }
        ],
        "template": {
         "data": {
          "bar": [
           {
            "error_x": {
             "color": "#2a3f5f"
            },
            "error_y": {
             "color": "#2a3f5f"
            },
            "marker": {
             "line": {
              "color": "#E5ECF6",
              "width": 0.5
             },
             "pattern": {
              "fillmode": "overlay",
              "size": 10,
              "solidity": 0.2
             }
            },
            "type": "bar"
           }
          ],
          "barpolar": [
           {
            "marker": {
             "line": {
              "color": "#E5ECF6",
              "width": 0.5
             },
             "pattern": {
              "fillmode": "overlay",
              "size": 10,
              "solidity": 0.2
             }
            },
            "type": "barpolar"
           }
          ],
          "carpet": [
           {
            "aaxis": {
             "endlinecolor": "#2a3f5f",
             "gridcolor": "white",
             "linecolor": "white",
             "minorgridcolor": "white",
             "startlinecolor": "#2a3f5f"
            },
            "baxis": {
             "endlinecolor": "#2a3f5f",
             "gridcolor": "white",
             "linecolor": "white",
             "minorgridcolor": "white",
             "startlinecolor": "#2a3f5f"
            },
            "type": "carpet"
           }
          ],
          "choropleth": [
           {
            "colorbar": {
             "outlinewidth": 0,
             "ticks": ""
            },
            "type": "choropleth"
           }
          ],
          "contour": [
           {
            "colorbar": {
             "outlinewidth": 0,
             "ticks": ""
            },
            "colorscale": [
             [
              0,
              "#0d0887"
             ],
             [
              0.1111111111111111,
              "#46039f"
             ],
             [
              0.2222222222222222,
              "#7201a8"
             ],
             [
              0.3333333333333333,
              "#9c179e"
             ],
             [
              0.4444444444444444,
              "#bd3786"
             ],
             [
              0.5555555555555556,
              "#d8576b"
             ],
             [
              0.6666666666666666,
              "#ed7953"
             ],
             [
              0.7777777777777778,
              "#fb9f3a"
             ],
             [
              0.8888888888888888,
              "#fdca26"
             ],
             [
              1,
              "#f0f921"
             ]
            ],
            "type": "contour"
           }
          ],
          "contourcarpet": [
           {
            "colorbar": {
             "outlinewidth": 0,
             "ticks": ""
            },
            "type": "contourcarpet"
           }
          ],
          "heatmap": [
           {
            "colorbar": {
             "outlinewidth": 0,
             "ticks": ""
            },
            "colorscale": [
             [
              0,
              "#0d0887"
             ],
             [
              0.1111111111111111,
              "#46039f"
             ],
             [
              0.2222222222222222,
              "#7201a8"
             ],
             [
              0.3333333333333333,
              "#9c179e"
             ],
             [
              0.4444444444444444,
              "#bd3786"
             ],
             [
              0.5555555555555556,
              "#d8576b"
             ],
             [
              0.6666666666666666,
              "#ed7953"
             ],
             [
              0.7777777777777778,
              "#fb9f3a"
             ],
             [
              0.8888888888888888,
              "#fdca26"
             ],
             [
              1,
              "#f0f921"
             ]
            ],
            "type": "heatmap"
           }
          ],
          "histogram": [
           {
            "marker": {
             "pattern": {
              "fillmode": "overlay",
              "size": 10,
              "solidity": 0.2
             }
            },
            "type": "histogram"
           }
          ],
          "histogram2d": [
           {
            "colorbar": {
             "outlinewidth": 0,
             "ticks": ""
            },
            "colorscale": [
             [
              0,
              "#0d0887"
             ],
             [
              0.1111111111111111,
              "#46039f"
             ],
             [
              0.2222222222222222,
              "#7201a8"
             ],
             [
              0.3333333333333333,
              "#9c179e"
             ],
             [
              0.4444444444444444,
              "#bd3786"
             ],
             [
              0.5555555555555556,
              "#d8576b"
             ],
             [
              0.6666666666666666,
              "#ed7953"
             ],
             [
              0.7777777777777778,
              "#fb9f3a"
             ],
             [
              0.8888888888888888,
              "#fdca26"
             ],
             [
              1,
              "#f0f921"
             ]
            ],
            "type": "histogram2d"
           }
          ],
          "histogram2dcontour": [
           {
            "colorbar": {
             "outlinewidth": 0,
             "ticks": ""
            },
            "colorscale": [
             [
              0,
              "#0d0887"
             ],
             [
              0.1111111111111111,
              "#46039f"
             ],
             [
              0.2222222222222222,
              "#7201a8"
             ],
             [
              0.3333333333333333,
              "#9c179e"
             ],
             [
              0.4444444444444444,
              "#bd3786"
             ],
             [
              0.5555555555555556,
              "#d8576b"
             ],
             [
              0.6666666666666666,
              "#ed7953"
             ],
             [
              0.7777777777777778,
              "#fb9f3a"
             ],
             [
              0.8888888888888888,
              "#fdca26"
             ],
             [
              1,
              "#f0f921"
             ]
            ],
            "type": "histogram2dcontour"
           }
          ],
          "mesh3d": [
           {
            "colorbar": {
             "outlinewidth": 0,
             "ticks": ""
            },
            "type": "mesh3d"
           }
          ],
          "parcoords": [
           {
            "line": {
             "colorbar": {
              "outlinewidth": 0,
              "ticks": ""
             }
            },
            "type": "parcoords"
           }
          ],
          "pie": [
           {
            "automargin": true,
            "type": "pie"
           }
          ],
          "scatter": [
           {
            "fillpattern": {
             "fillmode": "overlay",
             "size": 10,
             "solidity": 0.2
            },
            "type": "scatter"
           }
          ],
          "scatter3d": [
           {
            "line": {
             "colorbar": {
              "outlinewidth": 0,
              "ticks": ""
             }
            },
            "marker": {
             "colorbar": {
              "outlinewidth": 0,
              "ticks": ""
             }
            },
            "type": "scatter3d"
           }
          ],
          "scattercarpet": [
           {
            "marker": {
             "colorbar": {
              "outlinewidth": 0,
              "ticks": ""
             }
            },
            "type": "scattercarpet"
           }
          ],
          "scattergeo": [
           {
            "marker": {
             "colorbar": {
              "outlinewidth": 0,
              "ticks": ""
             }
            },
            "type": "scattergeo"
           }
          ],
          "scattergl": [
           {
            "marker": {
             "colorbar": {
              "outlinewidth": 0,
              "ticks": ""
             }
            },
            "type": "scattergl"
           }
          ],
          "scattermap": [
           {
            "marker": {
             "colorbar": {
              "outlinewidth": 0,
              "ticks": ""
             }
            },
            "type": "scattermap"
           }
          ],
          "scattermapbox": [
           {
            "marker": {
             "colorbar": {
              "outlinewidth": 0,
              "ticks": ""
             }
            },
            "type": "scattermapbox"
           }
          ],
          "scatterpolar": [
           {
            "marker": {
             "colorbar": {
              "outlinewidth": 0,
              "ticks": ""
             }
            },
            "type": "scatterpolar"
           }
          ],
          "scatterpolargl": [
           {
            "marker": {
             "colorbar": {
              "outlinewidth": 0,
              "ticks": ""
             }
            },
            "type": "scatterpolargl"
           }
          ],
          "scatterternary": [
           {
            "marker": {
             "colorbar": {
              "outlinewidth": 0,
              "ticks": ""
             }
            },
            "type": "scatterternary"
           }
          ],
          "surface": [
           {
            "colorbar": {
             "outlinewidth": 0,
             "ticks": ""
            },
            "colorscale": [
             [
              0,
              "#0d0887"
             ],
             [
              0.1111111111111111,
              "#46039f"
             ],
             [
              0.2222222222222222,
              "#7201a8"
             ],
             [
              0.3333333333333333,
              "#9c179e"
             ],
             [
              0.4444444444444444,
              "#bd3786"
             ],
             [
              0.5555555555555556,
              "#d8576b"
             ],
             [
              0.6666666666666666,
              "#ed7953"
             ],
             [
              0.7777777777777778,
              "#fb9f3a"
             ],
             [
              0.8888888888888888,
              "#fdca26"
             ],
             [
              1,
              "#f0f921"
             ]
            ],
            "type": "surface"
           }
          ],
          "table": [
           {
            "cells": {
             "fill": {
              "color": "#EBF0F8"
             },
             "line": {
              "color": "white"
             }
            },
            "header": {
             "fill": {
              "color": "#C8D4E3"
             },
             "line": {
              "color": "white"
             }
            },
            "type": "table"
           }
          ]
         },
         "layout": {
          "annotationdefaults": {
           "arrowcolor": "#2a3f5f",
           "arrowhead": 0,
           "arrowwidth": 1
          },
          "autotypenumbers": "strict",
          "coloraxis": {
           "colorbar": {
            "outlinewidth": 0,
            "ticks": ""
           }
          },
          "colorscale": {
           "diverging": [
            [
             0,
             "#8e0152"
            ],
            [
             0.1,
             "#c51b7d"
            ],
            [
             0.2,
             "#de77ae"
            ],
            [
             0.3,
             "#f1b6da"
            ],
            [
             0.4,
             "#fde0ef"
            ],
            [
             0.5,
             "#f7f7f7"
            ],
            [
             0.6,
             "#e6f5d0"
            ],
            [
             0.7,
             "#b8e186"
            ],
            [
             0.8,
             "#7fbc41"
            ],
            [
             0.9,
             "#4d9221"
            ],
            [
             1,
             "#276419"
            ]
           ],
           "sequential": [
            [
             0,
             "#0d0887"
            ],
            [
             0.1111111111111111,
             "#46039f"
            ],
            [
             0.2222222222222222,
             "#7201a8"
            ],
            [
             0.3333333333333333,
             "#9c179e"
            ],
            [
             0.4444444444444444,
             "#bd3786"
            ],
            [
             0.5555555555555556,
             "#d8576b"
            ],
            [
             0.6666666666666666,
             "#ed7953"
            ],
            [
             0.7777777777777778,
             "#fb9f3a"
            ],
            [
             0.8888888888888888,
             "#fdca26"
            ],
            [
             1,
             "#f0f921"
            ]
           ],
           "sequentialminus": [
            [
             0,
             "#0d0887"
            ],
            [
             0.1111111111111111,
             "#46039f"
            ],
            [
             0.2222222222222222,
             "#7201a8"
            ],
            [
             0.3333333333333333,
             "#9c179e"
            ],
            [
             0.4444444444444444,
             "#bd3786"
            ],
            [
             0.5555555555555556,
             "#d8576b"
            ],
            [
             0.6666666666666666,
             "#ed7953"
            ],
            [
             0.7777777777777778,
             "#fb9f3a"
            ],
            [
             0.8888888888888888,
             "#fdca26"
            ],
            [
             1,
             "#f0f921"
            ]
           ]
          },
          "colorway": [
           "#636efa",
           "#EF553B",
           "#00cc96",
           "#ab63fa",
           "#FFA15A",
           "#19d3f3",
           "#FF6692",
           "#B6E880",
           "#FF97FF",
           "#FECB52"
          ],
          "font": {
           "color": "#2a3f5f"
          },
          "geo": {
           "bgcolor": "white",
           "lakecolor": "white",
           "landcolor": "#E5ECF6",
           "showlakes": true,
           "showland": true,
           "subunitcolor": "white"
          },
          "hoverlabel": {
           "align": "left"
          },
          "hovermode": "closest",
          "mapbox": {
           "style": "light"
          },
          "paper_bgcolor": "white",
          "plot_bgcolor": "#E5ECF6",
          "polar": {
           "angularaxis": {
            "gridcolor": "white",
            "linecolor": "white",
            "ticks": ""
           },
           "bgcolor": "#E5ECF6",
           "radialaxis": {
            "gridcolor": "white",
            "linecolor": "white",
            "ticks": ""
           }
          },
          "scene": {
           "xaxis": {
            "backgroundcolor": "#E5ECF6",
            "gridcolor": "white",
            "gridwidth": 2,
            "linecolor": "white",
            "showbackground": true,
            "ticks": "",
            "zerolinecolor": "white"
           },
           "yaxis": {
            "backgroundcolor": "#E5ECF6",
            "gridcolor": "white",
            "gridwidth": 2,
            "linecolor": "white",
            "showbackground": true,
            "ticks": "",
            "zerolinecolor": "white"
           },
           "zaxis": {
            "backgroundcolor": "#E5ECF6",
            "gridcolor": "white",
            "gridwidth": 2,
            "linecolor": "white",
            "showbackground": true,
            "ticks": "",
            "zerolinecolor": "white"
           }
          },
          "shapedefaults": {
           "line": {
            "color": "#2a3f5f"
           }
          },
          "ternary": {
           "aaxis": {
            "gridcolor": "white",
            "linecolor": "white",
            "ticks": ""
           },
           "baxis": {
            "gridcolor": "white",
            "linecolor": "white",
            "ticks": ""
           },
           "bgcolor": "#E5ECF6",
           "caxis": {
            "gridcolor": "white",
            "linecolor": "white",
            "ticks": ""
           }
          },
          "title": {
           "x": 0.05
          },
          "xaxis": {
           "automargin": true,
           "gridcolor": "white",
           "linecolor": "white",
           "ticks": "",
           "title": {
            "standoff": 15
           },
           "zerolinecolor": "white",
           "zerolinewidth": 2
          },
          "yaxis": {
           "automargin": true,
           "gridcolor": "white",
           "linecolor": "white",
           "ticks": "",
           "title": {
            "standoff": 15
           },
           "zerolinecolor": "white",
           "zerolinewidth": 2
          }
         }
        },
        "title": {
         "text": "Granger Causality Test: Power Rankings causing MLB Rankings for TOR"
        },
        "xaxis": {
         "anchor": "y",
         "domain": [
          0,
          1
         ],
         "title": {
          "text": "Lag (weeks)"
         }
        },
        "yaxis": {
         "anchor": "x",
         "domain": [
          0,
          1
         ],
         "title": {
          "text": "p-value"
         }
        }
       }
      }
     },
     "metadata": {},
     "output_type": "display_data"
    },
    {
     "data": {
      "text/plain": [
       "{'team_code': 'NYY',\n",
       " 'team_id': 'new-york-yankees',\n",
       " 'label': 'New York Yankees',\n",
       " 'n_obs_raw': 22,\n",
       " 'n_obs_used': 21,\n",
       " 'max_lag_requested': 6,\n",
       " 'max_lag_effective': 0,\n",
       " 'best_lag': 3,\n",
       " 'best_p': 0.014015521848057818,\n",
       " 'is_significant': True,\n",
       " 'alpha': 0.05,\n",
       " 'direction': 'power_to_mlb',\n",
       " 'diff': 'first_difference',\n",
       " 'maxlag_effective': 6}"
      ]
     },
     "execution_count": 12,
     "metadata": {},
     "output_type": "execute_result"
    }
   ],
   "source": [
    "granger_df, stats = granger_power_to_mlb_report(\n",
    "    power=power,\n",
    "    standings=standings,\n",
    "    team_names=teams,\n",
    "    team_codes=tms,\n",
    "    team_code=\"NYY\",\n",
    "    max_lag=6\n",
    ")\n",
    "\n",
    "# plot bar chart of p-values\n",
    "fig = px.bar(\n",
    "    granger_df,\n",
    "    x=\"lag\",\n",
    "    y=\"p_value\",\n",
    "    title=\"Granger Causality Test: Power Rankings causing MLB Rankings for TOR\",\n",
    "    labels={\"lag\": \"Lag (weeks)\", \"p_value\": \"p-value\"}\n",
    ")\n",
    "\n",
    "fig.add_hline(\n",
    "    y=0.05,\n",
    "    line=dict(color=\"red\", dash=\"dash\"),\n",
    "    annotation_text=\"Significance Threshold (0.05)\",\n",
    "    annotation_position=\"top right\"\n",
    ")\n",
    "\n",
    "fig.show()\n",
    "\n",
    "stats"
   ]
  },
  {
   "cell_type": "code",
   "execution_count": 9,
   "id": "324aab61",
   "metadata": {},
   "outputs": [
    {
     "name": "stdout",
     "output_type": "stream",
     "text": [
      "{   'avg_abs_rank_gap': 7.2727272727272725,\n",
      "    'corr_delta': -0.26160004033323414,\n",
      "    'corr_levels': -0.33142279218780113,\n",
      "    'dtw_raw': 90.0,\n",
      "    'dtw_similarity_raw_0_100': 91.61230195712955,\n",
      "    'dtw_similarity_z': 69.28960703760188,\n",
      "    'dtw_z': 14.626190147234718,\n",
      "    'overlap': 22,\n",
      "    'source': 'mlb',\n",
      "    'team_a': 'Toronto Blue Jays',\n",
      "    'team_b': 'New York Yankees'}\n"
     ]
    }
   ],
   "source": [
    "stats = compute_trajectory_similarity(\n",
    "    power=power,\n",
    "    standings=standings,\n",
    "    team_names=teams,\n",
    "    team_codes=tms,\n",
    "    team_code_a=\"TOR\",\n",
    "    team_code_b=\"NYY\",\n",
    "    source=\"mlb\"\n",
    ")\n",
    "\n",
    "# Pretty print the stats\n",
    "import pprint\n",
    "pp = pprint.PrettyPrinter(indent=4)\n",
    "pp.pprint(stats)"
   ]
  },
  {
   "cell_type": "code",
   "execution_count": 18,
   "id": "7d6a22f6",
   "metadata": {},
   "outputs": [
    {
     "data": {
      "application/vnd.microsoft.datawrangler.viewer.v0+json": {
       "columns": [
        {
         "name": "index",
         "rawType": "int64",
         "type": "integer"
        },
        {
         "name": "cluster",
         "rawType": "int64",
         "type": "integer"
        },
        {
         "name": "n_teams",
         "rawType": "int64",
         "type": "integer"
        },
        {
         "name": "avg_last_mlb_rank",
         "rawType": "float64",
         "type": "float"
        },
        {
         "name": "median_last_mlb_rank",
         "rawType": "float64",
         "type": "float"
        },
        {
         "name": "made_playoffs",
         "rawType": "int64",
         "type": "integer"
        },
        {
         "name": "pct_playoffs",
         "rawType": "float64",
         "type": "float"
        },
        {
         "name": "teams",
         "rawType": "object",
         "type": "string"
        }
       ],
       "ref": "e87db9c2-b847-4f66-be3d-dc8463f50825",
       "rows": [
        [
         "0",
         "6",
         "5",
         "3.6",
         "3.0",
         "5",
         "1.0",
         "los-angeles-dodgers, milwaukee-brewers, new-york-yankees, philadeliphia-phillies, seattle-mariners"
        ],
        [
         "1",
         "5",
         "3",
         "12.666666666666666",
         "11.0",
         "2",
         "0.6666666666666666",
         "chicago-cubs, detroit-tigers, tampa-bay-rays"
        ],
        [
         "2",
         "3",
         "9",
         "14.88888888888889",
         "15.0",
         "3",
         "0.3333333333333333",
         "cincinnati-reds, cleveland-guardians, houston-astros, kansas-city-royals, pittsburgh-pirates, san-diego-padres, san-francisco-giants, st-louis-cardinals, texas-rangers"
        ],
        [
         "3",
         "4",
         "7",
         "15.142857142857142",
         "18.0",
         "2",
         "0.2857142857142857",
         "arizona-diamondbacks, athletics, atlanta-braves, boston-redsox, miami-marlins, new-york-mets, toronto-bluejays"
        ],
        [
         "4",
         "2",
         "4",
         "26.25",
         "26.0",
         "0",
         "0.0",
         "baltimore-orioles, chicago-whitesox, los-angeles-angels, minnesota-twins"
        ],
        [
         "5",
         "1",
         "2",
         "29.0",
         "29.0",
         "0",
         "0.0",
         "colorado-rockies, washington-nationals"
        ]
       ],
       "shape": {
        "columns": 7,
        "rows": 6
       }
      },
      "text/html": [
       "<div>\n",
       "<style scoped>\n",
       "    .dataframe tbody tr th:only-of-type {\n",
       "        vertical-align: middle;\n",
       "    }\n",
       "\n",
       "    .dataframe tbody tr th {\n",
       "        vertical-align: top;\n",
       "    }\n",
       "\n",
       "    .dataframe thead th {\n",
       "        text-align: right;\n",
       "    }\n",
       "</style>\n",
       "<table border=\"1\" class=\"dataframe\">\n",
       "  <thead>\n",
       "    <tr style=\"text-align: right;\">\n",
       "      <th></th>\n",
       "      <th>cluster</th>\n",
       "      <th>n_teams</th>\n",
       "      <th>avg_last_mlb_rank</th>\n",
       "      <th>median_last_mlb_rank</th>\n",
       "      <th>made_playoffs</th>\n",
       "      <th>pct_playoffs</th>\n",
       "      <th>teams</th>\n",
       "    </tr>\n",
       "  </thead>\n",
       "  <tbody>\n",
       "    <tr>\n",
       "      <th>0</th>\n",
       "      <td>6</td>\n",
       "      <td>5</td>\n",
       "      <td>3.600000</td>\n",
       "      <td>3.0</td>\n",
       "      <td>5</td>\n",
       "      <td>1.000000</td>\n",
       "      <td>los-angeles-dodgers, milwaukee-brewers, new-yo...</td>\n",
       "    </tr>\n",
       "    <tr>\n",
       "      <th>1</th>\n",
       "      <td>5</td>\n",
       "      <td>3</td>\n",
       "      <td>12.666667</td>\n",
       "      <td>11.0</td>\n",
       "      <td>2</td>\n",
       "      <td>0.666667</td>\n",
       "      <td>chicago-cubs, detroit-tigers, tampa-bay-rays</td>\n",
       "    </tr>\n",
       "    <tr>\n",
       "      <th>2</th>\n",
       "      <td>3</td>\n",
       "      <td>9</td>\n",
       "      <td>14.888889</td>\n",
       "      <td>15.0</td>\n",
       "      <td>3</td>\n",
       "      <td>0.333333</td>\n",
       "      <td>cincinnati-reds, cleveland-guardians, houston-...</td>\n",
       "    </tr>\n",
       "    <tr>\n",
       "      <th>3</th>\n",
       "      <td>4</td>\n",
       "      <td>7</td>\n",
       "      <td>15.142857</td>\n",
       "      <td>18.0</td>\n",
       "      <td>2</td>\n",
       "      <td>0.285714</td>\n",
       "      <td>arizona-diamondbacks, athletics, atlanta-brave...</td>\n",
       "    </tr>\n",
       "    <tr>\n",
       "      <th>4</th>\n",
       "      <td>2</td>\n",
       "      <td>4</td>\n",
       "      <td>26.250000</td>\n",
       "      <td>26.0</td>\n",
       "      <td>0</td>\n",
       "      <td>0.000000</td>\n",
       "      <td>baltimore-orioles, chicago-whitesox, los-angel...</td>\n",
       "    </tr>\n",
       "    <tr>\n",
       "      <th>5</th>\n",
       "      <td>1</td>\n",
       "      <td>2</td>\n",
       "      <td>29.000000</td>\n",
       "      <td>29.0</td>\n",
       "      <td>0</td>\n",
       "      <td>0.000000</td>\n",
       "      <td>colorado-rockies, washington-nationals</td>\n",
       "    </tr>\n",
       "  </tbody>\n",
       "</table>\n",
       "</div>"
      ],
      "text/plain": [
       "   cluster  n_teams  avg_last_mlb_rank  median_last_mlb_rank  made_playoffs  \\\n",
       "0        6        5           3.600000                   3.0              5   \n",
       "1        5        3          12.666667                  11.0              2   \n",
       "2        3        9          14.888889                  15.0              3   \n",
       "3        4        7          15.142857                  18.0              2   \n",
       "4        2        4          26.250000                  26.0              0   \n",
       "5        1        2          29.000000                  29.0              0   \n",
       "\n",
       "   pct_playoffs                                              teams  \n",
       "0      1.000000  los-angeles-dodgers, milwaukee-brewers, new-yo...  \n",
       "1      0.666667       chicago-cubs, detroit-tigers, tampa-bay-rays  \n",
       "2      0.333333  cincinnati-reds, cleveland-guardians, houston-...  \n",
       "3      0.285714  arizona-diamondbacks, athletics, atlanta-brave...  \n",
       "4      0.000000  baltimore-orioles, chicago-whitesox, los-angel...  \n",
       "5      0.000000             colorado-rockies, washington-nationals  "
      ]
     },
     "execution_count": 18,
     "metadata": {},
     "output_type": "execute_result"
    }
   ],
   "source": [
    "clusters = cluster_and_summarize_season_stats(\n",
    "    standings=standings,\n",
    "    odds=odds,\n",
    "    batting=batting,\n",
    "    pitching=pitching,\n",
    "    fielding=fielding,\n",
    "    k=6\n",
    ")\n",
    "\n",
    "clusters"
   ]
  },
  {
   "cell_type": "code",
   "execution_count": 9,
   "id": "6d41ddca",
   "metadata": {},
   "outputs": [
    {
     "name": "stdout",
     "output_type": "stream",
     "text": [
      "Error processing CWS: cannot identify image file <_io.BytesIO object at 0x000001BECB7CAE80>\n"
     ]
    }
   ],
   "source": [
    "# Loop over all teams and get their dominant colors (first and second)\n",
    "import matplotlib.pyplot as plt\n",
    "import requests\n",
    "from PIL import Image\n",
    "from collections import Counter\n",
    "\n",
    "team_colors = {}\n",
    "for code in tms.values():\n",
    "    url = f\"https://a.espncdn.com/i/teamlogos/mlb/500/{code}.png\"\n",
    "    if code == \"COL\":\n",
    "        url = 'https://scontent-yyz1-1.xx.fbcdn.net/v/t39.30808-6/486820054_1235960011233391_4206017060116362869_n.jpg?_nc_cat=107&ccb=1-7&_nc_sid=6ee11a&_nc_ohc=-xci1ZiB2k8Q7kNvwEJdMGS&_nc_oc=AdmirgYtn1Lzgf14UaBzgsr3p6sUFu7C-7LbrCTzdTsT_KeDzIB-0PdZzzpOs8_icGg&_nc_zt=23&_nc_ht=scontent-yyz1-1.xx&_nc_gid=WkSqg_1atxlfhq2TrxvigQ&oh=00_AfZnvgaz-uNT1D2QuErWduopVzw9BdFLw9ySkv39mttQJA&oe=68E325B2'\n",
    "    try:\n",
    "        image = Image.open(requests.get(url, stream=True).raw)\n",
    "        image = image.resize((100, 100))\n",
    "        data = np.array(image)\n",
    "        data = data.reshape((-1, 4))  # reshape to a list of pixels\n",
    "        data = data[data[:, 3] > 0]  # filter out fully transparent pixels\n",
    "        # filter out white pixels\n",
    "        data = data[~np.all(data[:, :3] > 240, axis=1)]\n",
    "        if len(data) == 0:\n",
    "            raise ValueError(\"No valid pixels found\")\n",
    "        most_common = Counter(map(tuple, data[:, :3])).most_common(1)[0][0]\n",
    "        second_most_common = Counter(map(tuple, data[:, :3])).most_common(2)[1][0]\n",
    "        team_colors[code] = {\n",
    "            \"primary\": f\"rgb{most_common}\",\n",
    "            \"secondary\": f\"rgb{second_most_common}\"\n",
    "        }\n",
    "    except Exception as e:\n",
    "        print(f\"Error processing {code}: {e}\")\n",
    "        team_colors[code] = {\n",
    "            \"primary\": \"rgb(128,128,128)\",  # default grey\n",
    "            \"secondary\": \"rgb(192,192,192)\" # default light grey\n",
    "        }\n",
    "\n",
    "# Color associations (whether to use primary or secondary color for each team)\n",
    "color_associations = {\n",
    "    \"ARI\": \"primary\",\n",
    "    \"ATL\": \"primary\",\n",
    "    \"BAL\": \"primary\",\n",
    "    \"BOS\": \"primary\",\n",
    "    \"CHC\": \"primary\",\n",
    "    \"CWS\": \"primary\",\n",
    "    \"CIN\": \"primary\",\n",
    "    \"CLE\": \"primary\",\n",
    "    \"COL\": \"secondary\",\n",
    "    \"DET\": \"primary\",\n",
    "    \"HOU\": \"secondary\",\n",
    "    \"KAN\": \"primary\",\n",
    "    \"LAA\": \"secondary\",\n",
    "    \"LAD\": \"primary\",\n",
    "    \"MIA\": \"secondary\",\n",
    "    \"MIL\": \"primary\",\n",
    "    \"MIN\": \"secondary\",\n",
    "    \"NYM\": \"primary\",\n",
    "    \"NYY\": \"primary\",\n",
    "    \"PHI\": \"primary\",\n",
    "    \"PIT\": \"primary\",\n",
    "    \"SD\": \"primary\",\n",
    "    \"SF\": \"primary\",\n",
    "    \"SEA\": \"secondary\",\n",
    "    \"STL\": \"primary\",\n",
    "    \"TB\": \"primary\",\n",
    "    \"TEX\": \"secondary\",\n",
    "    \"TOR\": \"secondary\",\n",
    "    \"WAS\": \"primary\"\n",
    "}\n",
    "\n",
    "# store color in a json file on the basis of the association\n",
    "#1. Create the object\n",
    "team_color_info = {}\n",
    "for code, colors in team_colors.items():\n",
    "    association = color_associations.get(code, \"primary\")\n",
    "    color1 = colors['primary']\n",
    "    color2 = colors['secondary']\n",
    "\n",
    "    color_str = color1[4:-1].replace('np.uint8(', '').replace(')', '')\n",
    "    color1 = [int(c.strip()) for c in color_str.split(',')]\n",
    "    color_str = color2[4:-1].replace('np.uint8(', '').replace(')', '')\n",
    "    color2 = [int(c.strip()) for c in color_str.split(',')]\n",
    "    team_color_info[code] = {\n",
    "        \"primary_color\": color1,\n",
    "        \"secondary_color\": color2,\n",
    "        \"association\": association\n",
    "    }\n",
    "    '''\n",
    "    \n",
    "    color = colors[association]\n",
    "    # convert from rgb(np.uint8(199), np.uint8(17), np.uint8(40)) to [199, 17, 40]\n",
    "    color_str = color[4:-1].replace('np.uint8(', '').replace(')', '')\n",
    "    color = [int(c.strip()) for c in color_str.split(',')]\n",
    "    team_color_info[code] = {\n",
    "        \"primary_color\": color,\n",
    "        # secondary_color is the other color, so if association is primary, secondary is secondary and vice versa\n",
    "        \"secondary_color\": colors[\"secondary\"] if association == \"primary\" else colors[\"primary\"]\n",
    "    }\n",
    "\n",
    "    '''\n",
    "\n",
    "#2. Write to a json file\n",
    "with open(\"../data/team_colors.json\", \"w\") as f:\n",
    "    json.dump(team_color_info, f, indent=4)\n",
    "\n",
    "\n",
    "import matplotlib.colors as mcolors\n"
   ]
  },
  {
   "cell_type": "code",
   "execution_count": 27,
   "id": "4db6bc4a",
   "metadata": {},
   "outputs": [
    {
     "name": "stderr",
     "output_type": "stream",
     "text": [
      "Even though the 'means_' attribute is set, it will be overwritten during initialization because 'init_params' contains 'm'\n"
     ]
    },
    {
     "name": "stdout",
     "output_type": "stream",
     "text": [
      "{   'P':                   Good      Mediocre           Bad\n",
      "Good      3.783430e-01  6.216570e-01  1.933294e-08\n",
      "Mediocre  2.296239e-12  4.024183e-09  1.000000e+00\n",
      "Bad       8.287863e-01  1.712136e-01  6.174736e-08,\n",
      "    'init': 'quant',\n",
      "    'means':           level_dev     chg_z    mom3_z\n",
      "Good       0.231411  1.307326  0.939338\n",
      "Mediocre   0.019126 -0.771933 -0.003954\n",
      "Bad       -0.263665 -0.487563 -0.389979,\n",
      "    'n_used': 21,\n",
      "    'pi':            Good      Mediocre  Bad\n",
      "0  1.698838e-18  2.674288e-35  1.0}\n"
     ]
    },
    {
     "name": "stderr",
     "output_type": "stream",
     "text": [
      "c:\\ProgramData\\anaconda3\\Lib\\site-packages\\sklearn\\cluster\\_kmeans.py:1419: UserWarning:\n",
      "\n",
      "KMeans is known to have a memory leak on Windows with MKL, when there are less chunks than available threads. You can avoid it by setting the environment variable OMP_NUM_THREADS=1.\n",
      "\n"
     ]
    },
    {
     "data": {
      "application/vnd.plotly.v1+json": {
       "config": {
        "plotlyServerURL": "https://plot.ly"
       },
       "data": [
        {
         "line": {
          "color": "black"
         },
         "mode": "lines",
         "name": "Rank",
         "opacity": 0.5,
         "type": "scatter",
         "x": [
          "2025-04-06T00:00:00.000000000",
          "2025-04-13T00:00:00.000000000",
          "2025-04-20T00:00:00.000000000",
          "2025-04-27T00:00:00.000000000",
          "2025-05-04T00:00:00.000000000",
          "2025-05-11T00:00:00.000000000",
          "2025-05-18T00:00:00.000000000",
          "2025-05-25T00:00:00.000000000",
          "2025-06-08T00:00:00.000000000",
          "2025-06-15T00:00:00.000000000",
          "2025-06-22T00:00:00.000000000",
          "2025-06-29T00:00:00.000000000",
          "2025-07-06T00:00:00.000000000",
          "2025-07-27T00:00:00.000000000",
          "2025-08-03T00:00:00.000000000",
          "2025-08-10T00:00:00.000000000",
          "2025-08-17T00:00:00.000000000",
          "2025-08-24T00:00:00.000000000",
          "2025-09-07T00:00:00.000000000",
          "2025-09-14T00:00:00.000000000",
          "2025-09-21T00:00:00.000000000",
          "2025-09-28T00:00:00.000000000"
         ],
         "y": {
          "bdata": "DA8MEhQWFhQNDA0NBgIDBQMEAwMEBg==",
          "dtype": "i1"
         }
        },
        {
         "marker": {
          "color": [
           null,
           "#FF6961",
           "#77DD77",
           "#FDFD96",
           "#FF6961",
           "#FDFD96",
           "#FF6961",
           "#77DD77",
           "#77DD77",
           "#77DD77",
           "#FDFD96",
           "#FF6961",
           "#77DD77",
           "#77DD77",
           "#FDFD96",
           "#FF6961",
           "#77DD77",
           "#FDFD96",
           "#FF6961",
           "#77DD77",
           "#FDFD96",
           "#FF6961"
          ],
          "line": {
           "color": "DarkSlateGrey",
           "width": 1
          },
          "size": 10
         },
         "mode": "markers",
         "name": "State",
         "type": "scatter",
         "x": [
          "2025-04-06T00:00:00.000000000",
          "2025-04-13T00:00:00.000000000",
          "2025-04-20T00:00:00.000000000",
          "2025-04-27T00:00:00.000000000",
          "2025-05-04T00:00:00.000000000",
          "2025-05-11T00:00:00.000000000",
          "2025-05-18T00:00:00.000000000",
          "2025-05-25T00:00:00.000000000",
          "2025-06-08T00:00:00.000000000",
          "2025-06-15T00:00:00.000000000",
          "2025-06-22T00:00:00.000000000",
          "2025-06-29T00:00:00.000000000",
          "2025-07-06T00:00:00.000000000",
          "2025-07-27T00:00:00.000000000",
          "2025-08-03T00:00:00.000000000",
          "2025-08-10T00:00:00.000000000",
          "2025-08-17T00:00:00.000000000",
          "2025-08-24T00:00:00.000000000",
          "2025-09-07T00:00:00.000000000",
          "2025-09-14T00:00:00.000000000",
          "2025-09-21T00:00:00.000000000",
          "2025-09-28T00:00:00.000000000"
         ],
         "y": {
          "bdata": "DA8MEhQWFhQNDA0NBgIDBQMEAwMEBg==",
          "dtype": "i1"
         }
        }
       ],
       "layout": {
        "template": {
         "data": {
          "bar": [
           {
            "error_x": {
             "color": "#2a3f5f"
            },
            "error_y": {
             "color": "#2a3f5f"
            },
            "marker": {
             "line": {
              "color": "#E5ECF6",
              "width": 0.5
             },
             "pattern": {
              "fillmode": "overlay",
              "size": 10,
              "solidity": 0.2
             }
            },
            "type": "bar"
           }
          ],
          "barpolar": [
           {
            "marker": {
             "line": {
              "color": "#E5ECF6",
              "width": 0.5
             },
             "pattern": {
              "fillmode": "overlay",
              "size": 10,
              "solidity": 0.2
             }
            },
            "type": "barpolar"
           }
          ],
          "carpet": [
           {
            "aaxis": {
             "endlinecolor": "#2a3f5f",
             "gridcolor": "white",
             "linecolor": "white",
             "minorgridcolor": "white",
             "startlinecolor": "#2a3f5f"
            },
            "baxis": {
             "endlinecolor": "#2a3f5f",
             "gridcolor": "white",
             "linecolor": "white",
             "minorgridcolor": "white",
             "startlinecolor": "#2a3f5f"
            },
            "type": "carpet"
           }
          ],
          "choropleth": [
           {
            "colorbar": {
             "outlinewidth": 0,
             "ticks": ""
            },
            "type": "choropleth"
           }
          ],
          "contour": [
           {
            "colorbar": {
             "outlinewidth": 0,
             "ticks": ""
            },
            "colorscale": [
             [
              0,
              "#0d0887"
             ],
             [
              0.1111111111111111,
              "#46039f"
             ],
             [
              0.2222222222222222,
              "#7201a8"
             ],
             [
              0.3333333333333333,
              "#9c179e"
             ],
             [
              0.4444444444444444,
              "#bd3786"
             ],
             [
              0.5555555555555556,
              "#d8576b"
             ],
             [
              0.6666666666666666,
              "#ed7953"
             ],
             [
              0.7777777777777778,
              "#fb9f3a"
             ],
             [
              0.8888888888888888,
              "#fdca26"
             ],
             [
              1,
              "#f0f921"
             ]
            ],
            "type": "contour"
           }
          ],
          "contourcarpet": [
           {
            "colorbar": {
             "outlinewidth": 0,
             "ticks": ""
            },
            "type": "contourcarpet"
           }
          ],
          "heatmap": [
           {
            "colorbar": {
             "outlinewidth": 0,
             "ticks": ""
            },
            "colorscale": [
             [
              0,
              "#0d0887"
             ],
             [
              0.1111111111111111,
              "#46039f"
             ],
             [
              0.2222222222222222,
              "#7201a8"
             ],
             [
              0.3333333333333333,
              "#9c179e"
             ],
             [
              0.4444444444444444,
              "#bd3786"
             ],
             [
              0.5555555555555556,
              "#d8576b"
             ],
             [
              0.6666666666666666,
              "#ed7953"
             ],
             [
              0.7777777777777778,
              "#fb9f3a"
             ],
             [
              0.8888888888888888,
              "#fdca26"
             ],
             [
              1,
              "#f0f921"
             ]
            ],
            "type": "heatmap"
           }
          ],
          "histogram": [
           {
            "marker": {
             "pattern": {
              "fillmode": "overlay",
              "size": 10,
              "solidity": 0.2
             }
            },
            "type": "histogram"
           }
          ],
          "histogram2d": [
           {
            "colorbar": {
             "outlinewidth": 0,
             "ticks": ""
            },
            "colorscale": [
             [
              0,
              "#0d0887"
             ],
             [
              0.1111111111111111,
              "#46039f"
             ],
             [
              0.2222222222222222,
              "#7201a8"
             ],
             [
              0.3333333333333333,
              "#9c179e"
             ],
             [
              0.4444444444444444,
              "#bd3786"
             ],
             [
              0.5555555555555556,
              "#d8576b"
             ],
             [
              0.6666666666666666,
              "#ed7953"
             ],
             [
              0.7777777777777778,
              "#fb9f3a"
             ],
             [
              0.8888888888888888,
              "#fdca26"
             ],
             [
              1,
              "#f0f921"
             ]
            ],
            "type": "histogram2d"
           }
          ],
          "histogram2dcontour": [
           {
            "colorbar": {
             "outlinewidth": 0,
             "ticks": ""
            },
            "colorscale": [
             [
              0,
              "#0d0887"
             ],
             [
              0.1111111111111111,
              "#46039f"
             ],
             [
              0.2222222222222222,
              "#7201a8"
             ],
             [
              0.3333333333333333,
              "#9c179e"
             ],
             [
              0.4444444444444444,
              "#bd3786"
             ],
             [
              0.5555555555555556,
              "#d8576b"
             ],
             [
              0.6666666666666666,
              "#ed7953"
             ],
             [
              0.7777777777777778,
              "#fb9f3a"
             ],
             [
              0.8888888888888888,
              "#fdca26"
             ],
             [
              1,
              "#f0f921"
             ]
            ],
            "type": "histogram2dcontour"
           }
          ],
          "mesh3d": [
           {
            "colorbar": {
             "outlinewidth": 0,
             "ticks": ""
            },
            "type": "mesh3d"
           }
          ],
          "parcoords": [
           {
            "line": {
             "colorbar": {
              "outlinewidth": 0,
              "ticks": ""
             }
            },
            "type": "parcoords"
           }
          ],
          "pie": [
           {
            "automargin": true,
            "type": "pie"
           }
          ],
          "scatter": [
           {
            "fillpattern": {
             "fillmode": "overlay",
             "size": 10,
             "solidity": 0.2
            },
            "type": "scatter"
           }
          ],
          "scatter3d": [
           {
            "line": {
             "colorbar": {
              "outlinewidth": 0,
              "ticks": ""
             }
            },
            "marker": {
             "colorbar": {
              "outlinewidth": 0,
              "ticks": ""
             }
            },
            "type": "scatter3d"
           }
          ],
          "scattercarpet": [
           {
            "marker": {
             "colorbar": {
              "outlinewidth": 0,
              "ticks": ""
             }
            },
            "type": "scattercarpet"
           }
          ],
          "scattergeo": [
           {
            "marker": {
             "colorbar": {
              "outlinewidth": 0,
              "ticks": ""
             }
            },
            "type": "scattergeo"
           }
          ],
          "scattergl": [
           {
            "marker": {
             "colorbar": {
              "outlinewidth": 0,
              "ticks": ""
             }
            },
            "type": "scattergl"
           }
          ],
          "scattermap": [
           {
            "marker": {
             "colorbar": {
              "outlinewidth": 0,
              "ticks": ""
             }
            },
            "type": "scattermap"
           }
          ],
          "scattermapbox": [
           {
            "marker": {
             "colorbar": {
              "outlinewidth": 0,
              "ticks": ""
             }
            },
            "type": "scattermapbox"
           }
          ],
          "scatterpolar": [
           {
            "marker": {
             "colorbar": {
              "outlinewidth": 0,
              "ticks": ""
             }
            },
            "type": "scatterpolar"
           }
          ],
          "scatterpolargl": [
           {
            "marker": {
             "colorbar": {
              "outlinewidth": 0,
              "ticks": ""
             }
            },
            "type": "scatterpolargl"
           }
          ],
          "scatterternary": [
           {
            "marker": {
             "colorbar": {
              "outlinewidth": 0,
              "ticks": ""
             }
            },
            "type": "scatterternary"
           }
          ],
          "surface": [
           {
            "colorbar": {
             "outlinewidth": 0,
             "ticks": ""
            },
            "colorscale": [
             [
              0,
              "#0d0887"
             ],
             [
              0.1111111111111111,
              "#46039f"
             ],
             [
              0.2222222222222222,
              "#7201a8"
             ],
             [
              0.3333333333333333,
              "#9c179e"
             ],
             [
              0.4444444444444444,
              "#bd3786"
             ],
             [
              0.5555555555555556,
              "#d8576b"
             ],
             [
              0.6666666666666666,
              "#ed7953"
             ],
             [
              0.7777777777777778,
              "#fb9f3a"
             ],
             [
              0.8888888888888888,
              "#fdca26"
             ],
             [
              1,
              "#f0f921"
             ]
            ],
            "type": "surface"
           }
          ],
          "table": [
           {
            "cells": {
             "fill": {
              "color": "#EBF0F8"
             },
             "line": {
              "color": "white"
             }
            },
            "header": {
             "fill": {
              "color": "#C8D4E3"
             },
             "line": {
              "color": "white"
             }
            },
            "type": "table"
           }
          ]
         },
         "layout": {
          "annotationdefaults": {
           "arrowcolor": "#2a3f5f",
           "arrowhead": 0,
           "arrowwidth": 1
          },
          "autotypenumbers": "strict",
          "coloraxis": {
           "colorbar": {
            "outlinewidth": 0,
            "ticks": ""
           }
          },
          "colorscale": {
           "diverging": [
            [
             0,
             "#8e0152"
            ],
            [
             0.1,
             "#c51b7d"
            ],
            [
             0.2,
             "#de77ae"
            ],
            [
             0.3,
             "#f1b6da"
            ],
            [
             0.4,
             "#fde0ef"
            ],
            [
             0.5,
             "#f7f7f7"
            ],
            [
             0.6,
             "#e6f5d0"
            ],
            [
             0.7,
             "#b8e186"
            ],
            [
             0.8,
             "#7fbc41"
            ],
            [
             0.9,
             "#4d9221"
            ],
            [
             1,
             "#276419"
            ]
           ],
           "sequential": [
            [
             0,
             "#0d0887"
            ],
            [
             0.1111111111111111,
             "#46039f"
            ],
            [
             0.2222222222222222,
             "#7201a8"
            ],
            [
             0.3333333333333333,
             "#9c179e"
            ],
            [
             0.4444444444444444,
             "#bd3786"
            ],
            [
             0.5555555555555556,
             "#d8576b"
            ],
            [
             0.6666666666666666,
             "#ed7953"
            ],
            [
             0.7777777777777778,
             "#fb9f3a"
            ],
            [
             0.8888888888888888,
             "#fdca26"
            ],
            [
             1,
             "#f0f921"
            ]
           ],
           "sequentialminus": [
            [
             0,
             "#0d0887"
            ],
            [
             0.1111111111111111,
             "#46039f"
            ],
            [
             0.2222222222222222,
             "#7201a8"
            ],
            [
             0.3333333333333333,
             "#9c179e"
            ],
            [
             0.4444444444444444,
             "#bd3786"
            ],
            [
             0.5555555555555556,
             "#d8576b"
            ],
            [
             0.6666666666666666,
             "#ed7953"
            ],
            [
             0.7777777777777778,
             "#fb9f3a"
            ],
            [
             0.8888888888888888,
             "#fdca26"
            ],
            [
             1,
             "#f0f921"
            ]
           ]
          },
          "colorway": [
           "#636efa",
           "#EF553B",
           "#00cc96",
           "#ab63fa",
           "#FFA15A",
           "#19d3f3",
           "#FF6692",
           "#B6E880",
           "#FF97FF",
           "#FECB52"
          ],
          "font": {
           "color": "#2a3f5f"
          },
          "geo": {
           "bgcolor": "white",
           "lakecolor": "white",
           "landcolor": "#E5ECF6",
           "showlakes": true,
           "showland": true,
           "subunitcolor": "white"
          },
          "hoverlabel": {
           "align": "left"
          },
          "hovermode": "closest",
          "mapbox": {
           "style": "light"
          },
          "paper_bgcolor": "white",
          "plot_bgcolor": "#E5ECF6",
          "polar": {
           "angularaxis": {
            "gridcolor": "white",
            "linecolor": "white",
            "ticks": ""
           },
           "bgcolor": "#E5ECF6",
           "radialaxis": {
            "gridcolor": "white",
            "linecolor": "white",
            "ticks": ""
           }
          },
          "scene": {
           "xaxis": {
            "backgroundcolor": "#E5ECF6",
            "gridcolor": "white",
            "gridwidth": 2,
            "linecolor": "white",
            "showbackground": true,
            "ticks": "",
            "zerolinecolor": "white"
           },
           "yaxis": {
            "backgroundcolor": "#E5ECF6",
            "gridcolor": "white",
            "gridwidth": 2,
            "linecolor": "white",
            "showbackground": true,
            "ticks": "",
            "zerolinecolor": "white"
           },
           "zaxis": {
            "backgroundcolor": "#E5ECF6",
            "gridcolor": "white",
            "gridwidth": 2,
            "linecolor": "white",
            "showbackground": true,
            "ticks": "",
            "zerolinecolor": "white"
           }
          },
          "shapedefaults": {
           "line": {
            "color": "#2a3f5f"
           }
          },
          "ternary": {
           "aaxis": {
            "gridcolor": "white",
            "linecolor": "white",
            "ticks": ""
           },
           "baxis": {
            "gridcolor": "white",
            "linecolor": "white",
            "ticks": ""
           },
           "bgcolor": "#E5ECF6",
           "caxis": {
            "gridcolor": "white",
            "linecolor": "white",
            "ticks": ""
           }
          },
          "title": {
           "x": 0.05
          },
          "xaxis": {
           "automargin": true,
           "gridcolor": "white",
           "linecolor": "white",
           "ticks": "",
           "title": {
            "standoff": 15
           },
           "zerolinecolor": "white",
           "zerolinewidth": 2
          },
          "yaxis": {
           "automargin": true,
           "gridcolor": "white",
           "linecolor": "white",
           "ticks": "",
           "title": {
            "standoff": 15
           },
           "zerolinecolor": "white",
           "zerolinewidth": 2
          }
         }
        },
        "title": {
         "text": "TOR Rankings Over Time"
        },
        "xaxis": {
         "title": {
          "text": "Date"
         }
        },
        "yaxis": {
         "autorange": "reversed",
         "title": {
          "text": "Rank"
         }
        }
       }
      }
     },
     "metadata": {},
     "output_type": "display_data"
    }
   ],
   "source": [
    "powerx = prepare_power_features_for_hmm(power)\n",
    "states_df, meta_stats = fit_team_hmm(\n",
    "    power=power,\n",
    "    team_code=\"TOR\",\n",
    "    team_codes=tms,\n",
    "    team_names=teams,\n",
    "    power_features=powerx,\n",
    ")\n",
    "\n",
    "import pprint\n",
    "# Pretty print the meta_stats\n",
    "pp = pprint.PrettyPrinter(indent=4)\n",
    "pp.pprint(meta_stats)\n",
    "states_df\n",
    "\n",
    "# Plot time series of ranks colored by state\n",
    "import plotly.express as px\n",
    "import plotly.graph_objects as go\n",
    "\n",
    "# Get TOR ranks and merge with states\n",
    "tor_ranks = power[power[\"team_id\"] == \"toronto-bluejays\"][[\"date\", \"rank\"]].copy()\n",
    "tor_ranks[\"date\"] = pd.to_datetime(tor_ranks[\"date\"], errors=\"coerce\").dt.tz_localize(None).dt.normalize()\n",
    "\n",
    "# If states_df has date as index, bring it out first\n",
    "if \"date\" not in states_df.columns:\n",
    "    states_df = states_df.reset_index()\n",
    "\n",
    "states_df[\"date\"] = pd.to_datetime(states_df[\"date\"], errors=\"coerce\").dt.tz_localize(None).dt.normalize()\n",
    "\n",
    "# Now the merge will work\n",
    "tor_ranks = tor_ranks.merge(states_df[[\"date\", \"state\"]], on=\"date\", how=\"left\")\n",
    "\n",
    "# First: add the continuous line (no coloring by state, just one line)\n",
    "state_color_map = {\n",
    "    0: \"#77DD77\",  # pastel green\n",
    "    1: \"#FDFD96\",  # pastel yellow\n",
    "    2: \"#FF6961\"   # pastel red\n",
    "}\n",
    "\n",
    "# Continuous black line\n",
    "fig = go.Figure()\n",
    "\n",
    "fig.add_trace(go.Scatter(\n",
    "    x=tor_ranks[\"date\"],\n",
    "    y=tor_ranks[\"rank\"],\n",
    "    mode=\"lines\",\n",
    "    line=dict(color=\"black\"),\n",
    "    name=\"Rank\",\n",
    "    opacity=0.5\n",
    "))\n",
    "\n",
    "# Markers colored by state\n",
    "fig.add_trace(go.Scatter(\n",
    "    x=tor_ranks[\"date\"],\n",
    "    y=tor_ranks[\"rank\"],\n",
    "    mode=\"markers\",\n",
    "    marker=dict(\n",
    "        size=10,\n",
    "        line=dict(width=1, color=\"DarkSlateGrey\"),\n",
    "        color=tor_ranks[\"state\"].map(state_color_map),  # map ints → colors\n",
    "    ),\n",
    "    name=\"State\"\n",
    "))\n",
    "\n",
    "# Reverse y-axis so rank 1 is on top\n",
    "fig.update_yaxes(autorange=\"reversed\")\n",
    "\n",
    "fig.update_layout(\n",
    "    title=\"TOR Rankings Over Time\",\n",
    "    xaxis_title=\"Date\",\n",
    "    yaxis_title=\"Rank\"\n",
    ")\n",
    "\n",
    "fig.show()"
   ]
  },
  {
   "cell_type": "code",
   "execution_count": 25,
   "id": "b2ab0017",
   "metadata": {},
   "outputs": [],
   "source": [
    "# All checks passed!"
   ]
  },
  {
   "cell_type": "code",
   "execution_count": 8,
   "id": "98ac7d1d",
   "metadata": {},
   "outputs": [
    {
     "name": "stdout",
     "output_type": "stream",
     "text": [
      "Most dominant color for TOR: (np.uint8(248), np.uint8(0), np.uint8(48))\n",
      "Second most dominant color for TOR: (np.uint8(0), np.uint8(73), np.uint8(145))\n"
     ]
    },
    {
     "data": {
      "text/plain": [
       "(np.float64(-0.5), np.float64(9.5), np.float64(9.5), np.float64(-0.5))"
      ]
     },
     "execution_count": 8,
     "metadata": {},
     "output_type": "execute_result"
    },
    {
     "data": {
      "image/png": "[encoded data removed]",
      "text/plain": [
       "<Figure size 640x480 with 1 Axes>"
      ]
     },
     "metadata": {},
     "output_type": "display_data"
    },
    {
     "data": {
      "image/png": "[encoded data removed]",
      "text/plain": [
       "<Figure size 640x480 with 1 Axes>"
      ]
     },
     "metadata": {},
     "output_type": "display_data"
    }
   ],
   "source": [
    "# load an image and find the most dominant color\n",
    "from PIL import Image\n",
    "from collections import Counter\n",
    "import numpy as np\n",
    "import requests\n",
    "import matplotlib.pyplot as plt\n",
    "\n",
    "code = 'TOR'\n",
    "url = f\"https://a.espncdn.com/i/teamlogos/mlb/500/{code}.png\"\n",
    "\n",
    "image = Image.open(requests.get(url, stream=True).raw)\n",
    "image = image.resize((100, 100))\n",
    "data = np.array(image)\n",
    "data = data.reshape((-1, 4))  # reshape to a list of pixels\n",
    "data = data[data[:, 3] > 0]  # filter out fully transparent pixels\n",
    "# filter out white pixels\n",
    "data = data[~np.all(data[:, :3] > 240, axis=1)]\n",
    "\n",
    "most_common = Counter(map(tuple, data[:, :3])).most_common(1)[0][0]\n",
    "second_most_common = Counter(map(tuple, data[:, :3])).most_common(2)[1][0]\n",
    "print(f\"Most dominant color for {code}: {most_common}\")\n",
    "print(f\"Second most dominant color for {code}: {second_most_common}\")\n"
   ]
  },
  {
   "cell_type": "code",
   "execution_count": null,
   "id": "09c1763e",
   "metadata": {},
   "outputs": [],
   "source": []
  }
 ],
 "metadata": {
  "kernelspec": {
   "display_name": "base",
   "language": "python",
   "name": "python3"
  },
  "language_info": {
   "codemirror_mode": {
    "name": "ipython",
    "version": 3
   },
   "file_extension": ".py",
   "mimetype": "text/x-python",
   "name": "python",
   "nbconvert_exporter": "python",
   "pygments_lexer": "ipython3",
   "version": "3.13.5"
  }
 },
 "nbformat": 4,
 "nbformat_minor": 5
}
