{
 "cells": [
  {
   "cell_type": "code",
   "execution_count": 11,
   "id": "a16a858f",
   "metadata": {},
   "outputs": [],
   "source": [
    "from mlb_rankings import sunday_power, sunday_standings, sunday_odds, get_pitching_stats, get_batting_stats, get_fielding_stats\n",
    "import pandas as pd\n",
    "import json"
   ]
  },
  {
   "cell_type": "code",
   "execution_count": 8,
   "id": "c3f83ffa",
   "metadata": {},
   "outputs": [
    {
     "name": "stderr",
     "output_type": "stream",
     "text": [
      "Scraping Power Rankings: 100%|██████████| 27/27 [02:03<00:00,  4.57s/week]\n",
      "Importing weekly standings: 100%|██████████| 35/35 [00:11<00:00,  2.97week/s]\n",
      "Importing weekly odds: 100%|██████████| 35/35 [00:16<00:00,  2.11week/s]\n"
     ]
    }
   ],
   "source": [
    "power, teams, tms = sunday_power(2025)\n",
    "standings = sunday_standings(2025)\n",
    "odds = sunday_odds(2025)\n",
    "pitching = get_pitching_stats(2025)\n",
    "batting = get_batting_stats(2025)\n",
    "fielding = get_fielding_stats(2025)\n"
   ]
  },
  {
   "cell_type": "code",
   "execution_count": 9,
   "id": "58d7c115",
   "metadata": {},
   "outputs": [],
   "source": [
    "# Find the intersection of dates present in all three dataframes\n",
    "common_dates = set(odds['date']) & set(standings['date']) & set(power['date'])\n",
    "\n",
    "# Filter each dataframe to keep only rows with dates in the intersection\n",
    "odds = odds[odds['date'].isin(common_dates)]\n",
    "standings = standings[standings['date'].isin(common_dates)]\n",
    "power = power[power['date'].isin(common_dates)]"
   ]
  },
  {
   "cell_type": "code",
   "execution_count": 12,
   "id": "8a26ee52",
   "metadata": {},
   "outputs": [],
   "source": [
    "# Save to CSV files\n",
    "power.to_csv(\"power_rankings_2025.csv\", index=False)\n",
    "standings.to_csv(\"standings_2025.csv\", index=False)\n",
    "odds.to_csv(\"odds_2025.csv\", index=False)\n",
    "pitching.to_csv(\"pitching_stats_2025.csv\", index=False)\n",
    "batting.to_csv(\"batting_stats_2025.csv\", index=False)\n",
    "fielding.to_csv(\"fielding_stats_2025.csv\", index=False)\n",
    "\n",
    "# save teams and tms as well as json\n",
    "with open(\"teams_2025.json\", \"w\") as f:\n",
    "    json.dump(teams, f)\n",
    "\n",
    "with open(\"tms_2025.json\", \"w\") as f:\n",
    "    json.dump(tms, f)"
   ]
  },
  {
   "cell_type": "code",
   "execution_count": 13,
   "id": "52038c9f",
   "metadata": {},
   "outputs": [],
   "source": [
    "# backup\n",
    "odds2 = odds.copy()\n",
    "standings2 = standings.copy()\n",
    "power2 = power.copy()\n",
    "teams2 = teams.copy()\n",
    "tms2 = tms.copy()\n",
    "pitching2 = pitching.copy()\n",
    "batting2 = batting.copy()\n",
    "fielding2 = fielding.copy()"
   ]
  },
  {
   "cell_type": "code",
   "execution_count": 14,
   "id": "aafcd619",
   "metadata": {},
   "outputs": [],
   "source": [
    "# Load the CSV files back if needed\n",
    "power = pd.read_csv(\"power_rankings_2025.csv\")\n",
    "standings = pd.read_csv(\"standings_2025.csv\")\n",
    "odds = pd.read_csv(\"odds_2025.csv\")\n",
    "pitching = pd.read_csv(\"pitching_stats_2025.csv\")\n",
    "batting = pd.read_csv(\"batting_stats_2025.csv\")\n",
    "fielding = pd.read_csv(\"fielding_stats_2025.csv\")"
   ]
  },
  {
   "cell_type": "markdown",
   "id": "68d918bf",
   "metadata": {},
   "source": [
    "# Plotting"
   ]
  },
  {
   "cell_type": "code",
   "execution_count": 15,
   "id": "fb4e728d",
   "metadata": {},
   "outputs": [],
   "source": [
    "# Plotly\n",
    "import plotly.express as px\n",
    "import plotly.graph_objects as go\n",
    "import plotly.graph_objs as go\n",
    "import ipywidgets as widgets\n",
    "from IPython.display import display"
   ]
  },
  {
   "cell_type": "markdown",
   "id": "592d219f",
   "metadata": {},
   "source": [
    "1. Core Power Rankings Analysis\n",
    "\n",
    "    Even if you only scrape the weekly ranks:\n",
    "\n",
    "-\tTrend detection: For each team, compute slope (Δrank/week). Who’s surging? Who’s collapsing?\n",
    "-\tVolatility: Standard deviation of rank across weeks. Teams with high variance are the “yo-yo” clubs.\n",
    "-\tPersistence / momentum: Autocorrelation of week-to-week rank changes. Some teams climb steadily, others bounce around.\n",
    "-\tRank delta features: Compute week-to-week Δrank. You can plot histograms or rolling averages."
   ]
  },
  {
   "cell_type": "code",
   "execution_count": 16,
   "id": "ab276809",
   "metadata": {},
   "outputs": [],
   "source": [
    "import pandas as pd\n",
    "from functools import reduce\n",
    "from typing import Literal, List, Dict\n",
    "\n",
    "Mode = Literal[\"power\", \"mlb\", \"diff\", \"both\"]\n",
    "\n",
    "def build_plot_table(\n",
    "    power: pd.DataFrame,\n",
    "    standings: pd.DataFrame,\n",
    "    teams: Dict[str, str],\n",
    "    team_names: List[str],\n",
    "    mode: Mode = \"power\",\n",
    "    team_codes: Dict[str, str] = None\n",
    ") -> pd.DataFrame:\n",
    "    \"\"\"\n",
    "    Build a wide table for plotting lines per team according to `mode`.\n",
    "\n",
    "    Parameters\n",
    "    ----------\n",
    "    power : DataFrame with ['date','team','rank']  # 'team' = display name\n",
    "    standings : DataFrame with ['date','team_name','mlb_rank']  # 'team_name' = team id\n",
    "    teams : {team_id -> display_name}\n",
    "    team_names : list of team codes to include\n",
    "    mode : 'power' | 'mlb' | 'diff' | 'both'\n",
    "        - 'power': one column per team \"<Team> — Power Rank\"\n",
    "        - 'mlb'  : one column per team \"<Team> — MLB Rank\"\n",
    "        - 'diff' : one column per team \"<Team> — Δ\"\n",
    "        - 'both' : two columns per team:\n",
    "                   \"<Team> — Power Rank\" and \"<Team> — MLB Rank\"\n",
    "    team_codes : {team_id -> code} list of team codes because team names will be passed as codes\n",
    "\n",
    "    Returns\n",
    "    -------\n",
    "    DataFrame: ['date', series...], sorted by date.\n",
    "    \"\"\"\n",
    "    if mode not in {\"power\", \"mlb\", \"diff\", \"both\"}:\n",
    "        raise ValueError(\"mode must be 'power', 'mlb', 'diff', or 'both'\")\n",
    "\n",
    "    req_p = {\"date\", \"team\", \"rank\"}\n",
    "    req_s = {\"date\", \"team_name\", \"mlb_rank\"}\n",
    "    if not req_p.issubset(power.columns):\n",
    "        raise ValueError(f\"'power' missing: {req_p - set(power.columns)}\")\n",
    "    if not req_s.issubset(standings.columns):\n",
    "        raise ValueError(f\"'standings' missing: {req_s - set(standings.columns)}\")\n",
    "\n",
    "    name_to_id = {v: k for k, v in teams.items()}\n",
    "\n",
    "    pwr = power.copy()\n",
    "    std = standings.copy()\n",
    "    pwr[\"date\"] = pd.to_datetime(pwr[\"date\"])\n",
    "    std[\"date\"] = pd.to_datetime(std[\"date\"])\n",
    "\n",
    "    series_frames = []\n",
    "    date_base = None\n",
    "\n",
    "    for team_code in team_names:\n",
    "        # convert from code to display name\n",
    "        team_id = None\n",
    "        for k, v in team_codes.items():\n",
    "            if v == team_code:\n",
    "                team_id = k\n",
    "                break\n",
    "        team_display = teams.get(team_id)\n",
    "        if team_display not in name_to_id:\n",
    "            raise KeyError(f\"Unknown team display name: {team_display}\")\n",
    "        team_id = name_to_id[team_display]\n",
    "\n",
    "        p = (pwr.loc[pwr[\"team\"] == team_display, [\"date\", \"rank\"]]\n",
    "                .sort_values(\"date\")\n",
    "                .rename(columns={\"rank\": \"power\"}))\n",
    "        s = (std.loc[std[\"team_name\"] == team_id, [\"date\", \"mlb_rank\"]]\n",
    "                .sort_values(\"date\"))\n",
    "\n",
    "        if mode == \"power\":\n",
    "            col = f\"{team_display} — Power Rank\"\n",
    "            sf = p.rename(columns={\"power\": col})[[\"date\", col]]\n",
    "\n",
    "        elif mode == \"mlb\":\n",
    "            col = f\"{team_display} — MLB Rank\"\n",
    "            sf = s.rename(columns={\"mlb_rank\": col})[[\"date\", col]]\n",
    "\n",
    "        elif mode == \"diff\":\n",
    "            m = p.merge(s, on=\"date\", how=\"left\").dropna(subset=[\"mlb_rank\"])\n",
    "            col = f\"{team_display} — Δ\"\n",
    "            sf = m.assign(**{col: m[\"power\"] - m[\"mlb_rank\"]})[[\"date\", col]]\n",
    "\n",
    "        else:  # mode == \"both\"\n",
    "            m = p.merge(s, on=\"date\", how=\"outer\").sort_values(\"date\")\n",
    "            col_power = f\"{team_display} — Power Rank\"\n",
    "            col_mlb   = f\"{team_display} — MLB Rank\"\n",
    "            sf = m.rename(columns={\"power\": col_power, \"mlb_rank\": col_mlb})[[\"date\", col_power, col_mlb]]\n",
    "\n",
    "        if date_base is None:\n",
    "            date_base = sf[[\"date\"]].drop_duplicates()\n",
    "        series_frames.append(sf)\n",
    "\n",
    "    if not series_frames:\n",
    "        return pd.DataFrame(columns=[\"date\"]).astype({\"date\": \"datetime64[ns]\"})\n",
    "\n",
    "    wide = reduce(lambda a, b: a.merge(b, on=\"date\", how=\"outer\"), [date_base] + series_frames)\n",
    "    return wide.sort_values(\"date\").reset_index(drop=True)"
   ]
  },
  {
   "cell_type": "code",
   "execution_count": 35,
   "id": "b9d46800",
   "metadata": {},
   "outputs": [
    {
     "data": {
      "application/vnd.plotly.v1+json": {
       "config": {
        "plotlyServerURL": "https://plot.ly"
       },
       "data": [
        {
         "hovertemplate": "label=New York Yankees<br>team_code=NYY<br>ΔRank=%{x}<br>Density=%{y}<extra></extra>",
         "legendgroup": "New York Yankees",
         "line": {
          "color": "#636efa",
          "dash": "solid"
         },
         "marker": {
          "symbol": "circle"
         },
         "mode": "lines",
         "name": "New York Yankees",
         "orientation": "v",
         "showlegend": true,
         "type": "scatter",
         "x": {
          "bdata": "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",
          "dtype": "f8"
         },
         "xaxis": "x",
         "y": {
          "bdata": "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",
          "dtype": "f8"
         },
         "yaxis": "y"
        },
        {
         "hovertemplate": "label=Toronto Blue Jays<br>team_code=TOR<br>ΔRank=%{x}<br>Density=%{y}<extra></extra>",
         "legendgroup": "Toronto Blue Jays",
         "line": {
          "color": "#EF553B",
          "dash": "solid"
         },
         "marker": {
          "symbol": "circle"
         },
         "mode": "lines",
         "name": "Toronto Blue Jays",
         "orientation": "v",
         "showlegend": true,
         "type": "scatter",
         "x": {
          "bdata": "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",
          "dtype": "f8"
         },
         "xaxis": "x",
         "y": {
          "bdata": "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",
          "dtype": "f8"
         },
         "yaxis": "y"
        },
        {
         "marker": {
          "color": "rgba(255, 0, 0, 0.5)"
         },
         "name": "TOR Histogram",
         "opacity": 0.5,
         "type": "bar",
         "width": 0.8,
         "x": {
          "bdata": "AAAAAAAALcAAAAAAAAArwAAAAAAAACnAAAAAAAAAJ8AAAAAAAAAlwAAAAAAAACPAAAAAAAAAIcAAAAAAAAAewAAAAAAAABrAAAAAAAAAFsAAAAAAAAASwAAAAAAAAAzAAAAAAAAABMAAAAAAAAD4vwAAAAAAAOC/AAAAAAAA4D8AAAAAAAD4PwAAAAAAAARAAAAAAAAADEAAAAAAAAASQAAAAAAAABZAAAAAAAAAGkAAAAAAAAAeQAAAAAAAACFAAAAAAAAAI0AAAAAAAAAlQAAAAAAAACdAAAAAAAAAKUAAAAAAAAArQAAAAAAAAC1A",
          "dtype": "f8"
         },
         "y": {
          "bdata": "AAAAAAAAAAAAAAAAAAAAAAAAAAAAAAAAAAAAAAAAAAAAAAAAAAAAAAAAAAAAAAAAAAAAAAAAAAAAAAAAAAAAAAAAAAAAAOA/AAAAAAAAAAAAAAAAAAAAAAAAAAAAANA/AAAAAAAA0D8AAAAAAADgPwAAAAAAAOA/AAAAAAAA6D8AAAAAAADwPwAAAAAAAPA/AAAAAAAA0D8AAAAAAAAAAAAAAAAAAAAAAAAAAAAA0D8AAAAAAAAAAAAAAAAAAAAAAAAAAAAAAAAAAAAAAAAAAAAAAAAAAAAAAAAAAAAAAAAAAAAAAAAAAAAAAAAAAAAA",
          "dtype": "f8"
         }
        },
        {
         "marker": {
          "color": "rgba(0, 0, 255, 0.5)"
         },
         "name": "NYY Histogram",
         "opacity": 0.5,
         "type": "bar",
         "width": 0.8,
         "x": {
          "bdata": "AAAAAAAALcAAAAAAAAArwAAAAAAAACnAAAAAAAAAJ8AAAAAAAAAlwAAAAAAAACPAAAAAAAAAIcAAAAAAAAAewAAAAAAAABrAAAAAAAAAFsAAAAAAAAASwAAAAAAAAAzAAAAAAAAABMAAAAAAAAD4vwAAAAAAAOC/AAAAAAAA4D8AAAAAAAD4PwAAAAAAAARAAAAAAAAADEAAAAAAAAASQAAAAAAAABZAAAAAAAAAGkAAAAAAAAAeQAAAAAAAACFAAAAAAAAAI0AAAAAAAAAlQAAAAAAAACdAAAAAAAAAKUAAAAAAAAArQAAAAAAAAC1A",
          "dtype": "f8"
         },
         "y": {
          "bdata": "AAAAAAAAAAAAAAAAAAAAAAAAAAAAAAAAAAAAAAAAAAAAAAAAAAAAAAAAAAAAAAAAAAAAAAAAAAAAAAAAAAAAAAAAAAAAAAAAAAAAAAAAAAAAAAAAAAAAAFVVVVVVVcU/AAAAAAAAAABVVVVVVVXVPwAAAAAAAPA/q6qqqqqq6j8AAAAAAADgP1VVVVVVVcU/VVVVVVVVxT9VVVVVVVXVPwAAAAAAAAAAAAAAAAAAAAAAAAAAAAAAAAAAAAAAAAAAAAAAAAAAAAAAAAAAAAAAAAAAAAAAAAAAAAAAAAAAAAAAAAAAAAAAAAAAAAAAAAAA",
          "dtype": "f8"
         }
        }
       ],
       "layout": {
        "legend": {
         "title": {
          "text": "label"
         },
         "tracegroupgap": 0
        },
        "template": {
         "data": {
          "bar": [
           {
            "error_x": {
             "color": "#2a3f5f"
            },
            "error_y": {
             "color": "#2a3f5f"
            },
            "marker": {
             "line": {
              "color": "#E5ECF6",
              "width": 0.5
             },
             "pattern": {
              "fillmode": "overlay",
              "size": 10,
              "solidity": 0.2
             }
            },
            "type": "bar"
           }
          ],
          "barpolar": [
           {
            "marker": {
             "line": {
              "color": "#E5ECF6",
              "width": 0.5
             },
             "pattern": {
              "fillmode": "overlay",
              "size": 10,
              "solidity": 0.2
             }
            },
            "type": "barpolar"
           }
          ],
          "carpet": [
           {
            "aaxis": {
             "endlinecolor": "#2a3f5f",
             "gridcolor": "white",
             "linecolor": "white",
             "minorgridcolor": "white",
             "startlinecolor": "#2a3f5f"
            },
            "baxis": {
             "endlinecolor": "#2a3f5f",
             "gridcolor": "white",
             "linecolor": "white",
             "minorgridcolor": "white",
             "startlinecolor": "#2a3f5f"
            },
            "type": "carpet"
           }
          ],
          "choropleth": [
           {
            "colorbar": {
             "outlinewidth": 0,
             "ticks": ""
            },
            "type": "choropleth"
           }
          ],
          "contour": [
           {
            "colorbar": {
             "outlinewidth": 0,
             "ticks": ""
            },
            "colorscale": [
             [
              0,
              "#0d0887"
             ],
             [
              0.1111111111111111,
              "#46039f"
             ],
             [
              0.2222222222222222,
              "#7201a8"
             ],
             [
              0.3333333333333333,
              "#9c179e"
             ],
             [
              0.4444444444444444,
              "#bd3786"
             ],
             [
              0.5555555555555556,
              "#d8576b"
             ],
             [
              0.6666666666666666,
              "#ed7953"
             ],
             [
              0.7777777777777778,
              "#fb9f3a"
             ],
             [
              0.8888888888888888,
              "#fdca26"
             ],
             [
              1,
              "#f0f921"
             ]
            ],
            "type": "contour"
           }
          ],
          "contourcarpet": [
           {
            "colorbar": {
             "outlinewidth": 0,
             "ticks": ""
            },
            "type": "contourcarpet"
           }
          ],
          "heatmap": [
           {
            "colorbar": {
             "outlinewidth": 0,
             "ticks": ""
            },
            "colorscale": [
             [
              0,
              "#0d0887"
             ],
             [
              0.1111111111111111,
              "#46039f"
             ],
             [
              0.2222222222222222,
              "#7201a8"
             ],
             [
              0.3333333333333333,
              "#9c179e"
             ],
             [
              0.4444444444444444,
              "#bd3786"
             ],
             [
              0.5555555555555556,
              "#d8576b"
             ],
             [
              0.6666666666666666,
              "#ed7953"
             ],
             [
              0.7777777777777778,
              "#fb9f3a"
             ],
             [
              0.8888888888888888,
              "#fdca26"
             ],
             [
              1,
              "#f0f921"
             ]
            ],
            "type": "heatmap"
           }
          ],
          "histogram": [
           {
            "marker": {
             "pattern": {
              "fillmode": "overlay",
              "size": 10,
              "solidity": 0.2
             }
            },
            "type": "histogram"
           }
          ],
          "histogram2d": [
           {
            "colorbar": {
             "outlinewidth": 0,
             "ticks": ""
            },
            "colorscale": [
             [
              0,
              "#0d0887"
             ],
             [
              0.1111111111111111,
              "#46039f"
             ],
             [
              0.2222222222222222,
              "#7201a8"
             ],
             [
              0.3333333333333333,
              "#9c179e"
             ],
             [
              0.4444444444444444,
              "#bd3786"
             ],
             [
              0.5555555555555556,
              "#d8576b"
             ],
             [
              0.6666666666666666,
              "#ed7953"
             ],
             [
              0.7777777777777778,
              "#fb9f3a"
             ],
             [
              0.8888888888888888,
              "#fdca26"
             ],
             [
              1,
              "#f0f921"
             ]
            ],
            "type": "histogram2d"
           }
          ],
          "histogram2dcontour": [
           {
            "colorbar": {
             "outlinewidth": 0,
             "ticks": ""
            },
            "colorscale": [
             [
              0,
              "#0d0887"
             ],
             [
              0.1111111111111111,
              "#46039f"
             ],
             [
              0.2222222222222222,
              "#7201a8"
             ],
             [
              0.3333333333333333,
              "#9c179e"
             ],
             [
              0.4444444444444444,
              "#bd3786"
             ],
             [
              0.5555555555555556,
              "#d8576b"
             ],
             [
              0.6666666666666666,
              "#ed7953"
             ],
             [
              0.7777777777777778,
              "#fb9f3a"
             ],
             [
              0.8888888888888888,
              "#fdca26"
             ],
             [
              1,
              "#f0f921"
             ]
            ],
            "type": "histogram2dcontour"
           }
          ],
          "mesh3d": [
           {
            "colorbar": {
             "outlinewidth": 0,
             "ticks": ""
            },
            "type": "mesh3d"
           }
          ],
          "parcoords": [
           {
            "line": {
             "colorbar": {
              "outlinewidth": 0,
              "ticks": ""
             }
            },
            "type": "parcoords"
           }
          ],
          "pie": [
           {
            "automargin": true,
            "type": "pie"
           }
          ],
          "scatter": [
           {
            "fillpattern": {
             "fillmode": "overlay",
             "size": 10,
             "solidity": 0.2
            },
            "type": "scatter"
           }
          ],
          "scatter3d": [
           {
            "line": {
             "colorbar": {
              "outlinewidth": 0,
              "ticks": ""
             }
            },
            "marker": {
             "colorbar": {
              "outlinewidth": 0,
              "ticks": ""
             }
            },
            "type": "scatter3d"
           }
          ],
          "scattercarpet": [
           {
            "marker": {
             "colorbar": {
              "outlinewidth": 0,
              "ticks": ""
             }
            },
            "type": "scattercarpet"
           }
          ],
          "scattergeo": [
           {
            "marker": {
             "colorbar": {
              "outlinewidth": 0,
              "ticks": ""
             }
            },
            "type": "scattergeo"
           }
          ],
          "scattergl": [
           {
            "marker": {
             "colorbar": {
              "outlinewidth": 0,
              "ticks": ""
             }
            },
            "type": "scattergl"
           }
          ],
          "scattermap": [
           {
            "marker": {
             "colorbar": {
              "outlinewidth": 0,
              "ticks": ""
             }
            },
            "type": "scattermap"
           }
          ],
          "scattermapbox": [
           {
            "marker": {
             "colorbar": {
              "outlinewidth": 0,
              "ticks": ""
             }
            },
            "type": "scattermapbox"
           }
          ],
          "scatterpolar": [
           {
            "marker": {
             "colorbar": {
              "outlinewidth": 0,
              "ticks": ""
             }
            },
            "type": "scatterpolar"
           }
          ],
          "scatterpolargl": [
           {
            "marker": {
             "colorbar": {
              "outlinewidth": 0,
              "ticks": ""
             }
            },
            "type": "scatterpolargl"
           }
          ],
          "scatterternary": [
           {
            "marker": {
             "colorbar": {
              "outlinewidth": 0,
              "ticks": ""
             }
            },
            "type": "scatterternary"
           }
          ],
          "surface": [
           {
            "colorbar": {
             "outlinewidth": 0,
             "ticks": ""
            },
            "colorscale": [
             [
              0,
              "#0d0887"
             ],
             [
              0.1111111111111111,
              "#46039f"
             ],
             [
              0.2222222222222222,
              "#7201a8"
             ],
             [
              0.3333333333333333,
              "#9c179e"
             ],
             [
              0.4444444444444444,
              "#bd3786"
             ],
             [
              0.5555555555555556,
              "#d8576b"
             ],
             [
              0.6666666666666666,
              "#ed7953"
             ],
             [
              0.7777777777777778,
              "#fb9f3a"
             ],
             [
              0.8888888888888888,
              "#fdca26"
             ],
             [
              1,
              "#f0f921"
             ]
            ],
            "type": "surface"
           }
          ],
          "table": [
           {
            "cells": {
             "fill": {
              "color": "#EBF0F8"
             },
             "line": {
              "color": "white"
             }
            },
            "header": {
             "fill": {
              "color": "#C8D4E3"
             },
             "line": {
              "color": "white"
             }
            },
            "type": "table"
           }
          ]
         },
         "layout": {
          "annotationdefaults": {
           "arrowcolor": "#2a3f5f",
           "arrowhead": 0,
           "arrowwidth": 1
          },
          "autotypenumbers": "strict",
          "coloraxis": {
           "colorbar": {
            "outlinewidth": 0,
            "ticks": ""
           }
          },
          "colorscale": {
           "diverging": [
            [
             0,
             "#8e0152"
            ],
            [
             0.1,
             "#c51b7d"
            ],
            [
             0.2,
             "#de77ae"
            ],
            [
             0.3,
             "#f1b6da"
            ],
            [
             0.4,
             "#fde0ef"
            ],
            [
             0.5,
             "#f7f7f7"
            ],
            [
             0.6,
             "#e6f5d0"
            ],
            [
             0.7,
             "#b8e186"
            ],
            [
             0.8,
             "#7fbc41"
            ],
            [
             0.9,
             "#4d9221"
            ],
            [
             1,
             "#276419"
            ]
           ],
           "sequential": [
            [
             0,
             "#0d0887"
            ],
            [
             0.1111111111111111,
             "#46039f"
            ],
            [
             0.2222222222222222,
             "#7201a8"
            ],
            [
             0.3333333333333333,
             "#9c179e"
            ],
            [
             0.4444444444444444,
             "#bd3786"
            ],
            [
             0.5555555555555556,
             "#d8576b"
            ],
            [
             0.6666666666666666,
             "#ed7953"
            ],
            [
             0.7777777777777778,
             "#fb9f3a"
            ],
            [
             0.8888888888888888,
             "#fdca26"
            ],
            [
             1,
             "#f0f921"
            ]
           ],
           "sequentialminus": [
            [
             0,
             "#0d0887"
            ],
            [
             0.1111111111111111,
             "#46039f"
            ],
            [
             0.2222222222222222,
             "#7201a8"
            ],
            [
             0.3333333333333333,
             "#9c179e"
            ],
            [
             0.4444444444444444,
             "#bd3786"
            ],
            [
             0.5555555555555556,
             "#d8576b"
            ],
            [
             0.6666666666666666,
             "#ed7953"
            ],
            [
             0.7777777777777778,
             "#fb9f3a"
            ],
            [
             0.8888888888888888,
             "#fdca26"
            ],
            [
             1,
             "#f0f921"
            ]
           ]
          },
          "colorway": [
           "#636efa",
           "#EF553B",
           "#00cc96",
           "#ab63fa",
           "#FFA15A",
           "#19d3f3",
           "#FF6692",
           "#B6E880",
           "#FF97FF",
           "#FECB52"
          ],
          "font": {
           "color": "#2a3f5f"
          },
          "geo": {
           "bgcolor": "white",
           "lakecolor": "white",
           "landcolor": "#E5ECF6",
           "showlakes": true,
           "showland": true,
           "subunitcolor": "white"
          },
          "hoverlabel": {
           "align": "left"
          },
          "hovermode": "closest",
          "mapbox": {
           "style": "light"
          },
          "paper_bgcolor": "white",
          "plot_bgcolor": "#E5ECF6",
          "polar": {
           "angularaxis": {
            "gridcolor": "white",
            "linecolor": "white",
            "ticks": ""
           },
           "bgcolor": "#E5ECF6",
           "radialaxis": {
            "gridcolor": "white",
            "linecolor": "white",
            "ticks": ""
           }
          },
          "scene": {
           "xaxis": {
            "backgroundcolor": "#E5ECF6",
            "gridcolor": "white",
            "gridwidth": 2,
            "linecolor": "white",
            "showbackground": true,
            "ticks": "",
            "zerolinecolor": "white"
           },
           "yaxis": {
            "backgroundcolor": "#E5ECF6",
            "gridcolor": "white",
            "gridwidth": 2,
            "linecolor": "white",
            "showbackground": true,
            "ticks": "",
            "zerolinecolor": "white"
           },
           "zaxis": {
            "backgroundcolor": "#E5ECF6",
            "gridcolor": "white",
            "gridwidth": 2,
            "linecolor": "white",
            "showbackground": true,
            "ticks": "",
            "zerolinecolor": "white"
           }
          },
          "shapedefaults": {
           "line": {
            "color": "#2a3f5f"
           }
          },
          "ternary": {
           "aaxis": {
            "gridcolor": "white",
            "linecolor": "white",
            "ticks": ""
           },
           "baxis": {
            "gridcolor": "white",
            "linecolor": "white",
            "ticks": ""
           },
           "bgcolor": "#E5ECF6",
           "caxis": {
            "gridcolor": "white",
            "linecolor": "white",
            "ticks": ""
           }
          },
          "title": {
           "x": 0.05
          },
          "xaxis": {
           "automargin": true,
           "gridcolor": "white",
           "linecolor": "white",
           "ticks": "",
           "title": {
            "standoff": 15
           },
           "zerolinecolor": "white",
           "zerolinewidth": 2
          },
          "yaxis": {
           "automargin": true,
           "gridcolor": "white",
           "linecolor": "white",
           "ticks": "",
           "title": {
            "standoff": 15
           },
           "zerolinecolor": "white",
           "zerolinewidth": 2
          }
         }
        },
        "title": {
         "text": "KDE of ΔRank (Power Rankings)"
        },
        "xaxis": {
         "anchor": "y",
         "domain": [
          0,
          1
         ],
         "title": {
          "text": "ΔRank"
         }
        },
        "yaxis": {
         "anchor": "x",
         "domain": [
          0,
          1
         ],
         "title": {
          "text": "Density"
         }
        }
       }
      }
     },
     "metadata": {},
     "output_type": "display_data"
    }
   ],
   "source": [
    "import numpy as np\n",
    "import pandas as pd\n",
    "from typing import Iterable, Tuple, Literal, Dict\n",
    "\n",
    "Source = Literal[\"power\", \"mlb\"]\n",
    "\n",
    "# -------------------------------------------------------------------\n",
    "# KDE core (unchanged)\n",
    "# -------------------------------------------------------------------\n",
    "def kde_gaussian_1d(samples: np.ndarray, grid: np.ndarray, bandwidth: float | None = None) -> np.ndarray:\n",
    "    samples = np.asarray(samples, dtype=float)\n",
    "    n = len(samples)\n",
    "    if n == 0:\n",
    "        return np.zeros_like(grid)\n",
    "\n",
    "    std = np.std(samples, ddof=1) if n > 1 else 0.0\n",
    "    if bandwidth is None:\n",
    "        bandwidth = 1.06 * max(std, 1e-8) * n ** (-1/5)  # Silverman\n",
    "    bandwidth = max(float(bandwidth), 0.3)               # floor\n",
    "\n",
    "    u = (grid[:, None] - samples[None, :]) / bandwidth\n",
    "    kernel_vals = np.exp(-0.5 * u**2) / np.sqrt(2 * np.pi)\n",
    "    return kernel_vals.mean(axis=1) / bandwidth\n",
    "\n",
    "\n",
    "# -------------------------------------------------------------------\n",
    "# Helpers to pull the rank time series by source, keyed by team_id\n",
    "# -------------------------------------------------------------------\n",
    "def _rank_series_for_team(\n",
    "    power: pd.DataFrame,\n",
    "    standings: pd.DataFrame,\n",
    "    team_id: str,\n",
    "    team_names: Dict[str, str],\n",
    "    source: Source\n",
    ") -> pd.Series:\n",
    "    \"\"\"\n",
    "    Returns a time-ordered rank series (pd.Series) for a given team_id, using source:\n",
    "      - 'power' -> from power['rank'] filtered by display name\n",
    "      - 'mlb'   -> from standings['mlb_rank'] filtered by team_id\n",
    "    Index is datetime (date).\n",
    "    \"\"\"\n",
    "    if source == \"power\":\n",
    "        # power has display names in 'team'\n",
    "        team_name = team_names.get(team_id)\n",
    "        if team_name is None:\n",
    "            raise KeyError(f\"team_id '{team_id}' not found in team_names\")\n",
    "        df = power.loc[power[\"team\"] == team_name, [\"date\", \"rank\"]].copy()\n",
    "        df[\"date\"] = pd.to_datetime(df[\"date\"])\n",
    "        df = df.sort_values(\"date\")\n",
    "        return pd.Series(df[\"rank\"].to_numpy(), index=df[\"date\"].to_numpy(), name=\"rank\")\n",
    "    else:  # source == \"mlb\"\n",
    "        df = standings.loc[standings[\"team_name\"] == team_id, [\"date\", \"mlb_rank\"]].copy()\n",
    "        df[\"date\"] = pd.to_datetime(df[\"date\"])\n",
    "        df = df.sort_values(\"date\")\n",
    "        return pd.Series(df[\"mlb_rank\"].to_numpy(), index=df[\"date\"].to_numpy(), name=\"rank\")\n",
    "\n",
    "\n",
    "def _rank_deltas_from_series(rank_series: pd.Series) -> np.ndarray:\n",
    "    \"\"\"1-step diffs of a rank time series (drop leading NaN).\"\"\"\n",
    "    if rank_series.empty:\n",
    "        return np.array([], dtype=float)\n",
    "    return pd.Series(rank_series).diff().dropna().to_numpy()\n",
    "\n",
    "\n",
    "# -------------------------------------------------------------------\n",
    "# Main data builder (now source-agnostic and team-code keyed)\n",
    "# -------------------------------------------------------------------\n",
    "def build_delta_kde_and_hist(\n",
    "    power: pd.DataFrame,\n",
    "    standings: pd.DataFrame,\n",
    "    team_names: Dict[str, str],   # team_id -> display name\n",
    "    team_codes: Dict[str, str],   # team_id -> code  (e.g., 'TOR', 'NYY', etc.)\n",
    "    selected_codes: Iterable[str],\n",
    "    grid: np.ndarray,\n",
    "    bin_edges: np.ndarray,\n",
    "    source: Source = \"power\",     # 'power' or 'mlb' for which rank to diff\n",
    "    auto_bandwidth: bool = True,\n",
    "    bandwidth: float = 0.6,\n",
    "    color_map: dict[str, str] | None = None,  # keyed by team_code if provided\n",
    ") -> Tuple[pd.DataFrame, pd.DataFrame, pd.Series, pd.Series]:\n",
    "    \"\"\"\n",
    "    Produce tidy KDE + histogram of Δrank for the chosen source ('power' or 'mlb'),\n",
    "    keyed by team codes for selection, but with labels from team_names for legends.\n",
    "\n",
    "    Returns\n",
    "    -------\n",
    "    kde_df : columns ['x','team_code','team_id','label','density','color','bandwidth']\n",
    "    hist_df: columns ['x','team_code','team_id','label','pdf','color']\n",
    "    peaks  : pd.Series indexed by team_code with peak-x (argmax of scaled KDE)\n",
    "    bws    : pd.Series indexed by team_code with bandwidth used\n",
    "    \"\"\"\n",
    "    # Invert code mapping to get code -> id\n",
    "    code_to_id = {code: tid for tid, code in team_codes.items()}\n",
    "\n",
    "    rows_kde, rows_hist = [], []\n",
    "    peak_vals: Dict[str, float] = {}\n",
    "    bw_vals: Dict[str, float] = {}\n",
    "\n",
    "    bin_centers = 0.5 * (bin_edges[:-1] + bin_edges[1:])\n",
    "\n",
    "    for code in selected_codes:\n",
    "        team_id = code_to_id.get(code)\n",
    "        if team_id is None:\n",
    "            raise KeyError(f\"Unknown team code: {code}\")\n",
    "\n",
    "        label = team_names.get(team_id, code)\n",
    "\n",
    "        # 1) Pull series from the requested source and compute deltas\n",
    "        series = _rank_series_for_team(power, standings, team_id, team_names, source)\n",
    "        deltas = _rank_deltas_from_series(series)\n",
    "\n",
    "        if deltas.size == 0:\n",
    "            peak_vals[code] = np.nan\n",
    "            bw_vals[code] = np.nan\n",
    "            continue\n",
    "\n",
    "        # 2) Bandwidth\n",
    "        bw_use = None if auto_bandwidth else float(bandwidth)\n",
    "\n",
    "        # 3) KDE (scaled to peak=1)\n",
    "        density = kde_gaussian_1d(deltas, grid, bandwidth=bw_use)\n",
    "        max_density = density.max() if density.size > 0 else 1.0\n",
    "        density_scaled = density / (max_density if max_density > 0 else 1.0)\n",
    "\n",
    "        peak_x = grid[np.argmax(density_scaled)] if density_scaled.size > 0 else np.nan\n",
    "        peak_vals[code] = float(peak_x)\n",
    "\n",
    "        if bw_use is None:\n",
    "            n = len(deltas)\n",
    "            std = np.std(deltas, ddof=1) if n > 1 else 0.0\n",
    "            bw_calc = 1.06 * max(std, 1e-8) * n ** (-1/5)\n",
    "            bw_vals[code] = float(max(bw_calc, 0.3))\n",
    "        else:\n",
    "            bw_vals[code] = float(bw_use)\n",
    "\n",
    "        color = (color_map or {}).get(code)\n",
    "\n",
    "        # 4) Fill KDE rows\n",
    "        for x, y in zip(grid, density_scaled):\n",
    "            rows_kde.append({\n",
    "                \"x\": float(x),\n",
    "                \"team_code\": code,\n",
    "                \"team_id\": team_id,\n",
    "                \"label\": label,\n",
    "                \"density\": float(y),\n",
    "                \"color\": color,\n",
    "                \"bandwidth\": bw_vals[code],\n",
    "            })\n",
    "\n",
    "        # 5) Histogram (density=True then scale to peak=1)\n",
    "        counts, _ = np.histogram(deltas, bins=bin_edges, density=True)\n",
    "        peak_hist = counts.max() if counts.size > 0 else 1.0\n",
    "        counts_scaled = counts / (peak_hist if peak_hist > 0 else 1.0)\n",
    "\n",
    "        for x, y in zip(bin_centers, counts_scaled):\n",
    "            rows_hist.append({\n",
    "                \"x\": float(x),\n",
    "                \"team_code\": code,\n",
    "                \"team_id\": team_id,\n",
    "                \"label\": label,\n",
    "                \"pdf\": float(y),\n",
    "                \"color\": color,\n",
    "            })\n",
    "\n",
    "    kde_df  = pd.DataFrame(rows_kde,  columns=[\"x\",\"team_code\",\"team_id\",\"label\",\"density\",\"color\",\"bandwidth\"])\n",
    "    hist_df = pd.DataFrame(rows_hist, columns=[\"x\",\"team_code\",\"team_id\",\"label\",\"pdf\",\"color\"])\n",
    "    peaks   = pd.Series(peak_vals, name=\"peak_x\")\n",
    "    bws     = pd.Series(bw_vals,   name=\"bandwidth\")\n",
    "\n",
    "    if not kde_df.empty:\n",
    "        kde_df = kde_df.sort_values([\"team_code\", \"x\"]).reset_index(drop=True)\n",
    "    if not hist_df.empty:\n",
    "        hist_df = hist_df.sort_values([\"team_code\", \"x\"]).reset_index(drop=True)\n",
    "\n",
    "    return kde_df, hist_df, peaks, bws\n",
    "\n",
    "\n",
    "# Example usage:\n",
    "grid = np.linspace(-15, 15, 301)          # for KDE\n",
    "bin_edges = np.linspace(-15, 15, 31)      # for histogram\n",
    "kde_df, hist_df, peaks, bws = build_delta_kde_and_hist(\n",
    "    power, standings, teams, tms,\n",
    "    selected_codes=['TOR','NYY'],\n",
    "    grid=grid,\n",
    "    bin_edges=bin_edges,\n",
    "    source=\"power\",\n",
    "    auto_bandwidth=True,\n",
    "    bandwidth=0.6,\n",
    "    color_map=None\n",
    ")\n",
    "\n",
    "# Plotly visualization (example)\n",
    "import plotly.express as px\n",
    "\n",
    "fig = px.line(kde_df, x=\"x\", y=\"density\", color=\"label\", line_group=\"team_code\",\n",
    "              title=\"KDE of ΔRank (Power Rankings)\", labels={\"x\": \"ΔRank\", \"density\": \"Density\"})\n",
    "\n",
    "# histogram overlay for both teams\n",
    "\n",
    "fig.add_trace(go.Bar(\n",
    "    x=hist_df[hist_df['team_code'] == 'TOR']['x'],\n",
    "    y=hist_df[hist_df['team_code'] == 'TOR']['pdf'],\n",
    "    name='TOR Histogram',\n",
    "    marker_color='rgba(255, 0, 0, 0.5)',\n",
    "    width=0.8,\n",
    "    opacity=0.5\n",
    "))\n",
    "\n",
    "fig.add_trace(go.Bar(\n",
    "    x=hist_df[hist_df['team_code'] == 'NYY']['x'],\n",
    "    y=hist_df[hist_df['team_code'] == 'NYY']['pdf'],\n",
    "    name='NYY Histogram',\n",
    "    marker_color='rgba(0, 0, 255, 0.5)',\n",
    "    width=0.8,\n",
    "    opacity=0.5\n",
    "))\n",
    "fig.show()"
   ]
  },
  {
   "cell_type": "code",
   "execution_count": null,
   "id": "f0335b5f",
   "metadata": {},
   "outputs": [],
   "source": [
    "import numpy as np\n",
    "import pandas as pd\n",
    "from typing import Iterable, Dict\n",
    "\n",
    "def _rank_series_for_team(\n",
    "    power: pd.DataFrame,\n",
    "    standings: pd.DataFrame,\n",
    "    team_id: str,\n",
    "    team_names: Dict[str, str],\n",
    "    use_mlb: bool\n",
    ") -> pd.Series:\n",
    "    \"\"\"\n",
    "    Return a time-ordered rank series for a given team_id.\n",
    "      - use_mlb=False -> from power['rank'] filtered by display name (power['team'])\n",
    "      - use_mlb=True  -> from standings['mlb_rank'] filtered by team_id (standings['team_name'])\n",
    "    \"\"\"\n",
    "    if not use_mlb:\n",
    "        team_name = team_names.get(team_id)\n",
    "        if team_name is None:\n",
    "            raise KeyError(f\"team_id '{team_id}' not found in team_names\")\n",
    "        df = power.loc[power[\"team\"] == team_name, [\"date\", \"rank\"]].copy()\n",
    "        val_col = \"rank\"\n",
    "    else:\n",
    "        df = standings.loc[standings[\"team_name\"] == team_id, [\"date\", \"mlb_rank\"]].copy()\n",
    "        val_col = \"mlb_rank\"\n",
    "\n",
    "    if df.empty:\n",
    "        return pd.Series(dtype=float)\n",
    "\n",
    "    df[\"date\"] = pd.to_datetime(df[\"date\"])\n",
    "    df = df.sort_values(\"date\")\n",
    "    return pd.Series(df[val_col].to_numpy(), index=df[\"date\"].to_numpy(), name=\"rank\")\n",
    "\n",
    "\n",
    "def build_rank_volatility(\n",
    "    power: pd.DataFrame,\n",
    "    standings: pd.DataFrame,\n",
    "    team_names: Dict[str, str],   # team_id -> display name\n",
    "    team_codes: Dict[str, str],   # team_id -> code (e.g., 'TOR')\n",
    "    selected_codes: Iterable[str],\n",
    "    source: str,                # 'power' or 'mlb'\n",
    "    ddof: int = 0,                # ddof=0 so the first value is 0.0 (matches your notebook)\n",
    "    min_periods: int = 1,         # expanding min periods\n",
    ") -> pd.DataFrame:\n",
    "    \"\"\"\n",
    "    Build a tidy DataFrame with expanding std dev (volatility) of rank for each selected team.\n",
    "\n",
    "    Parameters\n",
    "    ----------\n",
    "    power        : DataFrame with ['date','team','rank']   # 'team' is display name\n",
    "    standings    : DataFrame with ['date','team_name','mlb_rank']  # 'team_name' is team_id\n",
    "    team_names   : dict mapping team_id -> display name\n",
    "    team_codes   : dict mapping team_id -> short code ('TOR', 'NYY', ...)\n",
    "    selected_codes : iterable of codes to include (values from team_codes)\n",
    "    use_mlb      : True => use MLB ranks; False => use Power ranks\n",
    "    ddof         : degrees of freedom for std (default 0)\n",
    "    min_periods  : minimum periods for expanding std (default 1)\n",
    "\n",
    "    Returns\n",
    "    -------\n",
    "    DataFrame with columns:\n",
    "      ['date','team_code','team_id','label','sigma','source']\n",
    "    where sigma is the expanding std dev of the chosen rank series.\n",
    "    \"\"\"\n",
    "    # code -> id\n",
    "    code_to_id = {code: tid for tid, code in team_codes.items()}\n",
    "\n",
    "    rows = []\n",
    "    use_mlb = (source == \"mlb\")\n",
    "\n",
    "    for code in selected_codes:\n",
    "        team_id = code_to_id.get(code)\n",
    "        if team_id is None:\n",
    "            raise KeyError(f\"Unknown team code: {code}\")\n",
    "        label = team_names.get(team_id, code)\n",
    "\n",
    "        series = _rank_series_for_team(power, standings, team_id, team_names, use_mlb)\n",
    "        if series.empty:\n",
    "            continue\n",
    "\n",
    "        # Expanding volatility (std dev); ddof=0 makes the very first value 0.0\n",
    "        sigma = pd.Series(series).expanding(min_periods=min_periods).std(ddof=ddof).fillna(0.0)\n",
    "\n",
    "        # Emit rows\n",
    "        for dt, val in zip(sigma.index, sigma.values):\n",
    "            rows.append({\n",
    "                \"date\": pd.to_datetime(dt),\n",
    "                \"team_code\": code,\n",
    "                \"team_id\": team_id,\n",
    "                \"label\": label,\n",
    "                \"sigma\": float(val),\n",
    "                \"source\": source,\n",
    "            })\n",
    "\n",
    "    out = pd.DataFrame(rows, columns=[\"date\",\"team_code\",\"team_id\",\"label\",\"sigma\",\"source\"])\n",
    "    if not out.empty:\n",
    "        out = out.sort_values([\"team_code\", \"date\"]).reset_index(drop=True)\n",
    "    return out"
   ]
  },
  {
   "cell_type": "code",
   "execution_count": 19,
   "id": "4aa10348",
   "metadata": {},
   "outputs": [
    {
     "name": "stderr",
     "output_type": "stream",
     "text": [
      "c:\\ProgramData\\anaconda3\\Lib\\site-packages\\numpy\\lib\\_function_base_impl.py:3037: RuntimeWarning: Degrees of freedom <= 0 for slice\n",
      "  c = cov(x, y, rowvar, dtype=dtype)\n",
      "c:\\ProgramData\\anaconda3\\Lib\\site-packages\\numpy\\lib\\_function_base_impl.py:2894: RuntimeWarning: divide by zero encountered in divide\n",
      "  c *= np.true_divide(1, fact)\n",
      "c:\\ProgramData\\anaconda3\\Lib\\site-packages\\numpy\\lib\\_function_base_impl.py:2894: RuntimeWarning: invalid value encountered in multiply\n",
      "  c *= np.true_divide(1, fact)\n"
     ]
    },
    {
     "data": {
      "application/vnd.plotly.v1+json": {
       "config": {
        "plotlyServerURL": "https://plot.ly"
       },
       "data": [
        {
         "hovertemplate": "Lag=1<br>Date=%{x}<br>Stability=%{y}<extra></extra>",
         "legendgroup": "1",
         "line": {
          "color": "#636efa",
          "dash": "solid"
         },
         "marker": {
          "symbol": "circle"
         },
         "mode": "lines+markers",
         "name": "1",
         "orientation": "v",
         "showlegend": true,
         "type": "scatter",
         "x": [
          "2025-04-27T00:00:00.000000000",
          "2025-05-04T00:00:00.000000000",
          "2025-05-11T00:00:00.000000000",
          "2025-05-18T00:00:00.000000000",
          "2025-05-25T00:00:00.000000000",
          "2025-06-08T00:00:00.000000000",
          "2025-06-15T00:00:00.000000000",
          "2025-06-22T00:00:00.000000000",
          "2025-06-29T00:00:00.000000000",
          "2025-07-06T00:00:00.000000000",
          "2025-07-27T00:00:00.000000000",
          "2025-08-03T00:00:00.000000000",
          "2025-08-10T00:00:00.000000000",
          "2025-08-17T00:00:00.000000000",
          "2025-08-24T00:00:00.000000000",
          "2025-09-07T00:00:00.000000000",
          "2025-09-14T00:00:00.000000000",
          "2025-09-21T00:00:00.000000000",
          "2025-09-28T00:00:00.000000000"
         ],
         "xaxis": "x",
         "y": {
          "bdata": "PoMSSCTWjD8Gbcjww/XdP05H99aV6uA/odWmKu2s4j8SxRJtRsHkP5BRTaDwidY//BJPYmmP3D879WI+9WLeP2eKmF8Cut8/MMAAb9ib4T9ncQWYWdzlP4eeYmrwkuc/DUSuz6rM6D//SfAq9cfpP1O+F4LJNOo/4wxpPiid6j9VHd31ZPfqP0nIduQIP+s/IEuUaEt56z8=",
          "dtype": "f8"
         },
         "yaxis": "y"
        },
        {
         "hovertemplate": "Lag=2<br>Date=%{x}<br>Stability=%{y}<extra></extra>",
         "legendgroup": "2",
         "line": {
          "color": "#EF553B",
          "dash": "solid"
         },
         "marker": {
          "symbol": "circle"
         },
         "mode": "lines+markers",
         "name": "2",
         "orientation": "v",
         "showlegend": true,
         "type": "scatter",
         "x": [
          "2025-04-27T00:00:00.000000000",
          "2025-05-04T00:00:00.000000000",
          "2025-05-11T00:00:00.000000000",
          "2025-05-18T00:00:00.000000000",
          "2025-05-25T00:00:00.000000000",
          "2025-06-08T00:00:00.000000000",
          "2025-06-15T00:00:00.000000000",
          "2025-06-22T00:00:00.000000000",
          "2025-06-29T00:00:00.000000000",
          "2025-07-06T00:00:00.000000000",
          "2025-07-27T00:00:00.000000000",
          "2025-08-03T00:00:00.000000000",
          "2025-08-10T00:00:00.000000000",
          "2025-08-17T00:00:00.000000000",
          "2025-08-24T00:00:00.000000000",
          "2025-09-07T00:00:00.000000000",
          "2025-09-14T00:00:00.000000000",
          "2025-09-21T00:00:00.000000000",
          "2025-09-28T00:00:00.000000000"
         ],
         "xaxis": "x",
         "y": {
          "bdata": "////////778Fr+DgwK/ov6zfOvzeIMO/de8CGOGgsj9RxckfPhjIP0E/WbUhrsO/d3QdvNrg1L+5TdE2BdLGv9FOCi1/4Z6/M7BI1bbqsT9Ba6N3EhjNPzDg0ETmn9g/QZ7KEz6G4D8u339uDMLiP/3My0y28eM/vingSl0N5T/lYR/R58PlP+QJCyc+YuY/z1CBNAnh5j8=",
          "dtype": "f8"
         },
         "yaxis": "y"
        },
        {
         "hovertemplate": "Lag=3<br>Date=%{x}<br>Stability=%{y}<extra></extra>",
         "legendgroup": "3",
         "line": {
          "color": "#00cc96",
          "dash": "solid"
         },
         "marker": {
          "symbol": "circle"
         },
         "mode": "lines+markers",
         "name": "3",
         "orientation": "v",
         "showlegend": true,
         "type": "scatter",
         "x": [
          "2025-05-04T00:00:00.000000000",
          "2025-05-11T00:00:00.000000000",
          "2025-05-18T00:00:00.000000000",
          "2025-05-25T00:00:00.000000000",
          "2025-06-08T00:00:00.000000000",
          "2025-06-15T00:00:00.000000000",
          "2025-06-22T00:00:00.000000000",
          "2025-06-29T00:00:00.000000000",
          "2025-07-06T00:00:00.000000000",
          "2025-07-27T00:00:00.000000000",
          "2025-08-03T00:00:00.000000000",
          "2025-08-10T00:00:00.000000000",
          "2025-08-17T00:00:00.000000000",
          "2025-08-24T00:00:00.000000000",
          "2025-09-07T00:00:00.000000000",
          "2025-09-14T00:00:00.000000000",
          "2025-09-21T00:00:00.000000000",
          "2025-09-28T00:00:00.000000000"
         ],
         "xaxis": "x",
         "y": {
          "bdata": "////////7z9vP9J3nr7OP6Ei65Fz8+E/10IRV56V5j98j1fGrd+8v3TN78o1qtW/js3zt4GG27+xrOJtg8/Hv8x+rprDoLA/U8iZrwHXwz9rDJIqKerPP8QVk9d5Ptk/AhHAWDKB4D+HJ1NaoPDhP9/b9OJzQuM/s3nfV3pB5D9uE2F3IfDkP24MgkU3huU/",
          "dtype": "f8"
         },
         "yaxis": "y"
        }
       ],
       "layout": {
        "legend": {
         "title": {
          "text": "Lag"
         },
         "tracegroupgap": 0
        },
        "template": {
         "data": {
          "bar": [
           {
            "error_x": {
             "color": "#2a3f5f"
            },
            "error_y": {
             "color": "#2a3f5f"
            },
            "marker": {
             "line": {
              "color": "#E5ECF6",
              "width": 0.5
             },
             "pattern": {
              "fillmode": "overlay",
              "size": 10,
              "solidity": 0.2
             }
            },
            "type": "bar"
           }
          ],
          "barpolar": [
           {
            "marker": {
             "line": {
              "color": "#E5ECF6",
              "width": 0.5
             },
             "pattern": {
              "fillmode": "overlay",
              "size": 10,
              "solidity": 0.2
             }
            },
            "type": "barpolar"
           }
          ],
          "carpet": [
           {
            "aaxis": {
             "endlinecolor": "#2a3f5f",
             "gridcolor": "white",
             "linecolor": "white",
             "minorgridcolor": "white",
             "startlinecolor": "#2a3f5f"
            },
            "baxis": {
             "endlinecolor": "#2a3f5f",
             "gridcolor": "white",
             "linecolor": "white",
             "minorgridcolor": "white",
             "startlinecolor": "#2a3f5f"
            },
            "type": "carpet"
           }
          ],
          "choropleth": [
           {
            "colorbar": {
             "outlinewidth": 0,
             "ticks": ""
            },
            "type": "choropleth"
           }
          ],
          "contour": [
           {
            "colorbar": {
             "outlinewidth": 0,
             "ticks": ""
            },
            "colorscale": [
             [
              0,
              "#0d0887"
             ],
             [
              0.1111111111111111,
              "#46039f"
             ],
             [
              0.2222222222222222,
              "#7201a8"
             ],
             [
              0.3333333333333333,
              "#9c179e"
             ],
             [
              0.4444444444444444,
              "#bd3786"
             ],
             [
              0.5555555555555556,
              "#d8576b"
             ],
             [
              0.6666666666666666,
              "#ed7953"
             ],
             [
              0.7777777777777778,
              "#fb9f3a"
             ],
             [
              0.8888888888888888,
              "#fdca26"
             ],
             [
              1,
              "#f0f921"
             ]
            ],
            "type": "contour"
           }
          ],
          "contourcarpet": [
           {
            "colorbar": {
             "outlinewidth": 0,
             "ticks": ""
            },
            "type": "contourcarpet"
           }
          ],
          "heatmap": [
           {
            "colorbar": {
             "outlinewidth": 0,
             "ticks": ""
            },
            "colorscale": [
             [
              0,
              "#0d0887"
             ],
             [
              0.1111111111111111,
              "#46039f"
             ],
             [
              0.2222222222222222,
              "#7201a8"
             ],
             [
              0.3333333333333333,
              "#9c179e"
             ],
             [
              0.4444444444444444,
              "#bd3786"
             ],
             [
              0.5555555555555556,
              "#d8576b"
             ],
             [
              0.6666666666666666,
              "#ed7953"
             ],
             [
              0.7777777777777778,
              "#fb9f3a"
             ],
             [
              0.8888888888888888,
              "#fdca26"
             ],
             [
              1,
              "#f0f921"
             ]
            ],
            "type": "heatmap"
           }
          ],
          "histogram": [
           {
            "marker": {
             "pattern": {
              "fillmode": "overlay",
              "size": 10,
              "solidity": 0.2
             }
            },
            "type": "histogram"
           }
          ],
          "histogram2d": [
           {
            "colorbar": {
             "outlinewidth": 0,
             "ticks": ""
            },
            "colorscale": [
             [
              0,
              "#0d0887"
             ],
             [
              0.1111111111111111,
              "#46039f"
             ],
             [
              0.2222222222222222,
              "#7201a8"
             ],
             [
              0.3333333333333333,
              "#9c179e"
             ],
             [
              0.4444444444444444,
              "#bd3786"
             ],
             [
              0.5555555555555556,
              "#d8576b"
             ],
             [
              0.6666666666666666,
              "#ed7953"
             ],
             [
              0.7777777777777778,
              "#fb9f3a"
             ],
             [
              0.8888888888888888,
              "#fdca26"
             ],
             [
              1,
              "#f0f921"
             ]
            ],
            "type": "histogram2d"
           }
          ],
          "histogram2dcontour": [
           {
            "colorbar": {
             "outlinewidth": 0,
             "ticks": ""
            },
            "colorscale": [
             [
              0,
              "#0d0887"
             ],
             [
              0.1111111111111111,
              "#46039f"
             ],
             [
              0.2222222222222222,
              "#7201a8"
             ],
             [
              0.3333333333333333,
              "#9c179e"
             ],
             [
              0.4444444444444444,
              "#bd3786"
             ],
             [
              0.5555555555555556,
              "#d8576b"
             ],
             [
              0.6666666666666666,
              "#ed7953"
             ],
             [
              0.7777777777777778,
              "#fb9f3a"
             ],
             [
              0.8888888888888888,
              "#fdca26"
             ],
             [
              1,
              "#f0f921"
             ]
            ],
            "type": "histogram2dcontour"
           }
          ],
          "mesh3d": [
           {
            "colorbar": {
             "outlinewidth": 0,
             "ticks": ""
            },
            "type": "mesh3d"
           }
          ],
          "parcoords": [
           {
            "line": {
             "colorbar": {
              "outlinewidth": 0,
              "ticks": ""
             }
            },
            "type": "parcoords"
           }
          ],
          "pie": [
           {
            "automargin": true,
            "type": "pie"
           }
          ],
          "scatter": [
           {
            "fillpattern": {
             "fillmode": "overlay",
             "size": 10,
             "solidity": 0.2
            },
            "type": "scatter"
           }
          ],
          "scatter3d": [
           {
            "line": {
             "colorbar": {
              "outlinewidth": 0,
              "ticks": ""
             }
            },
            "marker": {
             "colorbar": {
              "outlinewidth": 0,
              "ticks": ""
             }
            },
            "type": "scatter3d"
           }
          ],
          "scattercarpet": [
           {
            "marker": {
             "colorbar": {
              "outlinewidth": 0,
              "ticks": ""
             }
            },
            "type": "scattercarpet"
           }
          ],
          "scattergeo": [
           {
            "marker": {
             "colorbar": {
              "outlinewidth": 0,
              "ticks": ""
             }
            },
            "type": "scattergeo"
           }
          ],
          "scattergl": [
           {
            "marker": {
             "colorbar": {
              "outlinewidth": 0,
              "ticks": ""
             }
            },
            "type": "scattergl"
           }
          ],
          "scattermap": [
           {
            "marker": {
             "colorbar": {
              "outlinewidth": 0,
              "ticks": ""
             }
            },
            "type": "scattermap"
           }
          ],
          "scattermapbox": [
           {
            "marker": {
             "colorbar": {
              "outlinewidth": 0,
              "ticks": ""
             }
            },
            "type": "scattermapbox"
           }
          ],
          "scatterpolar": [
           {
            "marker": {
             "colorbar": {
              "outlinewidth": 0,
              "ticks": ""
             }
            },
            "type": "scatterpolar"
           }
          ],
          "scatterpolargl": [
           {
            "marker": {
             "colorbar": {
              "outlinewidth": 0,
              "ticks": ""
             }
            },
            "type": "scatterpolargl"
           }
          ],
          "scatterternary": [
           {
            "marker": {
             "colorbar": {
              "outlinewidth": 0,
              "ticks": ""
             }
            },
            "type": "scatterternary"
           }
          ],
          "surface": [
           {
            "colorbar": {
             "outlinewidth": 0,
             "ticks": ""
            },
            "colorscale": [
             [
              0,
              "#0d0887"
             ],
             [
              0.1111111111111111,
              "#46039f"
             ],
             [
              0.2222222222222222,
              "#7201a8"
             ],
             [
              0.3333333333333333,
              "#9c179e"
             ],
             [
              0.4444444444444444,
              "#bd3786"
             ],
             [
              0.5555555555555556,
              "#d8576b"
             ],
             [
              0.6666666666666666,
              "#ed7953"
             ],
             [
              0.7777777777777778,
              "#fb9f3a"
             ],
             [
              0.8888888888888888,
              "#fdca26"
             ],
             [
              1,
              "#f0f921"
             ]
            ],
            "type": "surface"
           }
          ],
          "table": [
           {
            "cells": {
             "fill": {
              "color": "#EBF0F8"
             },
             "line": {
              "color": "white"
             }
            },
            "header": {
             "fill": {
              "color": "#C8D4E3"
             },
             "line": {
              "color": "white"
             }
            },
            "type": "table"
           }
          ]
         },
         "layout": {
          "annotationdefaults": {
           "arrowcolor": "#2a3f5f",
           "arrowhead": 0,
           "arrowwidth": 1
          },
          "autotypenumbers": "strict",
          "coloraxis": {
           "colorbar": {
            "outlinewidth": 0,
            "ticks": ""
           }
          },
          "colorscale": {
           "diverging": [
            [
             0,
             "#8e0152"
            ],
            [
             0.1,
             "#c51b7d"
            ],
            [
             0.2,
             "#de77ae"
            ],
            [
             0.3,
             "#f1b6da"
            ],
            [
             0.4,
             "#fde0ef"
            ],
            [
             0.5,
             "#f7f7f7"
            ],
            [
             0.6,
             "#e6f5d0"
            ],
            [
             0.7,
             "#b8e186"
            ],
            [
             0.8,
             "#7fbc41"
            ],
            [
             0.9,
             "#4d9221"
            ],
            [
             1,
             "#276419"
            ]
           ],
           "sequential": [
            [
             0,
             "#0d0887"
            ],
            [
             0.1111111111111111,
             "#46039f"
            ],
            [
             0.2222222222222222,
             "#7201a8"
            ],
            [
             0.3333333333333333,
             "#9c179e"
            ],
            [
             0.4444444444444444,
             "#bd3786"
            ],
            [
             0.5555555555555556,
             "#d8576b"
            ],
            [
             0.6666666666666666,
             "#ed7953"
            ],
            [
             0.7777777777777778,
             "#fb9f3a"
            ],
            [
             0.8888888888888888,
             "#fdca26"
            ],
            [
             1,
             "#f0f921"
            ]
           ],
           "sequentialminus": [
            [
             0,
             "#0d0887"
            ],
            [
             0.1111111111111111,
             "#46039f"
            ],
            [
             0.2222222222222222,
             "#7201a8"
            ],
            [
             0.3333333333333333,
             "#9c179e"
            ],
            [
             0.4444444444444444,
             "#bd3786"
            ],
            [
             0.5555555555555556,
             "#d8576b"
            ],
            [
             0.6666666666666666,
             "#ed7953"
            ],
            [
             0.7777777777777778,
             "#fb9f3a"
            ],
            [
             0.8888888888888888,
             "#fdca26"
            ],
            [
             1,
             "#f0f921"
            ]
           ]
          },
          "colorway": [
           "#636efa",
           "#EF553B",
           "#00cc96",
           "#ab63fa",
           "#FFA15A",
           "#19d3f3",
           "#FF6692",
           "#B6E880",
           "#FF97FF",
           "#FECB52"
          ],
          "font": {
           "color": "#2a3f5f"
          },
          "geo": {
           "bgcolor": "white",
           "lakecolor": "white",
           "landcolor": "#E5ECF6",
           "showlakes": true,
           "showland": true,
           "subunitcolor": "white"
          },
          "hoverlabel": {
           "align": "left"
          },
          "hovermode": "closest",
          "mapbox": {
           "style": "light"
          },
          "paper_bgcolor": "white",
          "plot_bgcolor": "#E5ECF6",
          "polar": {
           "angularaxis": {
            "gridcolor": "white",
            "linecolor": "white",
            "ticks": ""
           },
           "bgcolor": "#E5ECF6",
           "radialaxis": {
            "gridcolor": "white",
            "linecolor": "white",
            "ticks": ""
           }
          },
          "scene": {
           "xaxis": {
            "backgroundcolor": "#E5ECF6",
            "gridcolor": "white",
            "gridwidth": 2,
            "linecolor": "white",
            "showbackground": true,
            "ticks": "",
            "zerolinecolor": "white"
           },
           "yaxis": {
            "backgroundcolor": "#E5ECF6",
            "gridcolor": "white",
            "gridwidth": 2,
            "linecolor": "white",
            "showbackground": true,
            "ticks": "",
            "zerolinecolor": "white"
           },
           "zaxis": {
            "backgroundcolor": "#E5ECF6",
            "gridcolor": "white",
            "gridwidth": 2,
            "linecolor": "white",
            "showbackground": true,
            "ticks": "",
            "zerolinecolor": "white"
           }
          },
          "shapedefaults": {
           "line": {
            "color": "#2a3f5f"
           }
          },
          "ternary": {
           "aaxis": {
            "gridcolor": "white",
            "linecolor": "white",
            "ticks": ""
           },
           "baxis": {
            "gridcolor": "white",
            "linecolor": "white",
            "ticks": ""
           },
           "bgcolor": "#E5ECF6",
           "caxis": {
            "gridcolor": "white",
            "linecolor": "white",
            "ticks": ""
           }
          },
          "title": {
           "x": 0.05
          },
          "xaxis": {
           "automargin": true,
           "gridcolor": "white",
           "linecolor": "white",
           "ticks": "",
           "title": {
            "standoff": 15
           },
           "zerolinecolor": "white",
           "zerolinewidth": 2
          },
          "yaxis": {
           "automargin": true,
           "gridcolor": "white",
           "linecolor": "white",
           "ticks": "",
           "title": {
            "standoff": 15
           },
           "zerolinecolor": "white",
           "zerolinewidth": 2
          }
         }
        },
        "title": {
         "text": "Stability (Δ Fisher-z of ACF) of MLB Rank for TOR"
        },
        "xaxis": {
         "anchor": "y",
         "domain": [
          0,
          1
         ],
         "title": {
          "text": "Date"
         }
        },
        "yaxis": {
         "anchor": "x",
         "domain": [
          0,
          1
         ],
         "title": {
          "text": "Stability"
         }
        }
       }
      }
     },
     "metadata": {},
     "output_type": "display_data"
    }
   ],
   "source": [
    "import numpy as np\n",
    "import pandas as pd\n",
    "from typing import Dict\n",
    "\n",
    "# ---------- internal helpers ----------\n",
    "def _rank_series_for_team(\n",
    "    power: pd.DataFrame,\n",
    "    standings: pd.DataFrame,\n",
    "    team_id: str,\n",
    "    team_names: Dict[str, str],\n",
    "    use_mlb: bool\n",
    ") -> pd.Series:\n",
    "    \"\"\"\n",
    "    Return a time-ordered rank series for team_id.\n",
    "      use_mlb=False -> power['rank'] filtered by display name (power['team'])\n",
    "      use_mlb=True  -> standings['mlb_rank'] filtered by team_id (standings['team_name'])\n",
    "    \"\"\"\n",
    "    if not use_mlb:\n",
    "        team_name = team_names.get(team_id)\n",
    "        if team_name is None:\n",
    "            raise KeyError(f\"team_id '{team_id}' not found in team_names\")\n",
    "        df = power.loc[power[\"team\"] == team_name, [\"date\", \"rank\"]].copy()\n",
    "        val_col = \"rank\"\n",
    "    else:\n",
    "        df = standings.loc[standings[\"team_name\"] == team_id, [\"date\", \"mlb_rank\"]].copy()\n",
    "        val_col = \"mlb_rank\"\n",
    "\n",
    "    if df.empty:\n",
    "        return pd.Series(dtype=float)\n",
    "\n",
    "    df[\"date\"] = pd.to_datetime(df[\"date\"])\n",
    "    df = df.sort_values(\"date\")\n",
    "    return df.set_index(\"date\")[val_col]\n",
    "\n",
    "\n",
    "def _rolling_acf(series: pd.Series, max_lag: int = 3) -> pd.DataFrame:\n",
    "    \"\"\"\n",
    "    Expanding-window autocorrelation up to max_lag.\n",
    "    Returns a DataFrame indexed by date with columns {1..max_lag}.\n",
    "    \"\"\"\n",
    "    if series.empty:\n",
    "        return pd.DataFrame(columns=list(range(1, max_lag + 1)))\n",
    "\n",
    "    out = {lag: [] for lag in range(1, max_lag + 1)}\n",
    "    dates = []\n",
    "    # need at least max_lag+1 points for acf(lag)\n",
    "    for t in range(max_lag + 1, len(series) + 1):\n",
    "        window = series.iloc[:t]\n",
    "        dates.append(series.index[t - 1])\n",
    "        for lag in out:\n",
    "            out[lag].append(window.autocorr(lag=lag))\n",
    "    acf_df = pd.DataFrame(out, index=pd.to_datetime(dates))\n",
    "    acf_df.index.name = \"date\"\n",
    "    return acf_df\n",
    "\n",
    "\n",
    "def _acf_to_stability(acf_df: pd.DataFrame, alpha: float = 0.25) -> pd.DataFrame:\n",
    "    \"\"\"\n",
    "    Stability = Δ Fisher-z(ACF).\n",
    "    Clips ACF into (-1, 1), applies atanh, diffs by 1 step, optional EWMA smooth.\n",
    "    Returns DataFrame indexed by date with same columns as acf_df.\n",
    "    \"\"\"\n",
    "    if acf_df.empty or len(acf_df) < 2:\n",
    "        return pd.DataFrame(index=acf_df.index, columns=acf_df.columns)\n",
    "\n",
    "    acf_clipped = acf_df.clip(-0.999, 0.999)\n",
    "    z = np.arctanh(acf_clipped)\n",
    "    dz = z.diff()\n",
    "\n",
    "    if alpha and alpha > 0:\n",
    "        dz = dz.ewm(alpha=alpha, adjust=False).mean()\n",
    "\n",
    "    dz.index.name = \"date\"\n",
    "    return dz\n",
    "\n",
    "# ---------- public data-prep ----------\n",
    "def build_acf_stability_timeseries(\n",
    "    power: pd.DataFrame,\n",
    "    standings: pd.DataFrame,\n",
    "    team_names: Dict[str, str],   # team_id -> display name\n",
    "    team_codes: Dict[str, str],   # team_id -> code (e.g., 'TOR')\n",
    "    team_code: str,               # single team code\n",
    "    use_mlb: bool,                # True => MLB ranks, False => Power ranks\n",
    "    max_lag: int = 3,\n",
    "    alpha: float = 0.25,          # EWMA smoothing for Δz (set 0 to disable)\n",
    "    return_acf: bool = False      # if True, also return the raw ACF tidy df\n",
    ") -> (pd.DataFrame | tuple[pd.DataFrame, pd.DataFrame]):\n",
    "    \"\"\"\n",
    "    Produce a tidy Stability (Δ Fisher-z of ACF) time series for one team.\n",
    "\n",
    "    Returns\n",
    "    -------\n",
    "    stability_df (tidy):\n",
    "      columns = ['date', 'lag', 'value', 'team_code', 'team_id', 'label', 'source', 'metric']\n",
    "      where metric='stability' and 'value' is Δz for that lag at that date.\n",
    "\n",
    "    If return_acf=True, also returns acf_df_tidy with metric='acf' and 'value' = ρ.\n",
    "    \"\"\"\n",
    "    # code -> id\n",
    "    code_to_id = {code: tid for tid, code in team_codes.items()}\n",
    "    if team_code not in code_to_id:\n",
    "        raise KeyError(f\"Unknown team code: {team_code}\")\n",
    "\n",
    "    team_id = code_to_id[team_code]\n",
    "    label = team_names.get(team_id, team_code)\n",
    "    source = \"mlb\" if use_mlb else \"power\"\n",
    "\n",
    "    s = _rank_series_for_team(power, standings, team_id, team_names, use_mlb).dropna()\n",
    "    if s.empty:\n",
    "        empty_cols = [\"date\", \"lag\", \"value\", \"team_code\", \"team_id\", \"label\", \"source\", \"metric\"]\n",
    "        empty = pd.DataFrame(columns=empty_cols)\n",
    "        return (empty, empty.copy()) if return_acf else empty\n",
    "\n",
    "    acf_wide = _rolling_acf(s, max_lag=max_lag)\n",
    "    stab_wide = _acf_to_stability(acf_wide, alpha=alpha)\n",
    "\n",
    "    # wide -> tidy\n",
    "    def _wide_to_tidy(df_wide: pd.DataFrame, metric_name: str) -> pd.DataFrame:\n",
    "        if df_wide.empty:\n",
    "            return pd.DataFrame(columns=[\"date\", \"lag\", \"value\"])\n",
    "        tidy = (\n",
    "            df_wide.reset_index()\n",
    "                   .melt(id_vars=\"date\", var_name=\"lag\", value_name=\"value\")\n",
    "                   .dropna(subset=[\"value\"])\n",
    "        )\n",
    "        tidy[\"lag\"] = tidy[\"lag\"].astype(int)\n",
    "        tidy[\"metric\"] = metric_name\n",
    "        return tidy\n",
    "\n",
    "    stab_tidy = _wide_to_tidy(stab_wide, \"stability\")\n",
    "    # add metadata\n",
    "    for df in (stab_tidy,):\n",
    "        if not df.empty:\n",
    "            df[\"team_code\"] = team_code\n",
    "            df[\"team_id\"] = team_id\n",
    "            df[\"label\"] = label\n",
    "            df[\"source\"] = source\n",
    "            # order columns nicely\n",
    "            df.sort_values([\"lag\", \"date\"], inplace=True)\n",
    "            df.reset_index(drop=True, inplace=True)\n",
    "            df = df[[\"date\", \"lag\", \"value\", \"team_code\", \"team_id\", \"label\", \"source\", \"metric\"]]\n",
    "\n",
    "    if not return_acf:\n",
    "        return stab_tidy\n",
    "\n",
    "    acf_tidy = _wide_to_tidy(acf_wide, \"acf\")\n",
    "    if not acf_tidy.empty:\n",
    "        acf_tidy[\"team_code\"] = team_code\n",
    "        acf_tidy[\"team_id\"] = team_id\n",
    "        acf_tidy[\"label\"] = label\n",
    "        acf_tidy[\"source\"] = source\n",
    "        acf_tidy.sort_values([\"lag\", \"date\"], inplace=True)\n",
    "        acf_tidy.reset_index(drop=True, inplace=True)\n",
    "        acf_tidy = acf_tidy[[\"date\", \"lag\", \"value\", \"team_code\", \"team_id\", \"label\", \"source\", \"metric\"]]\n",
    "\n",
    "    return stab_tidy, acf_tidy\n"
   ]
  },
  {
   "cell_type": "code",
   "execution_count": 22,
   "id": "dafa742d",
   "metadata": {},
   "outputs": [
    {
     "name": "stderr",
     "output_type": "stream",
     "text": [
      "c:\\ProgramData\\anaconda3\\Lib\\site-packages\\statsmodels\\tsa\\stattools.py:1556: FutureWarning:\n",
      "\n",
      "verbose is deprecated since functions should not print results\n",
      "\n"
     ]
    },
    {
     "data": {
      "application/vnd.plotly.v1+json": {
       "config": {
        "plotlyServerURL": "https://plot.ly"
       },
       "data": [
        {
         "marker": {
          "color": "indianred"
         },
         "name": "New York Yankees",
         "type": "bar",
         "x": {
          "bdata": "AQIDBAUG",
          "dtype": "i1"
         },
         "y": {
          "bdata": "On/RQke05T/nwSZwcvnIPx5Oyn8rtIw/1xb0Wp8mpj9ECSkql83CPzZfFvZzdcM/",
          "dtype": "f8"
         }
        }
       ],
       "layout": {
        "annotations": [
         {
          "showarrow": false,
          "text": "α=0.05",
          "x": 0,
          "xanchor": "left",
          "xref": "x domain",
          "y": 0.05,
          "yanchor": "bottom",
          "yref": "y"
         }
        ],
        "shapes": [
         {
          "line": {
           "dash": "dot"
          },
          "type": "line",
          "x0": 0,
          "x1": 1,
          "xref": "x domain",
          "y0": 0.05,
          "y1": 0.05,
          "yref": "y"
         }
        ],
        "template": {
         "data": {
          "bar": [
           {
            "error_x": {
             "color": "#2a3f5f"
            },
            "error_y": {
             "color": "#2a3f5f"
            },
            "marker": {
             "line": {
              "color": "white",
              "width": 0.5
             },
             "pattern": {
              "fillmode": "overlay",
              "size": 10,
              "solidity": 0.2
             }
            },
            "type": "bar"
           }
          ],
          "barpolar": [
           {
            "marker": {
             "line": {
              "color": "white",
              "width": 0.5
             },
             "pattern": {
              "fillmode": "overlay",
              "size": 10,
              "solidity": 0.2
             }
            },
            "type": "barpolar"
           }
          ],
          "carpet": [
           {
            "aaxis": {
             "endlinecolor": "#2a3f5f",
             "gridcolor": "#C8D4E3",
             "linecolor": "#C8D4E3",
             "minorgridcolor": "#C8D4E3",
             "startlinecolor": "#2a3f5f"
            },
            "baxis": {
             "endlinecolor": "#2a3f5f",
             "gridcolor": "#C8D4E3",
             "linecolor": "#C8D4E3",
             "minorgridcolor": "#C8D4E3",
             "startlinecolor": "#2a3f5f"
            },
            "type": "carpet"
           }
          ],
          "choropleth": [
           {
            "colorbar": {
             "outlinewidth": 0,
             "ticks": ""
            },
            "type": "choropleth"
           }
          ],
          "contour": [
           {
            "colorbar": {
             "outlinewidth": 0,
             "ticks": ""
            },
            "colorscale": [
             [
              0,
              "#0d0887"
             ],
             [
              0.1111111111111111,
              "#46039f"
             ],
             [
              0.2222222222222222,
              "#7201a8"
             ],
             [
              0.3333333333333333,
              "#9c179e"
             ],
             [
              0.4444444444444444,
              "#bd3786"
             ],
             [
              0.5555555555555556,
              "#d8576b"
             ],
             [
              0.6666666666666666,
              "#ed7953"
             ],
             [
              0.7777777777777778,
              "#fb9f3a"
             ],
             [
              0.8888888888888888,
              "#fdca26"
             ],
             [
              1,
              "#f0f921"
             ]
            ],
            "type": "contour"
           }
          ],
          "contourcarpet": [
           {
            "colorbar": {
             "outlinewidth": 0,
             "ticks": ""
            },
            "type": "contourcarpet"
           }
          ],
          "heatmap": [
           {
            "colorbar": {
             "outlinewidth": 0,
             "ticks": ""
            },
            "colorscale": [
             [
              0,
              "#0d0887"
             ],
             [
              0.1111111111111111,
              "#46039f"
             ],
             [
              0.2222222222222222,
              "#7201a8"
             ],
             [
              0.3333333333333333,
              "#9c179e"
             ],
             [
              0.4444444444444444,
              "#bd3786"
             ],
             [
              0.5555555555555556,
              "#d8576b"
             ],
             [
              0.6666666666666666,
              "#ed7953"
             ],
             [
              0.7777777777777778,
              "#fb9f3a"
             ],
             [
              0.8888888888888888,
              "#fdca26"
             ],
             [
              1,
              "#f0f921"
             ]
            ],
            "type": "heatmap"
           }
          ],
          "histogram": [
           {
            "marker": {
             "pattern": {
              "fillmode": "overlay",
              "size": 10,
              "solidity": 0.2
             }
            },
            "type": "histogram"
           }
          ],
          "histogram2d": [
           {
            "colorbar": {
             "outlinewidth": 0,
             "ticks": ""
            },
            "colorscale": [
             [
              0,
              "#0d0887"
             ],
             [
              0.1111111111111111,
              "#46039f"
             ],
             [
              0.2222222222222222,
              "#7201a8"
             ],
             [
              0.3333333333333333,
              "#9c179e"
             ],
             [
              0.4444444444444444,
              "#bd3786"
             ],
             [
              0.5555555555555556,
              "#d8576b"
             ],
             [
              0.6666666666666666,
              "#ed7953"
             ],
             [
              0.7777777777777778,
              "#fb9f3a"
             ],
             [
              0.8888888888888888,
              "#fdca26"
             ],
             [
              1,
              "#f0f921"
             ]
            ],
            "type": "histogram2d"
           }
          ],
          "histogram2dcontour": [
           {
            "colorbar": {
             "outlinewidth": 0,
             "ticks": ""
            },
            "colorscale": [
             [
              0,
              "#0d0887"
             ],
             [
              0.1111111111111111,
              "#46039f"
             ],
             [
              0.2222222222222222,
              "#7201a8"
             ],
             [
              0.3333333333333333,
              "#9c179e"
             ],
             [
              0.4444444444444444,
              "#bd3786"
             ],
             [
              0.5555555555555556,
              "#d8576b"
             ],
             [
              0.6666666666666666,
              "#ed7953"
             ],
             [
              0.7777777777777778,
              "#fb9f3a"
             ],
             [
              0.8888888888888888,
              "#fdca26"
             ],
             [
              1,
              "#f0f921"
             ]
            ],
            "type": "histogram2dcontour"
           }
          ],
          "mesh3d": [
           {
            "colorbar": {
             "outlinewidth": 0,
             "ticks": ""
            },
            "type": "mesh3d"
           }
          ],
          "parcoords": [
           {
            "line": {
             "colorbar": {
              "outlinewidth": 0,
              "ticks": ""
             }
            },
            "type": "parcoords"
           }
          ],
          "pie": [
           {
            "automargin": true,
            "type": "pie"
           }
          ],
          "scatter": [
           {
            "fillpattern": {
             "fillmode": "overlay",
             "size": 10,
             "solidity": 0.2
            },
            "type": "scatter"
           }
          ],
          "scatter3d": [
           {
            "line": {
             "colorbar": {
              "outlinewidth": 0,
              "ticks": ""
             }
            },
            "marker": {
             "colorbar": {
              "outlinewidth": 0,
              "ticks": ""
             }
            },
            "type": "scatter3d"
           }
          ],
          "scattercarpet": [
           {
            "marker": {
             "colorbar": {
              "outlinewidth": 0,
              "ticks": ""
             }
            },
            "type": "scattercarpet"
           }
          ],
          "scattergeo": [
           {
            "marker": {
             "colorbar": {
              "outlinewidth": 0,
              "ticks": ""
             }
            },
            "type": "scattergeo"
           }
          ],
          "scattergl": [
           {
            "marker": {
             "colorbar": {
              "outlinewidth": 0,
              "ticks": ""
             }
            },
            "type": "scattergl"
           }
          ],
          "scattermap": [
           {
            "marker": {
             "colorbar": {
              "outlinewidth": 0,
              "ticks": ""
             }
            },
            "type": "scattermap"
           }
          ],
          "scattermapbox": [
           {
            "marker": {
             "colorbar": {
              "outlinewidth": 0,
              "ticks": ""
             }
            },
            "type": "scattermapbox"
           }
          ],
          "scatterpolar": [
           {
            "marker": {
             "colorbar": {
              "outlinewidth": 0,
              "ticks": ""
             }
            },
            "type": "scatterpolar"
           }
          ],
          "scatterpolargl": [
           {
            "marker": {
             "colorbar": {
              "outlinewidth": 0,
              "ticks": ""
             }
            },
            "type": "scatterpolargl"
           }
          ],
          "scatterternary": [
           {
            "marker": {
             "colorbar": {
              "outlinewidth": 0,
              "ticks": ""
             }
            },
            "type": "scatterternary"
           }
          ],
          "surface": [
           {
            "colorbar": {
             "outlinewidth": 0,
             "ticks": ""
            },
            "colorscale": [
             [
              0,
              "#0d0887"
             ],
             [
              0.1111111111111111,
              "#46039f"
             ],
             [
              0.2222222222222222,
              "#7201a8"
             ],
             [
              0.3333333333333333,
              "#9c179e"
             ],
             [
              0.4444444444444444,
              "#bd3786"
             ],
             [
              0.5555555555555556,
              "#d8576b"
             ],
             [
              0.6666666666666666,
              "#ed7953"
             ],
             [
              0.7777777777777778,
              "#fb9f3a"
             ],
             [
              0.8888888888888888,
              "#fdca26"
             ],
             [
              1,
              "#f0f921"
             ]
            ],
            "type": "surface"
           }
          ],
          "table": [
           {
            "cells": {
             "fill": {
              "color": "#EBF0F8"
             },
             "line": {
              "color": "white"
             }
            },
            "header": {
             "fill": {
              "color": "#C8D4E3"
             },
             "line": {
              "color": "white"
             }
            },
            "type": "table"
           }
          ]
         },
         "layout": {
          "annotationdefaults": {
           "arrowcolor": "#2a3f5f",
           "arrowhead": 0,
           "arrowwidth": 1
          },
          "autotypenumbers": "strict",
          "coloraxis": {
           "colorbar": {
            "outlinewidth": 0,
            "ticks": ""
           }
          },
          "colorscale": {
           "diverging": [
            [
             0,
             "#8e0152"
            ],
            [
             0.1,
             "#c51b7d"
            ],
            [
             0.2,
             "#de77ae"
            ],
            [
             0.3,
             "#f1b6da"
            ],
            [
             0.4,
             "#fde0ef"
            ],
            [
             0.5,
             "#f7f7f7"
            ],
            [
             0.6,
             "#e6f5d0"
            ],
            [
             0.7,
             "#b8e186"
            ],
            [
             0.8,
             "#7fbc41"
            ],
            [
             0.9,
             "#4d9221"
            ],
            [
             1,
             "#276419"
            ]
           ],
           "sequential": [
            [
             0,
             "#0d0887"
            ],
            [
             0.1111111111111111,
             "#46039f"
            ],
            [
             0.2222222222222222,
             "#7201a8"
            ],
            [
             0.3333333333333333,
             "#9c179e"
            ],
            [
             0.4444444444444444,
             "#bd3786"
            ],
            [
             0.5555555555555556,
             "#d8576b"
            ],
            [
             0.6666666666666666,
             "#ed7953"
            ],
            [
             0.7777777777777778,
             "#fb9f3a"
            ],
            [
             0.8888888888888888,
             "#fdca26"
            ],
            [
             1,
             "#f0f921"
            ]
           ],
           "sequentialminus": [
            [
             0,
             "#0d0887"
            ],
            [
             0.1111111111111111,
             "#46039f"
            ],
            [
             0.2222222222222222,
             "#7201a8"
            ],
            [
             0.3333333333333333,
             "#9c179e"
            ],
            [
             0.4444444444444444,
             "#bd3786"
            ],
            [
             0.5555555555555556,
             "#d8576b"
            ],
            [
             0.6666666666666666,
             "#ed7953"
            ],
            [
             0.7777777777777778,
             "#fb9f3a"
            ],
            [
             0.8888888888888888,
             "#fdca26"
            ],
            [
             1,
             "#f0f921"
            ]
           ]
          },
          "colorway": [
           "#636efa",
           "#EF553B",
           "#00cc96",
           "#ab63fa",
           "#FFA15A",
           "#19d3f3",
           "#FF6692",
           "#B6E880",
           "#FF97FF",
           "#FECB52"
          ],
          "font": {
           "color": "#2a3f5f"
          },
          "geo": {
           "bgcolor": "white",
           "lakecolor": "white",
           "landcolor": "white",
           "showlakes": true,
           "showland": true,
           "subunitcolor": "#C8D4E3"
          },
          "hoverlabel": {
           "align": "left"
          },
          "hovermode": "closest",
          "mapbox": {
           "style": "light"
          },
          "paper_bgcolor": "white",
          "plot_bgcolor": "white",
          "polar": {
           "angularaxis": {
            "gridcolor": "#EBF0F8",
            "linecolor": "#EBF0F8",
            "ticks": ""
           },
           "bgcolor": "white",
           "radialaxis": {
            "gridcolor": "#EBF0F8",
            "linecolor": "#EBF0F8",
            "ticks": ""
           }
          },
          "scene": {
           "xaxis": {
            "backgroundcolor": "white",
            "gridcolor": "#DFE8F3",
            "gridwidth": 2,
            "linecolor": "#EBF0F8",
            "showbackground": true,
            "ticks": "",
            "zerolinecolor": "#EBF0F8"
           },
           "yaxis": {
            "backgroundcolor": "white",
            "gridcolor": "#DFE8F3",
            "gridwidth": 2,
            "linecolor": "#EBF0F8",
            "showbackground": true,
            "ticks": "",
            "zerolinecolor": "#EBF0F8"
           },
           "zaxis": {
            "backgroundcolor": "white",
            "gridcolor": "#DFE8F3",
            "gridwidth": 2,
            "linecolor": "#EBF0F8",
            "showbackground": true,
            "ticks": "",
            "zerolinecolor": "#EBF0F8"
           }
          },
          "shapedefaults": {
           "line": {
            "color": "#2a3f5f"
           }
          },
          "ternary": {
           "aaxis": {
            "gridcolor": "#DFE8F3",
            "linecolor": "#A2B1C6",
            "ticks": ""
           },
           "baxis": {
            "gridcolor": "#DFE8F3",
            "linecolor": "#A2B1C6",
            "ticks": ""
           },
           "bgcolor": "white",
           "caxis": {
            "gridcolor": "#DFE8F3",
            "linecolor": "#A2B1C6",
            "ticks": ""
           }
          },
          "title": {
           "x": 0.05
          },
          "xaxis": {
           "automargin": true,
           "gridcolor": "#EBF0F8",
           "linecolor": "#EBF0F8",
           "ticks": "",
           "title": {
            "standoff": 15
           },
           "zerolinecolor": "#EBF0F8",
           "zerolinewidth": 2
          },
          "yaxis": {
           "automargin": true,
           "gridcolor": "#EBF0F8",
           "linecolor": "#EBF0F8",
           "ticks": "",
           "title": {
            "standoff": 15
           },
           "zerolinecolor": "#EBF0F8",
           "zerolinewidth": 2
          }
         }
        },
        "title": {
         "text": "Granger Causality Test: Power → MLB for New York Yankees"
        },
        "xaxis": {
         "title": {
          "text": "Lag"
         }
        },
        "yaxis": {
         "range": [
          0,
          1
         ],
         "title": {
          "text": "p-value"
         }
        }
       }
      }
     },
     "metadata": {},
     "output_type": "display_data"
    },
    {
     "name": "stdout",
     "output_type": "stream",
     "text": [
      "Metadata: {'team_code': 'NYY', 'team_id': 'new-york-yankees', 'label': 'New York Yankees', 'n_obs_raw': 22, 'n_obs_used': 21, 'maxlag_requested': 6, 'maxlag_effective': 6, 'best_lag': 3, 'best_p': 0.014015521848057818, 'is_significant': True, 'alpha': 0.05, 'direction': 'power_to_mlb', 'diff': 'first_difference'}\n"
     ]
    }
   ],
   "source": [
    "import numpy as np\n",
    "import pandas as pd\n",
    "from typing import Dict, Tuple\n",
    "from statsmodels.tsa.stattools import grangercausalitytests\n",
    "\n",
    "def _aligned_power_mlb(\n",
    "    power: pd.DataFrame,\n",
    "    standings: pd.DataFrame,\n",
    "    team_id: str,\n",
    "    team_names: Dict[str, str],\n",
    ") -> pd.DataFrame:\n",
    "    \"\"\"\n",
    "    Align Power and MLB ranks on dates for a given team_id.\n",
    "    Returns columns: ['power','mlb'] indexed by datetime 'date'.\n",
    "    \"\"\"\n",
    "    # Power uses display names\n",
    "    team_name = team_names.get(team_id)\n",
    "    if team_name is None:\n",
    "        raise KeyError(f\"team_id '{team_id}' not found in team_names\")\n",
    "\n",
    "    p = (power.loc[power[\"team\"] == team_name, [\"date\", \"rank\"]]\n",
    "              .assign(date=lambda d: pd.to_datetime(d[\"date\"]))\n",
    "              .sort_values(\"date\")\n",
    "              .set_index(\"date\")\n",
    "              .rename(columns={\"rank\": \"power\"}))\n",
    "\n",
    "    m = (standings.loc[standings[\"team_name\"] == team_id, [\"date\", \"mlb_rank\"]]\n",
    "                 .assign(date=lambda d: pd.to_datetime(d[\"date\"]))\n",
    "                 .sort_values(\"date\")\n",
    "                 .set_index(\"date\")\n",
    "                 .rename(columns={\"mlb_rank\": \"mlb\"}))\n",
    "\n",
    "    df = p.join(m, how=\"inner\").dropna()\n",
    "    df[\"power\"] = pd.to_numeric(df[\"power\"], errors=\"coerce\")\n",
    "    df[\"mlb\"]   = pd.to_numeric(df[\"mlb\"],   errors=\"coerce\")\n",
    "    return df.dropna()\n",
    "\n",
    "\n",
    "def granger_power_to_mlb_report(\n",
    "    power: pd.DataFrame,\n",
    "    standings: pd.DataFrame,\n",
    "    team_names: Dict[str, str],   # team_id -> display name\n",
    "    team_codes: Dict[str, str],   # team_id -> code (e.g., 'TOR')\n",
    "    team_code: str,               # single code to test\n",
    "    maxlag: int = 4,\n",
    "    min_obs: int = 6,\n",
    "    alpha: float = 0.05,          # significance reference (not used in testing)\n",
    ") -> Tuple[pd.DataFrame, Dict]:\n",
    "    \"\"\"\n",
    "    Run Granger test of Power → MLB for one team (first differences).\n",
    "    Returns (df, stats):\n",
    "      df columns: ['lag','p_value','team_code','team_id','label','direction','diff']\n",
    "      stats keys : {'team_code','team_id','label','n_obs_raw','n_obs_used',\n",
    "                    'maxlag_requested','maxlag_effective','best_lag','best_p',\n",
    "                    'is_significant','alpha','direction','diff'}\n",
    "    \"\"\"\n",
    "    # code -> id\n",
    "    code_to_id = {code: tid for tid, code in team_codes.items()}\n",
    "    if team_code not in code_to_id:\n",
    "        raise KeyError(f\"Unknown team code: {team_code}\")\n",
    "    team_id = code_to_id[team_code]\n",
    "    label = team_names.get(team_id, team_code)\n",
    "\n",
    "    # 1) Align series\n",
    "    df = _aligned_power_mlb(power, standings, team_id, team_names)\n",
    "    n_raw = len(df)\n",
    "\n",
    "    # 2) First differences (per your design)\n",
    "    df = df.diff().dropna()\n",
    "    n_used = len(df)\n",
    "\n",
    "    # Early exits on too few observations\n",
    "    stats = {\n",
    "        \"team_code\": team_code,\n",
    "        \"team_id\": team_id,\n",
    "        \"label\": label,\n",
    "        \"n_obs_raw\": int(n_raw),\n",
    "        \"n_obs_used\": int(n_used),\n",
    "        \"maxlag_requested\": int(maxlag),\n",
    "        \"maxlag_effective\": 0,\n",
    "        \"best_lag\": None,\n",
    "        \"best_p\": None,\n",
    "        \"is_significant\": False,\n",
    "        \"alpha\": float(alpha),\n",
    "        \"direction\": \"power_to_mlb\",\n",
    "        \"diff\": \"first_difference\",\n",
    "    }\n",
    "\n",
    "    if n_used < min_obs:\n",
    "        # Not enough data; return empty df with metadata filled\n",
    "        empty_df = pd.DataFrame(columns=[\n",
    "            \"lag\",\"p_value\",\"team_code\",\"team_id\",\"label\",\"direction\",\"diff\"\n",
    "        ])\n",
    "        return empty_df, stats\n",
    "\n",
    "    # 3) Effective maxlag (cap by sample size)\n",
    "    eff_maxlag = int(min(maxlag, max(1, n_used - 3)))\n",
    "    stats[\"maxlag_effective\"] = eff_maxlag\n",
    "\n",
    "    # 4) Run Granger: column 2 (power) causes column 1 (mlb)\n",
    "    arr = df[[\"mlb\", \"power\"]].values\n",
    "    res = grangercausalitytests(arr, maxlag=eff_maxlag, verbose=False)\n",
    "\n",
    "    pvals = [res[lag][0][\"ssr_ftest\"][1] for lag in range(1, eff_maxlag + 1)]\n",
    "\n",
    "    # 5) Build tidy df\n",
    "    out = pd.DataFrame({\n",
    "        \"lag\": np.arange(1, eff_maxlag + 1, dtype=int),\n",
    "        \"p_value\": pvals,\n",
    "    })\n",
    "    out[\"team_code\"] = team_code\n",
    "    out[\"team_id\"]   = team_id\n",
    "    out[\"label\"]     = label\n",
    "    out[\"direction\"] = \"power_to_mlb\"\n",
    "    out[\"diff\"]      = \"first_difference\"\n",
    "\n",
    "    # 6) Scalars\n",
    "    best_idx = int(np.nanargmin(pvals))\n",
    "    best_lag = int(best_idx + 1)\n",
    "    best_p   = float(pvals[best_idx])\n",
    "    stats[\"best_lag\"] = best_lag\n",
    "    stats[\"best_p\"]   = best_p\n",
    "    stats[\"is_significant\"] = bool(best_p < alpha)\n",
    "\n",
    "    return out, stats"
   ]
  },
  {
   "cell_type": "code",
   "execution_count": 23,
   "id": "dbac90e6",
   "metadata": {},
   "outputs": [
    {
     "name": "stdout",
     "output_type": "stream",
     "text": [
      "{'team_a': 'Toronto Blue Jays', 'team_b': 'New York Yankees', 'source': 'power', 'overlap': 22, 'corr_delta': 0.012715513990605411, 'corr_levels': -0.5723574676966809, 'dtw_z': 15.681316110263001, 'dtw_similarity_z': 67.11224146162415, 'avg_abs_rank_gap': 8.136363636363637, 'dtw_raw': 149.0, 'dtw_similarity_raw_0_100': 86.82581786030062}\n"
     ]
    }
   ],
   "source": [
    "import numpy as np\n",
    "import pandas as pd\n",
    "from typing import Dict, Tuple\n",
    "\n",
    "# -- helpers -------------------------------------------------------------\n",
    "\n",
    "def _rank_series_for_team(\n",
    "    power: pd.DataFrame,\n",
    "    standings: pd.DataFrame,\n",
    "    team_id: str,\n",
    "    team_names: Dict[str, str],\n",
    "    use_mlb: bool\n",
    ") -> pd.Series:\n",
    "    \"\"\"\n",
    "    Return time-ordered rank series for team_id.\n",
    "    use_mlb=False -> power['rank'] filtered by display name (power['team'])\n",
    "    use_mlb=True  -> standings['mlb_rank'] filtered by team_id (standings['team_name'])\n",
    "    \"\"\"\n",
    "    if not use_mlb:\n",
    "        team_name = team_names.get(team_id)\n",
    "        if team_name is None:\n",
    "            raise KeyError(f\"team_id '{team_id}' not found in team_names\")\n",
    "        df = power.loc[power[\"team\"] == team_name, [\"date\", \"rank\"]].copy()\n",
    "        val_col = \"rank\"\n",
    "    else:\n",
    "        df = standings.loc[standings[\"team_name\"] == team_id, [\"date\", \"mlb_rank\"]].copy()\n",
    "        val_col = \"mlb_rank\"\n",
    "\n",
    "    if df.empty:\n",
    "        return pd.Series(dtype=float)\n",
    "\n",
    "    df[\"date\"] = pd.to_datetime(df[\"date\"])\n",
    "    df.sort_values(\"date\", inplace=True)\n",
    "    return df.set_index(\"date\")[val_col]\n",
    "\n",
    "\n",
    "def _zscore(x: pd.Series) -> pd.Series:\n",
    "    mu = x.mean()\n",
    "    sd = x.std(ddof=0)\n",
    "    if sd == 0 or np.isnan(sd):\n",
    "        return x * 0.0\n",
    "    return (x - mu) / sd\n",
    "\n",
    "\n",
    "def _dtw_distance_with_steps(a: np.ndarray, b: np.ndarray) -> Tuple[float, int]:\n",
    "    \"\"\"\n",
    "    Basic DTW with L1 cost. Returns (total_distance, path_steps).\n",
    "    \"\"\"\n",
    "    n, m = len(a), len(b)\n",
    "    if n == 0 or m == 0:\n",
    "        return float(\"inf\"), 0\n",
    "    D = np.full((n + 1, m + 1), np.inf)\n",
    "    steps = np.zeros((n + 1, m + 1), dtype=int)\n",
    "    D[0, 0] = 0.0\n",
    "\n",
    "    for i in range(1, n + 1):\n",
    "        ai = a[i - 1]\n",
    "        for j in range(1, m + 1):\n",
    "            cost = abs(ai - b[j - 1])\n",
    "            idx = np.argmin([D[i - 1, j], D[i, j - 1], D[i - 1, j - 1]])\n",
    "            if idx == 0:      # up\n",
    "                D[i, j] = cost + D[i - 1, j]\n",
    "                steps[i, j] = steps[i - 1, j] + 1\n",
    "            elif idx == 1:    # left\n",
    "                D[i, j] = cost + D[i, j - 1]\n",
    "                steps[i, j] = steps[i, j - 1] + 1\n",
    "            else:             # diag\n",
    "                D[i, j] = cost + D[i - 1, j - 1]\n",
    "                steps[i, j] = steps[i - 1, j - 1] + 1\n",
    "\n",
    "    path_steps = steps[n, m] if steps[n, m] > 0 else (n + m)\n",
    "    return float(D[n, m]), int(path_steps)\n",
    "\n",
    "# -- main ---------------------------------------------------------------\n",
    "\n",
    "def compute_trajectory_similarity(\n",
    "    power: pd.DataFrame,\n",
    "    standings: pd.DataFrame,\n",
    "    team_names: Dict[str, str],   # team_id -> display name\n",
    "    team_codes: Dict[str, str],   # team_id -> code (e.g., 'TOR', 'NYY')\n",
    "    team_code_a: str,\n",
    "    team_code_b: str,\n",
    "    use_mlb: bool = False,        # False = Power (default), True = MLB\n",
    "    min_overlap: int = 3,\n",
    "    max_rank_gap_per_step: float = 29.0,  # ranks 1..30 → worst per-step gap ≈ 29\n",
    ") -> Dict[str, float | int | str | None]:\n",
    "    \"\"\"\n",
    "    Compute similarity metrics between two teams' rank trajectories.\n",
    "    Returns a simple dict with the stats you were displaying in the HTML block.\n",
    "    \"\"\"\n",
    "    # code -> id\n",
    "    code_to_id = {code: tid for tid, code in team_codes.items()}\n",
    "    if team_code_a not in code_to_id or team_code_b not in code_to_id:\n",
    "        raise KeyError(\"Unknown team code in inputs.\")\n",
    "\n",
    "    team_id_a = code_to_id[team_code_a]\n",
    "    team_id_b = code_to_id[team_code_b]\n",
    "    label_a   = team_names.get(team_id_a, team_code_a)\n",
    "    label_b   = team_names.get(team_id_b, team_code_b)\n",
    "    src       = \"mlb\" if use_mlb else \"power\"\n",
    "\n",
    "    # 1) Pull series and align on common dates (inner join)\n",
    "    sA = _rank_series_for_team(power, standings, team_id_a, team_names, use_mlb).rename(\"A\")\n",
    "    sB = _rank_series_for_team(power, standings, team_id_b, team_names, use_mlb).rename(\"B\")\n",
    "    df = pd.concat([sA, sB], axis=1, join=\"inner\").dropna()\n",
    "\n",
    "    overlap = int(len(df))\n",
    "    if overlap < min_overlap:\n",
    "        return {\n",
    "            \"team_a\": label_a, \"team_b\": label_b, \"source\": src,\n",
    "            \"overlap\": overlap,\n",
    "            \"corr_delta\": None,\n",
    "            \"corr_levels\": None,\n",
    "            \"dtw_z\": None,\n",
    "            \"dtw_similarity_z\": None,\n",
    "            \"avg_abs_rank_gap\": None,\n",
    "            \"dtw_raw\": None,\n",
    "            \"dtw_similarity_raw_0_100\": None,\n",
    "        }\n",
    "\n",
    "    # 2) Corr of first differences (trajectory co-movement)\n",
    "    dA, dB = df[\"A\"].diff().dropna(), df[\"B\"].diff().dropna()\n",
    "    k = min(len(dA), len(dB))\n",
    "    corr_delta = float(np.corrcoef(dA.iloc[-k:], dB.iloc[-k:])[0, 1]) if k >= 2 else np.nan\n",
    "\n",
    "    # 3) Corr on standardized levels (shape similarity)\n",
    "    Az, Bz = _zscore(df[\"A\"]), _zscore(df[\"B\"])\n",
    "    corr_levels = float(np.corrcoef(Az, Bz)[0, 1]) if len(df) >= 2 else np.nan\n",
    "\n",
    "    # 4) DTW on standardized levels (time-warp tolerant shape)\n",
    "    dtw_z, steps_z = _dtw_distance_with_steps(Az.to_numpy(), Bz.to_numpy())\n",
    "    dtw_similarity_z = 100.0 / (1.0 + (dtw_z / max(steps_z, 1)))\n",
    "\n",
    "    # 5) Human-scale stats on RAW ranks\n",
    "    avg_abs_rank_gap = float((df[\"A\"] - df[\"B\"]).abs().mean())\n",
    "\n",
    "    # 6) DTW on RAW ranks, normalized and mapped to 0–100\n",
    "    dtw_raw, steps_raw = _dtw_distance_with_steps(df[\"A\"].to_numpy(), df[\"B\"].to_numpy())\n",
    "    dtw_raw_per_step = dtw_raw / max(steps_raw, 1)\n",
    "    dtw_similarity_raw = 100.0 * max(0.0, 1.0 - (dtw_raw_per_step / max_rank_gap_per_step))\n",
    "\n",
    "    return {\n",
    "        \"team_a\": label_a,\n",
    "        \"team_b\": label_b,\n",
    "        \"source\": src,\n",
    "        \"overlap\": overlap,\n",
    "        \"corr_delta\": float(corr_delta) if np.isfinite(corr_delta) else None,\n",
    "        \"corr_levels\": float(corr_levels) if np.isfinite(corr_levels) else None,\n",
    "        \"dtw_z\": float(dtw_z),\n",
    "        \"dtw_similarity_z\": float(dtw_similarity_z),\n",
    "        \"avg_abs_rank_gap\": float(avg_abs_rank_gap),\n",
    "        \"dtw_raw\": float(dtw_raw),\n",
    "        \"dtw_similarity_raw_0_100\": float(dtw_similarity_raw),\n",
    "    }\n",
    "\n"
   ]
  },
  {
   "cell_type": "code",
   "execution_count": 25,
   "id": "77502a23",
   "metadata": {},
   "outputs": [
    {
     "name": "stdout",
     "output_type": "stream",
     "text": [
      "   cluster  n_teams  avg_last_mlb_rank  median_last_mlb_rank  made_playoffs  \\\n",
      "0        3        5           5.200000                   5.0              5   \n",
      "1        5        7          10.000000                  11.0              5   \n",
      "2        4        6          16.166667                  18.5              1   \n",
      "3        6        6          17.166667                  16.0              1   \n",
      "4        2        4          26.250000                  26.0              0   \n",
      "5        1        2          29.000000                  29.0              0   \n",
      "\n",
      "   pct_playoffs                                              teams  \n",
      "0      1.000000  boston-redsox, los-angeles-dodgers, new-york-y...  \n",
      "1      0.714286  chicago-cubs, cincinnati-reds, detroit-tigers,...  \n",
      "2      0.166667  arizona-diamondbacks, athletics, atlanta-brave...  \n",
      "3      0.166667  cleveland-guardians, kansas-city-royals, pitts...  \n",
      "4      0.000000  baltimore-orioles, chicago-whitesox, los-angel...  \n",
      "5      0.000000             colorado-rockies, washington-nationals  \n"
     ]
    }
   ],
   "source": [
    "import numpy as np\n",
    "import pandas as pd\n",
    "from sklearn.preprocessing import StandardScaler\n",
    "from scipy.spatial.distance import pdist\n",
    "from scipy.cluster.hierarchy import linkage, fcluster\n",
    "\n",
    "# ---------- helpers (as in your snippet) ----------\n",
    "def _prep(df: pd.DataFrame, prefix: str) -> pd.DataFrame:\n",
    "    assert 'team_name' in df.columns, f\"{prefix}: expected a 'team_name' column\"\n",
    "    df = df.copy()\n",
    "    num_cols = df.select_dtypes(include=[np.number]).columns.tolist()\n",
    "    keep = ['team_name'] + num_cols\n",
    "    df = df[keep]\n",
    "    ren = {c: f\"{prefix}_{c}\" for c in num_cols}\n",
    "    return df.rename(columns=ren)\n",
    "\n",
    "def build_feature_matrix_single(\n",
    "    batting: pd.DataFrame | None = None,\n",
    "    pitching: pd.DataFrame | None = None,\n",
    "    fielding: pd.DataFrame | None = None,\n",
    "    which: str = \"combo\",\n",
    "    use_cols: dict | None = None,\n",
    "    drop_cols_contains: list[str] | None = None,\n",
    "    scale: bool = True\n",
    ") -> tuple[pd.DataFrame, list[str]]:\n",
    "    pieces = []\n",
    "    if which in (\"batting\", \"combo\") and batting is not None:\n",
    "        pieces.append(_prep(batting, \"bat\"))\n",
    "    if which in (\"pitching\", \"combo\") and pitching is not None:\n",
    "        pieces.append(_prep(pitching, \"pit\"))\n",
    "    if which in (\"fielding\", \"combo\") and fielding is not None:\n",
    "        pieces.append(_prep(fielding, \"fld\"))\n",
    "    if not pieces:\n",
    "        raise ValueError(\"No stats provided; pass batting/pitching/fielding and set 'which'.\")\n",
    "\n",
    "    M = pieces[0]\n",
    "    for p in pieces[1:]:\n",
    "        M = M.merge(p, on='team_name', how='inner')\n",
    "\n",
    "    if use_cols:\n",
    "        keep = ['team_name']\n",
    "        if which in (\"batting\", \"combo\") and batting is not None and \"batting\" in use_cols:\n",
    "            keep += [f\"bat_{c}\" for c in use_cols[\"batting\"] if f\"bat_{c}\" in M.columns]\n",
    "        if which in (\"pitching\", \"combo\") and pitching is not None and \"pitching\" in use_cols:\n",
    "            keep += [f\"pit_{c}\" for c in use_cols[\"pitching\"] if f\"pit_{c}\" in M.columns]\n",
    "        if which in (\"fielding\", \"combo\") and fielding is not None and \"fielding\" in use_cols:\n",
    "            keep += [f\"fld_{c}\" for c in use_cols[\"fielding\"] if f\"fld_{c}\" in M.columns]\n",
    "        M = M[[c for c in keep if c in M.columns]]\n",
    "\n",
    "    if drop_cols_contains:\n",
    "        drop_me = [c for c in M.columns if c != \"team_name\" and any(tok in c for tok in drop_cols_contains)]\n",
    "        M = M.drop(columns=drop_me, errors='ignore')\n",
    "\n",
    "    M = M.set_index('team_name')\n",
    "    M = M.apply(lambda col: col.fillna(col.median()), axis=0)\n",
    "\n",
    "    cols_kept = M.columns.tolist()\n",
    "    if scale and cols_kept:\n",
    "        scaler = StandardScaler()\n",
    "        M[cols_kept] = scaler.fit_transform(M[cols_kept])\n",
    "\n",
    "    return M, cols_kept\n",
    "\n",
    "def cluster_teams_stats_single(\n",
    "    M: pd.DataFrame,\n",
    "    k: int = 4,\n",
    "    linkage_method: str = \"ward\",\n",
    "    metric: str = \"euclidean\"\n",
    ") -> pd.DataFrame:\n",
    "    if linkage_method == \"ward\" and metric != \"euclidean\":\n",
    "        raise ValueError(\"Ward linkage requires Euclidean distance.\")\n",
    "    D = pdist(M.values, metric=metric)\n",
    "    Z = linkage(D, method=linkage_method)\n",
    "    labels = fcluster(Z, t=k, criterion='maxclust')\n",
    "    return pd.DataFrame({\"team_name\": M.index.tolist(), \"cluster\": labels})\n",
    "\n",
    "def last_mlb_rank_per_team(standings: pd.DataFrame) -> pd.Series:\n",
    "    s = standings.copy()\n",
    "    s['date'] = pd.to_datetime(s['date'])\n",
    "    s = s.sort_values(['team_name','date'])\n",
    "    last_rank = s.groupby('team_name').tail(1).set_index('team_name')['mlb_rank']\n",
    "    return last_rank\n",
    "\n",
    "def playoff_team_ids_from_odds(odds: pd.DataFrame) -> set:\n",
    "    \"\"\"\n",
    "    Accepts either 'make_playoff_odds' or 'make_playoffs_odds'.\n",
    "    Uses the LAST date; teams with odds >= 1.0 are flagged as playoff teams.\n",
    "    \"\"\"\n",
    "    o = odds.copy()\n",
    "    o['date'] = pd.to_datetime(o['date'])\n",
    "    last_day = o['date'].max()\n",
    "    final = o[o['date'] == last_day]\n",
    "    col = 'make_playoffs_odds' if 'make_playoffs_odds' in final.columns else 'make_playoff_odds'\n",
    "    made = final.loc[final[col] >= 1.0, 'team_name']\n",
    "    return set(made.tolist())\n",
    "\n",
    "def summarize_clusters_by_last_rank(\n",
    "    clusters: pd.DataFrame,\n",
    "    standings: pd.DataFrame,\n",
    "    odds: pd.DataFrame\n",
    ") -> pd.DataFrame:\n",
    "    last_rank = last_mlb_rank_per_team(standings)\n",
    "    playoffs = playoff_team_ids_from_odds(odds)\n",
    "\n",
    "    rows = []\n",
    "    for c, g in clusters.groupby('cluster'):\n",
    "        tm = g['team_name'].tolist()\n",
    "        ranks = last_rank.reindex(tm)\n",
    "        avg_lr = float(ranks.mean())\n",
    "        med_lr = float(ranks.median())\n",
    "        made = sum(1 for t in tm if t in playoffs)\n",
    "        rows.append({\n",
    "            \"cluster\": int(c),\n",
    "            \"n_teams\": int(len(tm)),\n",
    "            \"avg_last_mlb_rank\": avg_lr,\n",
    "            \"median_last_mlb_rank\": med_lr,\n",
    "            \"made_playoffs\": int(made),\n",
    "            \"pct_playoffs\": (made / len(tm)) if len(tm) else np.nan,\n",
    "            \"teams\": \", \".join(tm)\n",
    "        })\n",
    "    out = pd.DataFrame(rows).sort_values(\n",
    "        [\"avg_last_mlb_rank\", \"pct_playoffs\"], ascending=[True, False]\n",
    "    ).reset_index(drop=True)\n",
    "    return out\n",
    "\n",
    "# ---------- one-call pipeline that RETURNS THE DF ----------\n",
    "def cluster_and_summarize_season_stats(\n",
    "    standings: pd.DataFrame,\n",
    "    odds: pd.DataFrame,\n",
    "    batting: pd.DataFrame | None = None,\n",
    "    pitching: pd.DataFrame | None = None,\n",
    "    fielding: pd.DataFrame | None = None,\n",
    "    which: str = \"combo\",\n",
    "    use_cols: dict | None = None,\n",
    "    drop_cols_contains: list[str] | None = None,\n",
    "    scale: bool = True,\n",
    "    k: int = 6,\n",
    "    linkage_method: str = \"ward\",\n",
    "    metric: str = \"euclidean\",\n",
    "    return_intermediates: bool = False\n",
    "):\n",
    "    \"\"\"\n",
    "    Build features -> cluster teams -> summarize by last MLB rank + playoff odds.\n",
    "    Returns the summary DataFrame. If return_intermediates=True, also returns\n",
    "    a dict with the feature matrix, columns, and raw clusters.\n",
    "    \"\"\"\n",
    "    M, feat_cols = build_feature_matrix_single(\n",
    "        batting=batting, pitching=pitching, fielding=fielding,\n",
    "        which=which, use_cols=use_cols,\n",
    "        drop_cols_contains=drop_cols_contains, scale=scale\n",
    "    )\n",
    "    clusters = cluster_teams_stats_single(M, k=k, linkage_method=linkage_method, metric=metric)\n",
    "    summary = summarize_clusters_by_last_rank(clusters, standings, odds)\n",
    "    if not return_intermediates:\n",
    "        return summary\n",
    "    return summary, {\"features\": M, \"feature_columns\": feat_cols, \"clusters\": clusters}\n",
    "\n"
   ]
  },
  {
   "cell_type": "code",
   "execution_count": 29,
   "id": "83137922",
   "metadata": {},
   "outputs": [
    {
     "name": "stdout",
     "output_type": "stream",
     "text": [
      "         date  state     label\n",
      "0  2025-04-13      2       Bad\n",
      "1  2025-04-20      2       Bad\n",
      "2  2025-04-27      2       Bad\n",
      "3  2025-05-04      2       Bad\n",
      "4  2025-05-11      2       Bad\n",
      "5  2025-05-18      2       Bad\n",
      "6  2025-05-25      2       Bad\n",
      "7  2025-06-08      0      Good\n",
      "8  2025-06-15      0      Good\n",
      "9  2025-06-22      0      Good\n",
      "10 2025-06-29      0      Good\n",
      "11 2025-07-06      0      Good\n",
      "12 2025-07-27      0      Good\n",
      "13 2025-08-03      0      Good\n",
      "14 2025-08-10      2       Bad\n",
      "15 2025-08-17      0      Good\n",
      "16 2025-08-24      2       Bad\n",
      "17 2025-09-07      0      Good\n",
      "18 2025-09-14      1  Mediocre\n",
      "19 2025-09-21      2       Bad\n",
      "20 2025-09-28      2       Bad\n"
     ]
    },
    {
     "name": "stderr",
     "output_type": "stream",
     "text": [
      "c:\\ProgramData\\anaconda3\\Lib\\site-packages\\sklearn\\cluster\\_kmeans.py:1419: UserWarning:\n",
      "\n",
      "KMeans is known to have a memory leak on Windows with MKL, when there are less chunks than available threads. You can avoid it by setting the environment variable OMP_NUM_THREADS=1.\n",
      "\n"
     ]
    }
   ],
   "source": [
    "import numpy as np\n",
    "import pandas as pd\n",
    "from sklearn.cluster import KMeans\n",
    "from hmmlearn.hmm import GaussianHMM\n",
    "\n",
    "# ----------------------------- league-aware feature prep -----------------------------\n",
    "def _z_per_date(s: pd.Series) -> pd.Series:\n",
    "    mu = s.mean(); sd = s.std(ddof=0)\n",
    "    return (s - mu) / (sd if (sd and np.isfinite(sd) and sd != 0) else 1.0)\n",
    "\n",
    "def prepare_power_features_for_hmm(power: pd.DataFrame) -> pd.DataFrame:\n",
    "    \"\"\"\n",
    "    Input  power: ['team','date','rank'] with team = display name, rank = numeric, weekly rows.\n",
    "    Output powerx: original + engineered features:\n",
    "        level, d_rank, improve, mom3, level_z, chg_z, mom3_z, level_dev\n",
    "    \"\"\"\n",
    "    powerx = power.copy(deep=True)\n",
    "    powerx['date'] = pd.to_datetime(powerx['date']).dt.tz_localize(None)\n",
    "    powerx['rank'] = pd.to_numeric(powerx['rank'], errors='coerce')\n",
    "    powerx = powerx.dropna(subset=['date', 'rank']).sort_values(['team', 'date'])\n",
    "\n",
    "    powerx['level']   = -powerx['rank']  # higher better\n",
    "    powerx['d_rank']  = powerx.groupby('team')['rank'].diff()\n",
    "    powerx['improve'] = -powerx['d_rank']  # + means improved rank\n",
    "    powerx['mom3']    = (powerx.groupby('team')['improve']\n",
    "                         .rolling(3, min_periods=1).sum()\n",
    "                         .reset_index(level=0, drop=True))\n",
    "\n",
    "    # cross-sectional z by date\n",
    "    powerx['level_z'] = powerx.groupby('date')['level'].transform(_z_per_date)\n",
    "    powerx['chg_z']   = powerx.groupby('date')['improve'].transform(_z_per_date)\n",
    "    powerx['mom3_z']  = (powerx.groupby('date')['mom3'].transform(_z_per_date)\n",
    "                         .fillna(0.0))\n",
    "\n",
    "    # team-relative level deviation (keeps level signal without swamping change)\n",
    "    powerx['level_dev'] = powerx['level_z'] - powerx.groupby('team')['level_z'].transform('mean')\n",
    "    return powerx\n",
    "\n",
    "# ----------------------------- utilities -----------------------------\n",
    "def stationary_power(P: np.ndarray, iters: int = 1000, tol: float = 1e-12) -> np.ndarray:\n",
    "    v = np.ones(P.shape[0]) / P.shape[0]\n",
    "    for _ in range(iters):\n",
    "        v_next = v @ P\n",
    "        if not np.all(np.isfinite(v_next)):\n",
    "            return np.ones_like(v) / v.size\n",
    "        if np.linalg.norm(v_next - v, 1) < tol:\n",
    "            v = v_next; break\n",
    "        v = v_next\n",
    "    s = v.sum()\n",
    "    return v / s if s > 0 else np.ones_like(v) / v.size\n",
    "\n",
    "def _means_init_quantiles(g_fit: pd.DataFrame) -> np.ndarray:\n",
    "    q = g_fit[['level_dev','chg_z','mom3_z']].quantile([0.2, 0.5, 0.8])\n",
    "    mean_good = np.array([q.loc[0.8,'level_dev'], q.loc[0.8,'chg_z'], q.loc[0.8,'mom3_z']])\n",
    "    mean_med  = np.array([q.loc[0.5,'level_dev'], q.loc[0.5,'chg_z'], q.loc[0.5,'mom3_z']])\n",
    "    mean_bad  = np.array([q.loc[0.2,'level_dev'], q.loc[0.2,'chg_z'], q.loc[0.2,'mom3_z']])\n",
    "    return np.vstack([mean_good, mean_med, mean_bad])  # Good, Med, Bad\n",
    "\n",
    "def _means_init_kmeans(X: np.ndarray) -> np.ndarray:\n",
    "    km = KMeans(n_clusters=3, n_init=10, random_state=42, algorithm=\"lloyd\")\n",
    "    labs = km.fit_predict(X)\n",
    "    centers = km.cluster_centers_\n",
    "    # order centers by \"goodness\": change > momentum > level_dev\n",
    "    w = np.array([0.2, 0.5, 0.3])  # [level_dev, chg_z, mom3_z]\n",
    "    order = np.argsort(centers @ w)[::-1]\n",
    "    return centers[order]\n",
    "\n",
    "def _fit_with_init(X: np.ndarray, means_init: np.ndarray) -> GaussianHMM:\n",
    "    cov_floor = 1e-3\n",
    "    cov_init  = np.maximum(np.var(X, axis=0, ddof=1), cov_floor)\n",
    "    covars_init = np.vstack([cov_init, cov_init, cov_init])\n",
    "    stay = 0.85; move = (1.0 - stay) / 2.0\n",
    "    P_init = np.array([[stay, move, move],\n",
    "                       [move, stay, move],\n",
    "                       [move, move, stay]], dtype=float)\n",
    "    pi_init = np.array([1/3, 1/3, 1/3], dtype=float)\n",
    "\n",
    "    hmm = GaussianHMM(\n",
    "        n_components=3,\n",
    "        covariance_type='diag',\n",
    "        n_iter=500,\n",
    "        tol=1e-3,\n",
    "        init_params='',      # we provide all inits\n",
    "        params='stmc'        # learn startprob, transmat, means, covars\n",
    "    )\n",
    "    hmm.startprob_ = pi_init\n",
    "    hmm.transmat_  = P_init\n",
    "    hmm.means_     = means_init\n",
    "    hmm.covars_    = covars_init\n",
    "    hmm.fit(X)\n",
    "    return hmm\n",
    "\n",
    "# ----------------------------- main: fit a single team -----------------------------\n",
    "def fit_team_hmm(\n",
    "    power: pd.DataFrame,\n",
    "    team_code: str,                         # <-- CODE ONLY (e.g., \"NYY\")\n",
    "    team_names: dict,                      # team_id -> display name\n",
    "    team_codes: dict,                      # team_id -> code\n",
    "    power_features: pd.DataFrame | None = None,\n",
    "    min_points: int = 8,\n",
    "    lenient_thresholds: dict | None = None,\n",
    ") -> tuple[pd.DataFrame, dict]:\n",
    "    \"\"\"\n",
    "    Fit a 3-state HMM (Good/Mediocre/Bad) for ONE team selected by CODE.\n",
    "\n",
    "    Returns\n",
    "    -------\n",
    "    states_df : DataFrame ['date','state','label']   (state: Good=0, Mediocre=1, Bad=2)\n",
    "    stats     : dict with\n",
    "                - 'P'     : 3x3 transition matrix (rows→cols: Good, Mediocre, Bad)\n",
    "                - 'pi'    : 1x3 stationary probabilities\n",
    "                - 'means' : 3x3 state means [level_dev, chg_z, mom3_z]\n",
    "                - 'init'  : 'quant' | 'kmeans' | 'fallback'\n",
    "                - 'n_used': int\n",
    "    \"\"\"\n",
    "    # resolve code -> id -> display name (required; no fallbacks)\n",
    "    code_to_id = {code: tid for tid, code in team_codes.items()}\n",
    "    if team_code not in code_to_id:\n",
    "        raise KeyError(f\"Unknown team code: {team_code}\")\n",
    "    team_id = code_to_id[team_code]\n",
    "    if team_id not in team_names:\n",
    "        raise KeyError(f\"team_id '{team_id}' missing from team_names\")\n",
    "    label_team = team_names[team_id]  # this is what power['team'] uses\n",
    "\n",
    "    # thresholds for lenient calibration\n",
    "    thr = {\"TAU\": 0.50, \"ALPHA\": 0.60, \"BETA\": 0.40, \"MIN_ABS\": 0.05}\n",
    "    if lenient_thresholds:\n",
    "        thr.update(lenient_thresholds)\n",
    "\n",
    "    powerx = prepare_power_features_for_hmm(power) if power_features is None else power_features\n",
    "    g = powerx.loc[powerx['team'] == label_team].sort_values('date').copy()\n",
    "\n",
    "    # need prior week for change → drop rows with NaN chg_z\n",
    "    g_fit = g.dropna(subset=['chg_z']).copy()\n",
    "    X = g_fit[['level_dev','chg_z','mom3_z']].to_numpy()\n",
    "    mask = np.isfinite(X).all(axis=1)\n",
    "    if not mask.all():\n",
    "        X = X[mask]; g_fit = g_fit.loc[g_fit.index[mask]]\n",
    "\n",
    "    # ---------- fallback (too few points / zero variance) ----------\n",
    "    if (len(g_fit) < min_points) or (np.nan_to_num(np.std(X, axis=0)).sum() == 0):\n",
    "        q_hi = g_fit['chg_z'].quantile(0.60) if len(g_fit) else 0\n",
    "        q_lo = g_fit['chg_z'].quantile(0.40) if len(g_fit) else 0\n",
    "        lbl = np.where(g_fit['chg_z'] >= q_hi, 'Good',\n",
    "              np.where(g_fit['chg_z'] <= q_lo, 'Bad', 'Mediocre'))\n",
    "        label_order = ['Good','Mediocre','Bad']\n",
    "        state_map = {'Good':0, 'Mediocre':1, 'Bad':2}\n",
    "        states_df = pd.DataFrame({\n",
    "            \"date\": g_fit['date'].values,\n",
    "            \"state\": pd.Index(lbl).map(state_map).to_numpy(),\n",
    "            \"label\": lbl\n",
    "        }).sort_values('date').reset_index(drop=True)\n",
    "\n",
    "        means_df = (g_fit.assign(label=lbl)\n",
    "                    .groupby('label')[['level_dev','chg_z','mom3_z']]\n",
    "                    .mean().reindex(label_order))\n",
    "        P_df = pd.DataFrame(np.nan, index=label_order, columns=label_order)\n",
    "        pi_df = pd.DataFrame([pd.Series(lbl).value_counts(normalize=True)\n",
    "                              .reindex(label_order).fillna(0).values], columns=label_order)\n",
    "        return states_df, {\"P\": P_df, \"pi\": pi_df, \"means\": means_df, \"init\": \"fallback\", \"n_used\": int(len(g_fit))}\n",
    "\n",
    "    # ---------- try both inits; keep best by log-likelihood ----------\n",
    "    best = None\n",
    "    try:\n",
    "        hmm_q = _fit_with_init(X, _means_init_quantiles(g_fit))\n",
    "        best = (\"quant\", hmm_q, hmm_q.score(X))\n",
    "    except Exception:\n",
    "        pass\n",
    "    if len(g_fit) >= 20:\n",
    "        try:\n",
    "            hmm_k = _fit_with_init(X, _means_init_kmeans(X))\n",
    "            score_k = hmm_k.score(X)\n",
    "            if (best is None) or (score_k > best[2]):\n",
    "                best = (\"kmeans\", hmm_k, score_k)\n",
    "        except Exception:\n",
    "            pass\n",
    "    if best is None:\n",
    "        q_hi = g_fit['chg_z'].quantile(0.60)\n",
    "        q_lo = g_fit['chg_z'].quantile(0.40)\n",
    "        lbl = np.where(g_fit['chg_z'] >= q_hi, 'Good',\n",
    "              np.where(g_fit['chg_z'] <= q_lo, 'Bad', 'Mediocre'))\n",
    "        label_order = ['Good','Mediocre','Bad']\n",
    "        state_map = {'Good':0, 'Mediocre':1, 'Bad':2}\n",
    "        states_df = pd.DataFrame({\n",
    "            \"date\": g_fit['date'].values,\n",
    "            \"state\": pd.Index(lbl).map(state_map).to_numpy(),\n",
    "            \"label\": lbl\n",
    "        }).sort_values('date').reset_index(drop=True)\n",
    "\n",
    "        means_df = (g_fit.assign(label=lbl)\n",
    "                    .groupby('label')[['level_dev','chg_z','mom3_z']]\n",
    "                    .mean().reindex(label_order))\n",
    "        P_df = pd.DataFrame(np.nan, index=label_order, columns=label_order)\n",
    "        pi_df = pd.DataFrame([pd.Series(lbl).value_counts(normalize=True)\n",
    "                              .reindex(label_order).fillna(0).values], columns=label_order)\n",
    "        return states_df, {\"P\": P_df, \"pi\": pi_df, \"means\": means_df, \"init\": \"fallback\", \"n_used\": int(len(g_fit))}\n",
    "\n",
    "    tag_source, hmm, _ = best\n",
    "    z = hmm.predict(X)\n",
    "\n",
    "    # ---------- base label ordering by \"goodness\" ----------\n",
    "    base_goodness = 0.5*g_fit['chg_z'] + 0.3*g_fit['mom3_z'] + 0.2*g_fit['level_dev']\n",
    "    order = base_goodness.groupby(z).mean().sort_values(ascending=False).index.tolist()\n",
    "    label_map_by_state = {order[0]:'Good', order[1]:'Mediocre', order[2]:'Bad'}\n",
    "\n",
    "    # ---------- lenient calibration (reduce \"Mediocre\") ----------\n",
    "    TAU, ALPHA, BETA, MIN_ABS = thr[\"TAU\"], thr[\"ALPHA\"], thr[\"BETA\"], thr[\"MIN_ABS\"]\n",
    "    _, post = hmm.score_samples(X)  # posterior per state\n",
    "    sid_by_label = {lab: sid for sid, lab in label_map_by_state.items()}\n",
    "    gid, mid, bid = sid_by_label['Good'], sid_by_label['Mediocre'], sid_by_label['Bad']\n",
    "\n",
    "    s = base_goodness\n",
    "    t_good = max(MIN_ABS, s.quantile(ALPHA))\n",
    "    t_bad  = min(-MIN_ABS, s.quantile(BETA))\n",
    "\n",
    "    new_lbl = pd.Series('Mediocre', index=g_fit.index)\n",
    "    mask_good = ((z == gid) & (post[:, gid] >= TAU)) | (s >= t_good)\n",
    "    mask_bad  = ((z == bid) & (post[:, bid] >= TAU)) | (s <= t_bad)\n",
    "    new_lbl.loc[mask_good] = 'Good'\n",
    "    new_lbl.loc[mask_bad]  = 'Bad'\n",
    "\n",
    "    state_map_fixed = {'Good':0, 'Mediocre':1, 'Bad':2}\n",
    "    states_df = pd.DataFrame({\n",
    "        \"date\": g_fit['date'].values,\n",
    "        \"state\": new_lbl.map(state_map_fixed).astype(int).values,\n",
    "        \"label\": new_lbl.values\n",
    "    }).sort_values('date').reset_index(drop=True)\n",
    "\n",
    "    # ---------- model stats in fixed Good→Mediocre→Bad order ----------\n",
    "    ord_ids = [gid, mid, bid]\n",
    "    P = hmm.transmat_[ord_ids][:, ord_ids]\n",
    "    means = hmm.means_[ord_ids]\n",
    "    pi_vec = stationary_power(P)\n",
    "\n",
    "    fixed_order = ['Good','Mediocre','Bad']\n",
    "    P_df     = pd.DataFrame(P, index=fixed_order, columns=fixed_order)\n",
    "    means_df = pd.DataFrame(means, index=fixed_order, columns=['level_dev','chg_z','mom3_z'])\n",
    "    pi_df    = pd.DataFrame([pi_vec], columns=fixed_order)\n",
    "\n",
    "    return states_df, {\"P\": P_df, \"pi\": pi_df, \"means\": means_df, \"init\": tag_source, \"n_used\": int(len(g_fit))}\n"
   ]
  },
  {
   "cell_type": "code",
   "execution_count": null,
   "id": "3d619ed3",
   "metadata": {},
   "outputs": [],
   "source": []
  },
  {
   "cell_type": "code",
   "execution_count": null,
   "id": "e18706c7",
   "metadata": {},
   "outputs": [],
   "source": []
  }
 ],
 "metadata": {
  "kernelspec": {
   "display_name": "base",
   "language": "python",
   "name": "python3"
  },
  "language_info": {
   "codemirror_mode": {
    "name": "ipython",
    "version": 3
   },
   "file_extension": ".py",
   "mimetype": "text/x-python",
   "name": "python",
   "nbconvert_exporter": "python",
   "pygments_lexer": "ipython3",
   "version": "3.13.5"
  }
 },
 "nbformat": 4,
 "nbformat_minor": 5
}
